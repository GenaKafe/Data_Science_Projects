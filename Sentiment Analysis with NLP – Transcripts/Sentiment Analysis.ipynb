{
 "cells": [
  {
   "cell_type": "markdown",
   "metadata": {},
   "source": [
    "**<h1 style=\"color:cyan\" align=\"left\">Sentiment Analysis with NLP – Transcripts</h1>**\n",
    "\n",
    "\n",
    "There are several famous comedians. \n",
    "\n",
    "our target to know and to find some reasons why 'Ali Wong' is a famous good comedien.\n",
    "The transcript of the file is on the following link: http://scrapsfromtheloft.com/2017/09/19/ali-wong-baby-cobra-2016-full-transcript/\n",
    "\n",
    "This can be achieved by analyzing several critierias, for example:\n",
    "\n",
    "Questions:\n",
    "\n",
    "1. What are the most common 15x top words repeated between comedians ?  (20%)\n",
    "2. What are the number of unique words for each comedian ? (20%)\n",
    "3. How many bad words (fucking, fuck , shit) have been said for each comedian ? (20%)\n",
    "4. Sentiment Analysis ? objectivity, subjectivity and polarity? (40%)\n",
    "5. (optional) speed of speak?\n",
    "\n",
    "Then analyze why 'Ali Wong' is famous.\n",
    "\n",
    "**<h3 style=\"color:yellow\" align=\"left\">Data set</h3>**\n",
    "\n",
    "The dataset is scrapped and prepared in pickle format. To Read this data you need to read the files by pickle.\n",
    "\n",
    "\n",
    "**<h3 style=\"color:yellow\" align=\"left\">Steps</h3>**\n",
    "\n",
    "1. Read the data\n",
    "2. Clean and prepare the data\n",
    "3. Do some Exploratory data analysis (answering the questions above)\n",
    "4. Do Sentiment Analysis\n",
    "5. Get and write down some findings\n",
    "6. Submit the project as as **jupyter notebook** till friday 28.01.2022 15:00"
   ]
  },
  {
   "cell_type": "markdown",
   "metadata": {},
   "source": [
    "**<h3 style=\"color:yellow\" align=\"left\">Reading the Data</h3>**"
   ]
  },
  {
   "cell_type": "code",
   "execution_count": 11,
   "metadata": {},
   "outputs": [
    {
     "name": "stdout",
     "output_type": "stream",
     "text": [
      "dict_keys(['louis', 'dave', 'ricky', 'bo', 'bill', 'jim', 'john', 'hasan', 'ali', 'anthony', 'mike', 'joe'])\n",
      "['Ladies and gentlemen, please welcome to the stage: Ali Wong! Hi. Hello! Welcome! Thank you! Thank you for coming. Hello! Hello. We are gonna have to get this shit over with, ’cause I have to pee in, like, ten minutes. But thank you, everybody, so much for coming.', 'Um… It’s a very exciting day for me. It’s been a very exciting year for me. I turned 33 this year. Yes! Thank you, five people. I appreciate that. Uh, I can tell that I’m getting older, because, now, when I see an 18-year-old girl, my automatic thought… is “Fuck you.” “Fuck you. I don’t even know you, but fuck you!” ‘Cause I’m straight up jealous. I’m jealous, first and foremost, of their metabolism. Because 18-year-old girls, they could just eat like shit, and then they take a shit and have a six-pack, right? They got that-that beautiful inner thigh clearance where they put their feet together and there’s that huge gap here with the light of potential just radiating through.\\nAnd then, when they go to sleep, they just go to sleep. Right? They don’t have insomnia yet. They don’t know what it’s like to have to take a Ambien or download a Meditation Oasis podcast to calm the chatter of regret and resentment towards your family just cluttering your mind. They have their whole lives ahead of them. They don’t have HPV yet. They just go to sleep in peace at night. Everybody has HPV, OK? Everybody has it. It’s OK. Come out already. Everybody has it. If you don’t have it yet, you go and get it. You go and get it. It’s coming. You don’t have HPV yet, you’re a fucking loser, all right? That’s what that says about you. A lot of men don’t know that they have HPV, because it’s undetectable in men. It’s really fucked up. HPV is a ghost that lives inside men’s bodies and says, “Boo!” in women’s bodies. My doctor told me that I have one of two strains of HPV. Either I have the kind that’s gonna turn into cervical cancer… …or I have the kind where my body will heal itself. Very helpful, this doctor, right? So, basically, either I’m gonna die… or you’re in the presence of Wolverine, bitches. We’ll find out.']\n"
     ]
    }
   ],
   "source": [
    "# Comedian names\n",
    "import pickle\n",
    "comedians = ['louis', 'dave', 'ricky', 'bo', 'bill', 'jim', 'john', 'hasan', 'ali', 'anthony', 'mike', 'joe']\n",
    "\n",
    "data = {}  # key: comedian   value: list of transcripts\n",
    "\n",
    "# Load Pickled Files\n",
    "for i, c in enumerate(comedians):\n",
    "    with open(\"transcripts/\" + c + \".txt\", \"rb\") as file:\n",
    "        data[c] = pickle.load(file)\n",
    "\n",
    "# Double Check of the data loaded properly\n",
    "print(data.keys())\n",
    "\n",
    "\n",
    "print(data['ali'][0:2] ) # only two stand-ups"
   ]
  },
  {
   "cell_type": "markdown",
   "metadata": {},
   "source": [
    "**<h3 style=\"color:yellow\" align=\"left\">Imports</h3>**"
   ]
  },
  {
   "cell_type": "code",
   "execution_count": 12,
   "metadata": {},
   "outputs": [],
   "source": [
    "from textblob import TextBlob\n",
    "from textblob.sentiments import NaiveBayesAnalyzer # Sentiment Analysis\n",
    "import string\n",
    "import re\n",
    "import nltk\n",
    "\n",
    "from pathlib import Path \n",
    "from pprint import pprint\n",
    "import string\n",
    "import pandas as pd"
   ]
  },
  {
   "cell_type": "markdown",
   "metadata": {},
   "source": [
    "**<h3 style=\"color:yellow\" align=\"left\">Creating a Data Frame from the transcripts</h3>**"
   ]
  },
  {
   "cell_type": "code",
   "execution_count": 13,
   "metadata": {},
   "outputs": [],
   "source": [
    "# Convert the text to strings and save them to variables\n",
    "data_ali_str = str(data[\"ali\"]).replace(\"\\\\n\",\" \")\n",
    "data_anthony_str = str(data[\"anthony\"]).replace(\"\\\\n\",\" \")\n",
    "data_bill_str = str(data[\"bill\"]).replace(\"\\\\n\",\" \")\n",
    "data_bo_str = str(data[\"bo\"]).replace(\"\\\\n\",\" \")\n",
    "data_dave_str = str(data[\"dave\"]).replace(\"\\\\n\",\" \")\n",
    "data_hasan_str = str(data[\"hasan\"]).replace(\"\\\\n\",\" \")\n",
    "data_jim_str = str(data[\"jim\"]).replace(\"\\\\n\",\" \")\n",
    "data_joe_str = str(data[\"joe\"]).replace(\"\\\\n\",\" \")\n",
    "data_john_str = str(data[\"john\"]).replace(\"\\\\n\",\" \")\n",
    "data_louis_str = str(data[\"louis\"]).replace(\"\\\\n\",\" \")\n",
    "data_mike_str = str(data[\"mike\"]).replace(\"\\\\n\",\" \")\n",
    "data_ricky_str = str(data[\"ricky\"]).replace(\"\\\\n\",\" \")"
   ]
  },
  {
   "cell_type": "code",
   "execution_count": 14,
   "metadata": {},
   "outputs": [],
   "source": [
    "# Save the strings to seperate columns in the data frame\n",
    "data[\"ali\"] = data_ali_str\n",
    "data[\"anthony\"] = data_anthony_str\n",
    "data[\"bill\"] = data_bill_str\n",
    "data[\"bo\"] = data_bo_str\n",
    "data[\"dave\"] = data_dave_str\n",
    "data[\"hasan\"] = data_hasan_str\n",
    "data[\"jim\"] = data_jim_str\n",
    "data[\"joe\"] = data_joe_str\n",
    "data[\"john\"] = data_john_str\n",
    "data[\"louis\"] = data_louis_str\n",
    "data[\"mike\"] = data_mike_str\n",
    "data[\"ricky\"] = data_ricky_str"
   ]
  },
  {
   "cell_type": "code",
   "execution_count": 15,
   "metadata": {},
   "outputs": [
    {
     "data": {
      "text/html": [
       "<div>\n",
       "<style scoped>\n",
       "    .dataframe tbody tr th:only-of-type {\n",
       "        vertical-align: middle;\n",
       "    }\n",
       "\n",
       "    .dataframe tbody tr th {\n",
       "        vertical-align: top;\n",
       "    }\n",
       "\n",
       "    .dataframe thead th {\n",
       "        text-align: right;\n",
       "    }\n",
       "</style>\n",
       "<table border=\"1\" class=\"dataframe\">\n",
       "  <thead>\n",
       "    <tr style=\"text-align: right;\">\n",
       "      <th></th>\n",
       "      <th>name</th>\n",
       "      <th>text</th>\n",
       "    </tr>\n",
       "  </thead>\n",
       "  <tbody>\n",
       "    <tr>\n",
       "      <th>0</th>\n",
       "      <td>louis</td>\n",
       "      <td>['Intro Fade the music out. Let’s roll. Hold t...</td>\n",
       "    </tr>\n",
       "    <tr>\n",
       "      <th>1</th>\n",
       "      <td>dave</td>\n",
       "      <td>['This is Dave. He tells dirty jokes for a liv...</td>\n",
       "    </tr>\n",
       "    <tr>\n",
       "      <th>2</th>\n",
       "      <td>ricky</td>\n",
       "      <td>['Hello. Hello! How you doing? Great. Thank yo...</td>\n",
       "    </tr>\n",
       "    <tr>\n",
       "      <th>3</th>\n",
       "      <td>bo</td>\n",
       "      <td>['Bo What? Old MacDonald had a farm E I E I O ...</td>\n",
       "    </tr>\n",
       "    <tr>\n",
       "      <th>4</th>\n",
       "      <td>bill</td>\n",
       "      <td>['[cheers and applause] All right, thank you! ...</td>\n",
       "    </tr>\n",
       "  </tbody>\n",
       "</table>\n",
       "</div>"
      ],
      "text/plain": [
       "    name                                               text\n",
       "0  louis  ['Intro Fade the music out. Let’s roll. Hold t...\n",
       "1   dave  ['This is Dave. He tells dirty jokes for a liv...\n",
       "2  ricky  ['Hello. Hello! How you doing? Great. Thank yo...\n",
       "3     bo  ['Bo What? Old MacDonald had a farm E I E I O ...\n",
       "4   bill  ['[cheers and applause] All right, thank you! ..."
      ]
     },
     "execution_count": 15,
     "metadata": {},
     "output_type": "execute_result"
    }
   ],
   "source": [
    "# Create the data frame with two columns for comedian and their routine (\"name\" and \"text\") \n",
    "combined_df = pd.DataFrame(data.items(), columns=['name', 'text'])\n",
    "\n",
    "dataset = combined_df\n",
    "dataset.head()"
   ]
  },
  {
   "cell_type": "markdown",
   "metadata": {},
   "source": [
    "**<h3 style=\"color:yellow\" align=\"left\">Punctuation Removal</h3>**"
   ]
  },
  {
   "cell_type": "code",
   "execution_count": 16,
   "metadata": {},
   "outputs": [
    {
     "data": {
      "text/html": [
       "<div>\n",
       "<style scoped>\n",
       "    .dataframe tbody tr th:only-of-type {\n",
       "        vertical-align: middle;\n",
       "    }\n",
       "\n",
       "    .dataframe tbody tr th {\n",
       "        vertical-align: top;\n",
       "    }\n",
       "\n",
       "    .dataframe thead th {\n",
       "        text-align: right;\n",
       "    }\n",
       "</style>\n",
       "<table border=\"1\" class=\"dataframe\">\n",
       "  <thead>\n",
       "    <tr style=\"text-align: right;\">\n",
       "      <th></th>\n",
       "      <th>name</th>\n",
       "      <th>text</th>\n",
       "      <th>text_nopunct</th>\n",
       "    </tr>\n",
       "  </thead>\n",
       "  <tbody>\n",
       "    <tr>\n",
       "      <th>0</th>\n",
       "      <td>louis</td>\n",
       "      <td>['Intro Fade the music out. Let’s roll. Hold t...</td>\n",
       "      <td>Intro Fade the music out Let’s roll Hold there...</td>\n",
       "    </tr>\n",
       "    <tr>\n",
       "      <th>1</th>\n",
       "      <td>dave</td>\n",
       "      <td>['This is Dave. He tells dirty jokes for a liv...</td>\n",
       "      <td>This is Dave He tells dirty jokes for a living...</td>\n",
       "    </tr>\n",
       "    <tr>\n",
       "      <th>2</th>\n",
       "      <td>ricky</td>\n",
       "      <td>['Hello. Hello! How you doing? Great. Thank yo...</td>\n",
       "      <td>Hello Hello How you doing Great Thank you Wow ...</td>\n",
       "    </tr>\n",
       "    <tr>\n",
       "      <th>3</th>\n",
       "      <td>bo</td>\n",
       "      <td>['Bo What? Old MacDonald had a farm E I E I O ...</td>\n",
       "      <td>Bo What Old MacDonald had a farm E I E I O And...</td>\n",
       "    </tr>\n",
       "    <tr>\n",
       "      <th>4</th>\n",
       "      <td>bill</td>\n",
       "      <td>['[cheers and applause] All right, thank you! ...</td>\n",
       "      <td>cheers and applause All right thank you Thank ...</td>\n",
       "    </tr>\n",
       "  </tbody>\n",
       "</table>\n",
       "</div>"
      ],
      "text/plain": [
       "    name                                               text  \\\n",
       "0  louis  ['Intro Fade the music out. Let’s roll. Hold t...   \n",
       "1   dave  ['This is Dave. He tells dirty jokes for a liv...   \n",
       "2  ricky  ['Hello. Hello! How you doing? Great. Thank yo...   \n",
       "3     bo  ['Bo What? Old MacDonald had a farm E I E I O ...   \n",
       "4   bill  ['[cheers and applause] All right, thank you! ...   \n",
       "\n",
       "                                        text_nopunct  \n",
       "0  Intro Fade the music out Let’s roll Hold there...  \n",
       "1  This is Dave He tells dirty jokes for a living...  \n",
       "2  Hello Hello How you doing Great Thank you Wow ...  \n",
       "3  Bo What Old MacDonald had a farm E I E I O And...  \n",
       "4  cheers and applause All right thank you Thank ...  "
      ]
     },
     "execution_count": 16,
     "metadata": {},
     "output_type": "execute_result"
    }
   ],
   "source": [
    "def remove_punctuation(txt):\n",
    "    txt_nopunct = \"\".join([char for char in txt if char not in string.punctuation])\n",
    "\n",
    "    return txt_nopunct\n",
    "\n",
    "dataset[\"text_nopunct\"] = dataset[\"text\"].apply(lambda x:remove_punctuation(x))\n",
    "dataset.head()"
   ]
  },
  {
   "cell_type": "markdown",
   "metadata": {},
   "source": [
    "**<h3 style=\"color:yellow\" align=\"left\">Tokenizing (using REGEX) and lowering</h3>**\n",
    "\n",
    "\n",
    "NLTK contains a module called tokenize() which further classifies into two sub-categories: Word tokenize: We use the word_tokenize() method to split a sentence into tokens or words."
   ]
  },
  {
   "cell_type": "code",
   "execution_count": 17,
   "metadata": {},
   "outputs": [
    {
     "data": {
      "text/html": [
       "<div>\n",
       "<style scoped>\n",
       "    .dataframe tbody tr th:only-of-type {\n",
       "        vertical-align: middle;\n",
       "    }\n",
       "\n",
       "    .dataframe tbody tr th {\n",
       "        vertical-align: top;\n",
       "    }\n",
       "\n",
       "    .dataframe thead th {\n",
       "        text-align: right;\n",
       "    }\n",
       "</style>\n",
       "<table border=\"1\" class=\"dataframe\">\n",
       "  <thead>\n",
       "    <tr style=\"text-align: right;\">\n",
       "      <th></th>\n",
       "      <th>name</th>\n",
       "      <th>text</th>\n",
       "      <th>text_nopunct</th>\n",
       "      <th>text_tokens</th>\n",
       "    </tr>\n",
       "  </thead>\n",
       "  <tbody>\n",
       "    <tr>\n",
       "      <th>0</th>\n",
       "      <td>louis</td>\n",
       "      <td>['Intro Fade the music out. Let’s roll. Hold t...</td>\n",
       "      <td>Intro Fade the music out Let’s roll Hold there...</td>\n",
       "      <td>[intro, fade, the, music, out, let, s, roll, h...</td>\n",
       "    </tr>\n",
       "    <tr>\n",
       "      <th>1</th>\n",
       "      <td>dave</td>\n",
       "      <td>['This is Dave. He tells dirty jokes for a liv...</td>\n",
       "      <td>This is Dave He tells dirty jokes for a living...</td>\n",
       "      <td>[this, is, dave, he, tells, dirty, jokes, for,...</td>\n",
       "    </tr>\n",
       "    <tr>\n",
       "      <th>2</th>\n",
       "      <td>ricky</td>\n",
       "      <td>['Hello. Hello! How you doing? Great. Thank yo...</td>\n",
       "      <td>Hello Hello How you doing Great Thank you Wow ...</td>\n",
       "      <td>[hello, hello, how, you, doing, great, thank, ...</td>\n",
       "    </tr>\n",
       "    <tr>\n",
       "      <th>3</th>\n",
       "      <td>bo</td>\n",
       "      <td>['Bo What? Old MacDonald had a farm E I E I O ...</td>\n",
       "      <td>Bo What Old MacDonald had a farm E I E I O And...</td>\n",
       "      <td>[bo, what, old, macdonald, had, a, farm, e, i,...</td>\n",
       "    </tr>\n",
       "    <tr>\n",
       "      <th>4</th>\n",
       "      <td>bill</td>\n",
       "      <td>['[cheers and applause] All right, thank you! ...</td>\n",
       "      <td>cheers and applause All right thank you Thank ...</td>\n",
       "      <td>[cheers, and, applause, all, right, thank, you...</td>\n",
       "    </tr>\n",
       "  </tbody>\n",
       "</table>\n",
       "</div>"
      ],
      "text/plain": [
       "    name                                               text  \\\n",
       "0  louis  ['Intro Fade the music out. Let’s roll. Hold t...   \n",
       "1   dave  ['This is Dave. He tells dirty jokes for a liv...   \n",
       "2  ricky  ['Hello. Hello! How you doing? Great. Thank yo...   \n",
       "3     bo  ['Bo What? Old MacDonald had a farm E I E I O ...   \n",
       "4   bill  ['[cheers and applause] All right, thank you! ...   \n",
       "\n",
       "                                        text_nopunct  \\\n",
       "0  Intro Fade the music out Let’s roll Hold there...   \n",
       "1  This is Dave He tells dirty jokes for a living...   \n",
       "2  Hello Hello How you doing Great Thank you Wow ...   \n",
       "3  Bo What Old MacDonald had a farm E I E I O And...   \n",
       "4  cheers and applause All right thank you Thank ...   \n",
       "\n",
       "                                         text_tokens  \n",
       "0  [intro, fade, the, music, out, let, s, roll, h...  \n",
       "1  [this, is, dave, he, tells, dirty, jokes, for,...  \n",
       "2  [hello, hello, how, you, doing, great, thank, ...  \n",
       "3  [bo, what, old, macdonald, had, a, farm, e, i,...  \n",
       "4  [cheers, and, applause, all, right, thank, you...  "
      ]
     },
     "execution_count": 17,
     "metadata": {},
     "output_type": "execute_result"
    }
   ],
   "source": [
    "def tokenize(txt):\n",
    "    tokens = re.split(\"\\W+\", txt) # Split on all NON-Words, +: means one ore more charachters\n",
    "    return tokens\n",
    "\n",
    "dataset[\"text_tokens\"] = dataset[\"text_nopunct\"].apply(lambda x: tokenize(x.lower()))\n",
    "\n",
    "dataset.head()"
   ]
  },
  {
   "cell_type": "markdown",
   "metadata": {},
   "source": [
    "**<h3 style=\"color:yellow\" align=\"left\">Stop Word Removal</h3>**\n",
    "\n",
    "\n",
    "Examples of stop words in English are “a”, “the”, “is”, “are” and etc. Stop words are commonly used in Text Mining and\n",
    "\n",
    "\n",
    "\n",
    "Natural Language Processing (NLP) to eliminate words that are so commonly used that they carry very little useful information"
   ]
  },
  {
   "cell_type": "code",
   "execution_count": 18,
   "metadata": {},
   "outputs": [
    {
     "data": {
      "text/html": [
       "<div>\n",
       "<style scoped>\n",
       "    .dataframe tbody tr th:only-of-type {\n",
       "        vertical-align: middle;\n",
       "    }\n",
       "\n",
       "    .dataframe tbody tr th {\n",
       "        vertical-align: top;\n",
       "    }\n",
       "\n",
       "    .dataframe thead th {\n",
       "        text-align: right;\n",
       "    }\n",
       "</style>\n",
       "<table border=\"1\" class=\"dataframe\">\n",
       "  <thead>\n",
       "    <tr style=\"text-align: right;\">\n",
       "      <th></th>\n",
       "      <th>name</th>\n",
       "      <th>text</th>\n",
       "      <th>text_nopunct</th>\n",
       "      <th>text_tokens</th>\n",
       "      <th>text_nostopw</th>\n",
       "    </tr>\n",
       "  </thead>\n",
       "  <tbody>\n",
       "    <tr>\n",
       "      <th>0</th>\n",
       "      <td>louis</td>\n",
       "      <td>['Intro Fade the music out. Let’s roll. Hold t...</td>\n",
       "      <td>Intro Fade the music out Let’s roll Hold there...</td>\n",
       "      <td>[intro, fade, the, music, out, let, s, roll, h...</td>\n",
       "      <td>[intro, fade, music, let, roll, hold, lights, ...</td>\n",
       "    </tr>\n",
       "    <tr>\n",
       "      <th>1</th>\n",
       "      <td>dave</td>\n",
       "      <td>['This is Dave. He tells dirty jokes for a liv...</td>\n",
       "      <td>This is Dave He tells dirty jokes for a living...</td>\n",
       "      <td>[this, is, dave, he, tells, dirty, jokes, for,...</td>\n",
       "      <td>[dave, tells, dirty, jokes, living, stare, har...</td>\n",
       "    </tr>\n",
       "    <tr>\n",
       "      <th>2</th>\n",
       "      <td>ricky</td>\n",
       "      <td>['Hello. Hello! How you doing? Great. Thank yo...</td>\n",
       "      <td>Hello Hello How you doing Great Thank you Wow ...</td>\n",
       "      <td>[hello, hello, how, you, doing, great, thank, ...</td>\n",
       "      <td>[hello, hello, great, thank, wow, calm, shut, ...</td>\n",
       "    </tr>\n",
       "    <tr>\n",
       "      <th>3</th>\n",
       "      <td>bo</td>\n",
       "      <td>['Bo What? Old MacDonald had a farm E I E I O ...</td>\n",
       "      <td>Bo What Old MacDonald had a farm E I E I O And...</td>\n",
       "      <td>[bo, what, old, macdonald, had, a, farm, e, i,...</td>\n",
       "      <td>[bo, old, macdonald, farm, e, e, farm, pig, e,...</td>\n",
       "    </tr>\n",
       "    <tr>\n",
       "      <th>4</th>\n",
       "      <td>bill</td>\n",
       "      <td>['[cheers and applause] All right, thank you! ...</td>\n",
       "      <td>cheers and applause All right thank you Thank ...</td>\n",
       "      <td>[cheers, and, applause, all, right, thank, you...</td>\n",
       "      <td>[cheers, applause, right, thank, thank, much, ...</td>\n",
       "    </tr>\n",
       "  </tbody>\n",
       "</table>\n",
       "</div>"
      ],
      "text/plain": [
       "    name                                               text  \\\n",
       "0  louis  ['Intro Fade the music out. Let’s roll. Hold t...   \n",
       "1   dave  ['This is Dave. He tells dirty jokes for a liv...   \n",
       "2  ricky  ['Hello. Hello! How you doing? Great. Thank yo...   \n",
       "3     bo  ['Bo What? Old MacDonald had a farm E I E I O ...   \n",
       "4   bill  ['[cheers and applause] All right, thank you! ...   \n",
       "\n",
       "                                        text_nopunct  \\\n",
       "0  Intro Fade the music out Let’s roll Hold there...   \n",
       "1  This is Dave He tells dirty jokes for a living...   \n",
       "2  Hello Hello How you doing Great Thank you Wow ...   \n",
       "3  Bo What Old MacDonald had a farm E I E I O And...   \n",
       "4  cheers and applause All right thank you Thank ...   \n",
       "\n",
       "                                         text_tokens  \\\n",
       "0  [intro, fade, the, music, out, let, s, roll, h...   \n",
       "1  [this, is, dave, he, tells, dirty, jokes, for,...   \n",
       "2  [hello, hello, how, you, doing, great, thank, ...   \n",
       "3  [bo, what, old, macdonald, had, a, farm, e, i,...   \n",
       "4  [cheers, and, applause, all, right, thank, you...   \n",
       "\n",
       "                                        text_nostopw  \n",
       "0  [intro, fade, music, let, roll, hold, lights, ...  \n",
       "1  [dave, tells, dirty, jokes, living, stare, har...  \n",
       "2  [hello, hello, great, thank, wow, calm, shut, ...  \n",
       "3  [bo, old, macdonald, farm, e, e, farm, pig, e,...  \n",
       "4  [cheers, applause, right, thank, thank, much, ...  "
      ]
     },
     "execution_count": 18,
     "metadata": {},
     "output_type": "execute_result"
    }
   ],
   "source": [
    "stopwords = nltk.corpus.stopwords.words(\"english\")\n",
    "\n",
    "def remove_stopwords(txt):\n",
    "    txt_clean = [word for word in txt if word not in stopwords]\n",
    "    return txt_clean\n",
    "\n",
    "dataset[\"text_nostopw\"] = dataset[\"text_tokens\"].apply(lambda x: remove_stopwords(x))\n",
    "dataset.head()"
   ]
  },
  {
   "cell_type": "markdown",
   "metadata": {},
   "source": [
    "**<h3 style=\"color:yellow\" align=\"left\">Lemmatizer</h3>**\n",
    "\n",
    "\n",
    "It helps in returning the base or dictionary form of a word, which is known as the lemma."
   ]
  },
  {
   "cell_type": "code",
   "execution_count": 19,
   "metadata": {},
   "outputs": [
    {
     "data": {
      "text/html": [
       "<div>\n",
       "<style scoped>\n",
       "    .dataframe tbody tr th:only-of-type {\n",
       "        vertical-align: middle;\n",
       "    }\n",
       "\n",
       "    .dataframe tbody tr th {\n",
       "        vertical-align: top;\n",
       "    }\n",
       "\n",
       "    .dataframe thead th {\n",
       "        text-align: right;\n",
       "    }\n",
       "</style>\n",
       "<table border=\"1\" class=\"dataframe\">\n",
       "  <thead>\n",
       "    <tr style=\"text-align: right;\">\n",
       "      <th></th>\n",
       "      <th>name</th>\n",
       "      <th>text</th>\n",
       "      <th>text_nopunct</th>\n",
       "      <th>text_tokens</th>\n",
       "      <th>text_nostopw</th>\n",
       "      <th>lemmatized</th>\n",
       "    </tr>\n",
       "  </thead>\n",
       "  <tbody>\n",
       "    <tr>\n",
       "      <th>0</th>\n",
       "      <td>louis</td>\n",
       "      <td>['Intro Fade the music out. Let’s roll. Hold t...</td>\n",
       "      <td>Intro Fade the music out Let’s roll Hold there...</td>\n",
       "      <td>[intro, fade, the, music, out, let, s, roll, h...</td>\n",
       "      <td>[intro, fade, music, let, roll, hold, lights, ...</td>\n",
       "      <td>[intro, fade, music, let, roll, hold, light, l...</td>\n",
       "    </tr>\n",
       "    <tr>\n",
       "      <th>1</th>\n",
       "      <td>dave</td>\n",
       "      <td>['This is Dave. He tells dirty jokes for a liv...</td>\n",
       "      <td>This is Dave He tells dirty jokes for a living...</td>\n",
       "      <td>[this, is, dave, he, tells, dirty, jokes, for,...</td>\n",
       "      <td>[dave, tells, dirty, jokes, living, stare, har...</td>\n",
       "      <td>[dave, tell, dirty, joke, living, stare, hard,...</td>\n",
       "    </tr>\n",
       "    <tr>\n",
       "      <th>2</th>\n",
       "      <td>ricky</td>\n",
       "      <td>['Hello. Hello! How you doing? Great. Thank yo...</td>\n",
       "      <td>Hello Hello How you doing Great Thank you Wow ...</td>\n",
       "      <td>[hello, hello, how, you, doing, great, thank, ...</td>\n",
       "      <td>[hello, hello, great, thank, wow, calm, shut, ...</td>\n",
       "      <td>[hello, hello, great, thank, wow, calm, shut, ...</td>\n",
       "    </tr>\n",
       "    <tr>\n",
       "      <th>3</th>\n",
       "      <td>bo</td>\n",
       "      <td>['Bo What? Old MacDonald had a farm E I E I O ...</td>\n",
       "      <td>Bo What Old MacDonald had a farm E I E I O And...</td>\n",
       "      <td>[bo, what, old, macdonald, had, a, farm, e, i,...</td>\n",
       "      <td>[bo, old, macdonald, farm, e, e, farm, pig, e,...</td>\n",
       "      <td>[bo, old, macdonald, farm, e, e, farm, pig, e,...</td>\n",
       "    </tr>\n",
       "    <tr>\n",
       "      <th>4</th>\n",
       "      <td>bill</td>\n",
       "      <td>['[cheers and applause] All right, thank you! ...</td>\n",
       "      <td>cheers and applause All right thank you Thank ...</td>\n",
       "      <td>[cheers, and, applause, all, right, thank, you...</td>\n",
       "      <td>[cheers, applause, right, thank, thank, much, ...</td>\n",
       "      <td>[cheer, applause, right, thank, thank, much, t...</td>\n",
       "    </tr>\n",
       "    <tr>\n",
       "      <th>5</th>\n",
       "      <td>jim</td>\n",
       "      <td>['[Car horn honks] [Audience cheering] [Announ...</td>\n",
       "      <td>Car horn honks Audience cheering Announcer Lad...</td>\n",
       "      <td>[car, horn, honks, audience, cheering, announc...</td>\n",
       "      <td>[car, horn, honks, audience, cheering, announc...</td>\n",
       "      <td>[car, horn, honk, audience, cheering, announce...</td>\n",
       "    </tr>\n",
       "    <tr>\n",
       "      <th>6</th>\n",
       "      <td>john</td>\n",
       "      <td>['All right, Petunia. Wish me luck out there. ...</td>\n",
       "      <td>All right Petunia Wish me luck out there You w...</td>\n",
       "      <td>[all, right, petunia, wish, me, luck, out, the...</td>\n",
       "      <td>[right, petunia, wish, luck, die, august, 7th,...</td>\n",
       "      <td>[right, petunia, wish, luck, die, august, 7th,...</td>\n",
       "    </tr>\n",
       "    <tr>\n",
       "      <th>7</th>\n",
       "      <td>hasan</td>\n",
       "      <td>['[theme music: orchestral hip-hop] [crowd roa...</td>\n",
       "      <td>theme music orchestral hiphop crowd roars What...</td>\n",
       "      <td>[theme, music, orchestral, hiphop, crowd, roar...</td>\n",
       "      <td>[theme, music, orchestral, hiphop, crowd, roar...</td>\n",
       "      <td>[theme, music, orchestral, hiphop, crowd, roar...</td>\n",
       "    </tr>\n",
       "    <tr>\n",
       "      <th>8</th>\n",
       "      <td>ali</td>\n",
       "      <td>['Ladies and gentlemen, please welcome to the ...</td>\n",
       "      <td>Ladies and gentlemen please welcome to the sta...</td>\n",
       "      <td>[ladies, and, gentlemen, please, welcome, to, ...</td>\n",
       "      <td>[ladies, gentlemen, please, welcome, stage, al...</td>\n",
       "      <td>[lady, gentleman, please, welcome, stage, ali,...</td>\n",
       "    </tr>\n",
       "    <tr>\n",
       "      <th>9</th>\n",
       "      <td>anthony</td>\n",
       "      <td>['Thank you. Thank you. Thank you, San Francis...</td>\n",
       "      <td>Thank you Thank you Thank you San Francisco Th...</td>\n",
       "      <td>[thank, you, thank, you, thank, you, san, fran...</td>\n",
       "      <td>[thank, thank, thank, san, francisco, thank, m...</td>\n",
       "      <td>[thank, thank, thank, san, francisco, thank, m...</td>\n",
       "    </tr>\n",
       "    <tr>\n",
       "      <th>10</th>\n",
       "      <td>mike</td>\n",
       "      <td>['Wow. Hey, thank you. Thanks. Thank you, guys...</td>\n",
       "      <td>Wow Hey thank you Thanks Thank you guys Hey Se...</td>\n",
       "      <td>[wow, hey, thank, you, thanks, thank, you, guy...</td>\n",
       "      <td>[wow, hey, thank, thanks, thank, guys, hey, se...</td>\n",
       "      <td>[wow, hey, thank, thanks, thank, guy, hey, sea...</td>\n",
       "    </tr>\n",
       "    <tr>\n",
       "      <th>11</th>\n",
       "      <td>joe</td>\n",
       "      <td>['[rock music playing] [audience cheering] [an...</td>\n",
       "      <td>rock music playing audience cheering announcer...</td>\n",
       "      <td>[rock, music, playing, audience, cheering, ann...</td>\n",
       "      <td>[rock, music, playing, audience, cheering, ann...</td>\n",
       "      <td>[rock, music, playing, audience, cheering, ann...</td>\n",
       "    </tr>\n",
       "  </tbody>\n",
       "</table>\n",
       "</div>"
      ],
      "text/plain": [
       "       name                                               text  \\\n",
       "0     louis  ['Intro Fade the music out. Let’s roll. Hold t...   \n",
       "1      dave  ['This is Dave. He tells dirty jokes for a liv...   \n",
       "2     ricky  ['Hello. Hello! How you doing? Great. Thank yo...   \n",
       "3        bo  ['Bo What? Old MacDonald had a farm E I E I O ...   \n",
       "4      bill  ['[cheers and applause] All right, thank you! ...   \n",
       "5       jim  ['[Car horn honks] [Audience cheering] [Announ...   \n",
       "6      john  ['All right, Petunia. Wish me luck out there. ...   \n",
       "7     hasan  ['[theme music: orchestral hip-hop] [crowd roa...   \n",
       "8       ali  ['Ladies and gentlemen, please welcome to the ...   \n",
       "9   anthony  ['Thank you. Thank you. Thank you, San Francis...   \n",
       "10     mike  ['Wow. Hey, thank you. Thanks. Thank you, guys...   \n",
       "11      joe  ['[rock music playing] [audience cheering] [an...   \n",
       "\n",
       "                                         text_nopunct  \\\n",
       "0   Intro Fade the music out Let’s roll Hold there...   \n",
       "1   This is Dave He tells dirty jokes for a living...   \n",
       "2   Hello Hello How you doing Great Thank you Wow ...   \n",
       "3   Bo What Old MacDonald had a farm E I E I O And...   \n",
       "4   cheers and applause All right thank you Thank ...   \n",
       "5   Car horn honks Audience cheering Announcer Lad...   \n",
       "6   All right Petunia Wish me luck out there You w...   \n",
       "7   theme music orchestral hiphop crowd roars What...   \n",
       "8   Ladies and gentlemen please welcome to the sta...   \n",
       "9   Thank you Thank you Thank you San Francisco Th...   \n",
       "10  Wow Hey thank you Thanks Thank you guys Hey Se...   \n",
       "11  rock music playing audience cheering announcer...   \n",
       "\n",
       "                                          text_tokens  \\\n",
       "0   [intro, fade, the, music, out, let, s, roll, h...   \n",
       "1   [this, is, dave, he, tells, dirty, jokes, for,...   \n",
       "2   [hello, hello, how, you, doing, great, thank, ...   \n",
       "3   [bo, what, old, macdonald, had, a, farm, e, i,...   \n",
       "4   [cheers, and, applause, all, right, thank, you...   \n",
       "5   [car, horn, honks, audience, cheering, announc...   \n",
       "6   [all, right, petunia, wish, me, luck, out, the...   \n",
       "7   [theme, music, orchestral, hiphop, crowd, roar...   \n",
       "8   [ladies, and, gentlemen, please, welcome, to, ...   \n",
       "9   [thank, you, thank, you, thank, you, san, fran...   \n",
       "10  [wow, hey, thank, you, thanks, thank, you, guy...   \n",
       "11  [rock, music, playing, audience, cheering, ann...   \n",
       "\n",
       "                                         text_nostopw  \\\n",
       "0   [intro, fade, music, let, roll, hold, lights, ...   \n",
       "1   [dave, tells, dirty, jokes, living, stare, har...   \n",
       "2   [hello, hello, great, thank, wow, calm, shut, ...   \n",
       "3   [bo, old, macdonald, farm, e, e, farm, pig, e,...   \n",
       "4   [cheers, applause, right, thank, thank, much, ...   \n",
       "5   [car, horn, honks, audience, cheering, announc...   \n",
       "6   [right, petunia, wish, luck, die, august, 7th,...   \n",
       "7   [theme, music, orchestral, hiphop, crowd, roar...   \n",
       "8   [ladies, gentlemen, please, welcome, stage, al...   \n",
       "9   [thank, thank, thank, san, francisco, thank, m...   \n",
       "10  [wow, hey, thank, thanks, thank, guys, hey, se...   \n",
       "11  [rock, music, playing, audience, cheering, ann...   \n",
       "\n",
       "                                           lemmatized  \n",
       "0   [intro, fade, music, let, roll, hold, light, l...  \n",
       "1   [dave, tell, dirty, joke, living, stare, hard,...  \n",
       "2   [hello, hello, great, thank, wow, calm, shut, ...  \n",
       "3   [bo, old, macdonald, farm, e, e, farm, pig, e,...  \n",
       "4   [cheer, applause, right, thank, thank, much, t...  \n",
       "5   [car, horn, honk, audience, cheering, announce...  \n",
       "6   [right, petunia, wish, luck, die, august, 7th,...  \n",
       "7   [theme, music, orchestral, hiphop, crowd, roar...  \n",
       "8   [lady, gentleman, please, welcome, stage, ali,...  \n",
       "9   [thank, thank, thank, san, francisco, thank, m...  \n",
       "10  [wow, hey, thank, thanks, thank, guy, hey, sea...  \n",
       "11  [rock, music, playing, audience, cheering, ann...  "
      ]
     },
     "execution_count": 19,
     "metadata": {},
     "output_type": "execute_result"
    }
   ],
   "source": [
    "wn = nltk.WordNetLemmatizer()\n",
    "\n",
    "def lemmatize(txt):\n",
    "    txt_lemmas = [wn.lemmatize(word) for word in txt]\n",
    "    return txt_lemmas\n",
    "\n",
    "dataset[\"lemmatized\"] = dataset[\"text_nostopw\"].apply(lambda x: lemmatize(x))\n",
    "dataset.head(12)"
   ]
  },
  {
   "cell_type": "markdown",
   "metadata": {},
   "source": [
    "**<h3 style=\"color:yellow\" align=\"left\">Converting data to strings and saving them separately for each comedian</h3>**"
   ]
  },
  {
   "cell_type": "code",
   "execution_count": 20,
   "metadata": {},
   "outputs": [],
   "source": [
    "\n",
    "louis_text = str(dataset[\"lemmatized\"][0])\n",
    "dave_text = str(dataset[\"lemmatized\"][1])\n",
    "ricky_text = str(dataset[\"lemmatized\"][2])\n",
    "bo_text = str(dataset[\"lemmatized\"][3])\n",
    "bill_text = str(dataset[\"lemmatized\"][4])\n",
    "jim_text = str(dataset[\"lemmatized\"][5])\n",
    "john_text = str(dataset[\"lemmatized\"][6])\n",
    "hasan_text = str(dataset[\"lemmatized\"][7])\n",
    "ali_text = str(dataset[\"lemmatized\"][8])\n",
    "anthony_text = str(dataset[\"lemmatized\"][9])\n",
    "mike_text = str(dataset[\"lemmatized\"][10])\n",
    "joe_text = str(dataset[\"lemmatized\"][11])\n"
   ]
  },
  {
   "cell_type": "code",
   "execution_count": 21,
   "metadata": {},
   "outputs": [],
   "source": [
    "full_text = louis_text + \" \" + dave_text + \" \" +  ricky_text + \" \" +  bo_text + \" \" +  bill_text + \" \" +  jim_text + \" \" +  john_text + \" \" +  hasan_text + \" \" +  ali_text + \" \" +  anthony_text + \" \" +  mike_text + \" \" +  joe_text"
   ]
  },
  {
   "cell_type": "markdown",
   "metadata": {},
   "source": [
    "**<h3 style=\"color:yellow\" align=\"left\">Punctuation removal for the full text</h3>**\n",
    "\n"
   ]
  },
  {
   "cell_type": "code",
   "execution_count": 22,
   "metadata": {},
   "outputs": [],
   "source": [
    "def remove_punctuation(txt):\n",
    "    txt_nopunct = \"\".join([char for char in txt if char not in string.punctuation])\n",
    "\n",
    "    return txt_nopunct\n",
    "\n",
    "full_text_nopunc = remove_punctuation(full_text)"
   ]
  },
  {
   "cell_type": "markdown",
   "metadata": {},
   "source": [
    "**<h3 style=\"color:yellow\" align=\"left\">TF-IDF applied to the full text</h3>**\n",
    "\n",
    "\n",
    "TF-IDF stands for “Term Frequency — Inverse Document Frequency”. This is a technique to quantify words in a set of documents.\n",
    "\n",
    "\n",
    "We generally compute a score for each word to signify its importance in the document and corpus.\n"
   ]
  },
  {
   "cell_type": "code",
   "execution_count": 23,
   "metadata": {},
   "outputs": [
    {
     "name": "stderr",
     "output_type": "stream",
     "text": [
      "C:\\Python39\\lib\\site-packages\\sklearn\\utils\\deprecation.py:87: FutureWarning: Function get_feature_names is deprecated; get_feature_names is deprecated in 1.0 and will be removed in 1.2. Please use get_feature_names_out instead.\n",
      "  warnings.warn(msg, category=FutureWarning)\n"
     ]
    }
   ],
   "source": [
    "from sklearn.feature_extraction.text import TfidfVectorizer\n",
    "\n",
    "tfid_vect = TfidfVectorizer()\n",
    "\n",
    "\n",
    "corpus = [full_text_nopunc]\n",
    "\n",
    "\n",
    "x = tfid_vect.fit(corpus)\n",
    "\n",
    "tfid_vect.get_feature_names()\n",
    "\n",
    "x.vocabulary_\n",
    "\n",
    "# Create DTM\n",
    "x = tfid_vect.transform(corpus)\n",
    "\n",
    "# Create PD DataFrame\n",
    "\n",
    "df = pd.DataFrame(x.toarray(), columns = tfid_vect.get_feature_names())\n",
    "#df.head().T\n"
   ]
  },
  {
   "cell_type": "markdown",
   "metadata": {},
   "source": [
    "**<h1 style=\"color:cyan\" align=\"left\">1. What are the most common 15x top words repeated between comedians ?</h1>**"
   ]
  },
  {
   "cell_type": "markdown",
   "metadata": {},
   "source": [
    "Stemming just removes or stems the last few characters of a word, often leading to incorrect meanings and spelling.\n",
    "\n",
    "\n",
    "\n",
    "Lemmatization considers the context and converts the word to its meaningful base form, which is called Lemma.\n"
   ]
  },
  {
   "cell_type": "code",
   "execution_count": 24,
   "metadata": {},
   "outputs": [
    {
     "data": {
      "text/html": [
       "<div>\n",
       "<style scoped>\n",
       "    .dataframe tbody tr th:only-of-type {\n",
       "        vertical-align: middle;\n",
       "    }\n",
       "\n",
       "    .dataframe tbody tr th {\n",
       "        vertical-align: top;\n",
       "    }\n",
       "\n",
       "    .dataframe thead th {\n",
       "        text-align: right;\n",
       "    }\n",
       "</style>\n",
       "<table border=\"1\" class=\"dataframe\">\n",
       "  <thead>\n",
       "    <tr style=\"text-align: right;\">\n",
       "      <th></th>\n",
       "      <th>common_words_between_comedians</th>\n",
       "    </tr>\n",
       "  </thead>\n",
       "  <tbody>\n",
       "    <tr>\n",
       "      <th>like</th>\n",
       "      <td>0.563078</td>\n",
       "    </tr>\n",
       "    <tr>\n",
       "      <th>know</th>\n",
       "      <td>0.288847</td>\n",
       "    </tr>\n",
       "    <tr>\n",
       "      <th>go</th>\n",
       "      <td>0.204629</td>\n",
       "    </tr>\n",
       "    <tr>\n",
       "      <th>right</th>\n",
       "      <td>0.194189</td>\n",
       "    </tr>\n",
       "    <tr>\n",
       "      <th>get</th>\n",
       "      <td>0.182357</td>\n",
       "    </tr>\n",
       "    <tr>\n",
       "      <th>one</th>\n",
       "      <td>0.158344</td>\n",
       "    </tr>\n",
       "    <tr>\n",
       "      <th>people</th>\n",
       "      <td>0.147904</td>\n",
       "    </tr>\n",
       "    <tr>\n",
       "      <th>said</th>\n",
       "      <td>0.129807</td>\n",
       "    </tr>\n",
       "    <tr>\n",
       "      <th>got</th>\n",
       "      <td>0.122847</td>\n",
       "    </tr>\n",
       "    <tr>\n",
       "      <th>say</th>\n",
       "      <td>0.122499</td>\n",
       "    </tr>\n",
       "    <tr>\n",
       "      <th>fucking</th>\n",
       "      <td>0.120063</td>\n",
       "    </tr>\n",
       "    <tr>\n",
       "      <th>guy</th>\n",
       "      <td>0.114147</td>\n",
       "    </tr>\n",
       "    <tr>\n",
       "      <th>think</th>\n",
       "      <td>0.113103</td>\n",
       "    </tr>\n",
       "    <tr>\n",
       "      <th>thing</th>\n",
       "      <td>0.109623</td>\n",
       "    </tr>\n",
       "    <tr>\n",
       "      <th>gonna</th>\n",
       "      <td>0.106143</td>\n",
       "    </tr>\n",
       "  </tbody>\n",
       "</table>\n",
       "</div>"
      ],
      "text/plain": [
       "         common_words_between_comedians\n",
       "like                           0.563078\n",
       "know                           0.288847\n",
       "go                             0.204629\n",
       "right                          0.194189\n",
       "get                            0.182357\n",
       "one                            0.158344\n",
       "people                         0.147904\n",
       "said                           0.129807\n",
       "got                            0.122847\n",
       "say                            0.122499\n",
       "fucking                        0.120063\n",
       "guy                            0.114147\n",
       "think                          0.113103\n",
       "thing                          0.109623\n",
       "gonna                          0.106143"
      ]
     },
     "execution_count": 24,
     "metadata": {},
     "output_type": "execute_result"
    }
   ],
   "source": [
    "df_T = df.T\n",
    "df_T = df_T.nlargest(15, 0)\n",
    "df_T = df_T.rename(columns={0: 'common_words_between_comedians'})\n",
    "df_T"
   ]
  },
  {
   "cell_type": "markdown",
   "metadata": {},
   "source": [
    "After applying the Lemmatization Technique above we found out that even though it a superior technique in comparision to Stemming, \n",
    "\n",
    "\n",
    "it doesnt change some words to the main root as it should (e.g. \"Fucking\").\n",
    "\n",
    "\n",
    "Therefore for precisely answering the question number 1 we aditionally apply the Stemming Technique. "
   ]
  },
  {
   "cell_type": "markdown",
   "metadata": {},
   "source": [
    "**<h3 style=\"color:yellow\" align=\"left\">Punctuation removal for Ali's transcript</h3>**\n"
   ]
  },
  {
   "cell_type": "code",
   "execution_count": 25,
   "metadata": {},
   "outputs": [],
   "source": [
    "def remove_punctuation(txt):\n",
    "    txt_nopunct_ali = \"\".join([char for char in txt if char not in string.punctuation])\n",
    "\n",
    "    return txt_nopunct_ali\n",
    "\n",
    "ali_text_nopunc = remove_punctuation(ali_text)"
   ]
  },
  {
   "cell_type": "markdown",
   "metadata": {},
   "source": [
    "**<h3 style=\"color:yellow\" align=\"left\">TF-IDF applied for Ali's transcript</h3>**\n"
   ]
  },
  {
   "cell_type": "code",
   "execution_count": 26,
   "metadata": {},
   "outputs": [
    {
     "name": "stderr",
     "output_type": "stream",
     "text": [
      "C:\\Python39\\lib\\site-packages\\sklearn\\utils\\deprecation.py:87: FutureWarning: Function get_feature_names is deprecated; get_feature_names is deprecated in 1.0 and will be removed in 1.2. Please use get_feature_names_out instead.\n",
      "  warnings.warn(msg, category=FutureWarning)\n"
     ]
    }
   ],
   "source": [
    "from sklearn.feature_extraction.text import TfidfVectorizer\n",
    "\n",
    "tfid_vect = TfidfVectorizer()\n",
    "\n",
    "\n",
    "corpus_ali = [ali_text_nopunc]\n",
    "\n",
    "\n",
    "x = tfid_vect.fit(corpus_ali)\n",
    "\n",
    "tfid_vect.get_feature_names()\n",
    "\n",
    "x.vocabulary_\n",
    "\n",
    "# Create DTM\n",
    "x = tfid_vect.transform(corpus_ali)\n",
    "\n",
    "# Create PD DataFrame\n",
    "\n",
    "df_ali = pd.DataFrame(x.toarray(), columns = tfid_vect.get_feature_names())"
   ]
  },
  {
   "cell_type": "markdown",
   "metadata": {},
   "source": [
    "**<h3 style=\"color:yellow\" align=\"left\">Ali's top 15 most repeated words in her transcript</h3>**"
   ]
  },
  {
   "cell_type": "code",
   "execution_count": 27,
   "metadata": {},
   "outputs": [
    {
     "data": {
      "text/html": [
       "<div>\n",
       "<style scoped>\n",
       "    .dataframe tbody tr th:only-of-type {\n",
       "        vertical-align: middle;\n",
       "    }\n",
       "\n",
       "    .dataframe tbody tr th {\n",
       "        vertical-align: top;\n",
       "    }\n",
       "\n",
       "    .dataframe thead th {\n",
       "        text-align: right;\n",
       "    }\n",
       "</style>\n",
       "<table border=\"1\" class=\"dataframe\">\n",
       "  <thead>\n",
       "    <tr style=\"text-align: right;\">\n",
       "      <th></th>\n",
       "      <th>common_words_between_comedians</th>\n",
       "    </tr>\n",
       "  </thead>\n",
       "  <tbody>\n",
       "    <tr>\n",
       "      <th>like</th>\n",
       "      <td>0.603916</td>\n",
       "    </tr>\n",
       "    <tr>\n",
       "      <th>know</th>\n",
       "      <td>0.330716</td>\n",
       "    </tr>\n",
       "    <tr>\n",
       "      <th>get</th>\n",
       "      <td>0.201305</td>\n",
       "    </tr>\n",
       "    <tr>\n",
       "      <th>shit</th>\n",
       "      <td>0.167754</td>\n",
       "    </tr>\n",
       "    <tr>\n",
       "      <th>gonna</th>\n",
       "      <td>0.134203</td>\n",
       "    </tr>\n",
       "    <tr>\n",
       "      <th>woman</th>\n",
       "      <td>0.129410</td>\n",
       "    </tr>\n",
       "    <tr>\n",
       "      <th>ok</th>\n",
       "      <td>0.124617</td>\n",
       "    </tr>\n",
       "    <tr>\n",
       "      <th>lot</th>\n",
       "      <td>0.119825</td>\n",
       "    </tr>\n",
       "    <tr>\n",
       "      <th>go</th>\n",
       "      <td>0.110239</td>\n",
       "    </tr>\n",
       "    <tr>\n",
       "      <th>day</th>\n",
       "      <td>0.100653</td>\n",
       "    </tr>\n",
       "    <tr>\n",
       "      <th>gotta</th>\n",
       "      <td>0.100653</td>\n",
       "    </tr>\n",
       "    <tr>\n",
       "      <th>husband</th>\n",
       "      <td>0.100653</td>\n",
       "    </tr>\n",
       "    <tr>\n",
       "      <th>oh</th>\n",
       "      <td>0.100653</td>\n",
       "    </tr>\n",
       "    <tr>\n",
       "      <th>see</th>\n",
       "      <td>0.100653</td>\n",
       "    </tr>\n",
       "    <tr>\n",
       "      <th>wanna</th>\n",
       "      <td>0.100653</td>\n",
       "    </tr>\n",
       "  </tbody>\n",
       "</table>\n",
       "</div>"
      ],
      "text/plain": [
       "         common_words_between_comedians\n",
       "like                           0.603916\n",
       "know                           0.330716\n",
       "get                            0.201305\n",
       "shit                           0.167754\n",
       "gonna                          0.134203\n",
       "woman                          0.129410\n",
       "ok                             0.124617\n",
       "lot                            0.119825\n",
       "go                             0.110239\n",
       "day                            0.100653\n",
       "gotta                          0.100653\n",
       "husband                        0.100653\n",
       "oh                             0.100653\n",
       "see                            0.100653\n",
       "wanna                          0.100653"
      ]
     },
     "execution_count": 27,
     "metadata": {},
     "output_type": "execute_result"
    }
   ],
   "source": [
    "df_T_ali = df_ali.T\n",
    "df_T_ali = df_T_ali.nlargest(15, 0)\n",
    "df_T_ali = df_T_ali.rename(columns={0: 'common_words_between_comedians'})\n",
    "df_T_ali"
   ]
  },
  {
   "cell_type": "markdown",
   "metadata": {},
   "source": [
    "**<h1 style=\"color:cyan\" align=\"left\">2. What are the number of unique words for each comedian ?</h1>**\n",
    "\n",
    "\n",
    "\n",
    "Vectorization --> Converting words to numbers\n",
    "\n",
    "- Count Vectorization\n",
    "- Train the dictionary\n",
    "- Get a list of words (dictionary)\n",
    "- Get a DTM --> Document-Term Matrix\n"
   ]
  },
  {
   "cell_type": "code",
   "execution_count": 28,
   "metadata": {},
   "outputs": [
    {
     "name": "stderr",
     "output_type": "stream",
     "text": [
      "C:\\Python39\\lib\\site-packages\\sklearn\\utils\\deprecation.py:87: FutureWarning: Function get_feature_names is deprecated; get_feature_names is deprecated in 1.0 and will be removed in 1.2. Please use get_feature_names_out instead.\n",
      "  warnings.warn(msg, category=FutureWarning)\n"
     ]
    }
   ],
   "source": [
    "\n",
    "from sklearn.feature_extraction.text import CountVectorizer\n",
    "\n",
    "cv = CountVectorizer()\n",
    "\n",
    "comedian_text_list = [louis_text, dave_text, ricky_text, bo_text, bill_text, jim_text, john_text, hasan_text, ali_text, anthony_text, mike_text, joe_text]\n",
    "\n",
    "name_text=[\"louis\", \"dave\", \"ricky\", \"bo\", \"bill\", \"jim\", \"john\", \"hasan\", \"ali\", \"anthony\", \"mike\", \"joe\"]\n",
    "\n",
    "\n",
    "comedian_unique_list = []\n",
    "comedian_unique_list_1 = []\n",
    "comedian_unique_list_2 = []\n",
    "i = 0\n",
    "\n",
    "for txt in comedian_text_list:\n",
    "\n",
    "    corp = [txt]\n",
    "\n",
    "    # Learn the dictionary of corpus\n",
    "    x = cv.fit(corp)\n",
    "\n",
    "    # Get a list of words (dictionary)\n",
    "    cv.get_feature_names()\n",
    "\n",
    "    # Get list of words with index (key:word, value: index)\n",
    "    x.vocabulary_\n",
    "\n",
    "    # Create a Document-Term Matrix (DTM)\n",
    "    x = cv.transform(corp)\n",
    "\n",
    "    x.toarray()\n",
    "    \n",
    "\n",
    "    result_labels = str(name_text[i]) + \": \" + str(x.shape[1])\n",
    "    comedian_unique_list.append(result_labels)\n",
    "    comedian_unique_list_1.append((x.shape[1]/1636)*100)\n",
    "    comedian_unique_list_2.append(x.shape[1])\n",
    "    i +=1\n",
    "    # Create Pd DataFrame\n",
    "    df = pd.DataFrame(x.toarray(), columns = cv.get_feature_names())\n",
    "#df.head()\n"
   ]
  },
  {
   "cell_type": "markdown",
   "metadata": {},
   "source": [
    "The answer of this question may vary due to applying different processing techniques e.g. (Lemmatization, Stemming etc.).\n",
    "\n",
    "\n",
    "After carefull consideration we picked Lemmatization technique, as we considered it better for our purpose."
   ]
  },
  {
   "cell_type": "code",
   "execution_count": 29,
   "metadata": {},
   "outputs": [
    {
     "data": {
      "text/plain": [
       "['louis: 1065',\n",
       " 'dave: 1364',\n",
       " 'ricky: 1612',\n",
       " 'bo: 1292',\n",
       " 'bill: 1636',\n",
       " 'jim: 1290',\n",
       " 'john: 1374',\n",
       " 'hasan: 1552',\n",
       " 'ali: 1317',\n",
       " 'anthony: 972',\n",
       " 'mike: 1458',\n",
       " 'joe: 1397']"
      ]
     },
     "execution_count": 29,
     "metadata": {},
     "output_type": "execute_result"
    }
   ],
   "source": [
    "comedian_unique_list"
   ]
  },
  {
   "cell_type": "markdown",
   "metadata": {},
   "source": [
    "**<h1 style=\"color:cyan\" align=\"left\">Visualizations</h1>**\n",
    "\n",
    "**<h3 style=\"color:yellow\" align=\"left\">Plotting the Number of Unique Words for each Comedian</h3>**"
   ]
  },
  {
   "cell_type": "code",
   "execution_count": 30,
   "metadata": {},
   "outputs": [
    {
     "data": {
      "image/png": "[encoded data removed]",
      "text/plain": [
       "<Figure size 1800x720 with 1 Axes>"
      ]
     },
     "metadata": {
      "needs_background": "light"
     },
     "output_type": "display_data"
    }
   ],
   "source": [
    "import seaborn as sns\n",
    "import matplotlib.pyplot as plt\n",
    "\n",
    "\n",
    "\n",
    "plt.figure(figsize=(25,10))\n",
    "plt.xlabel(\"Comedians\")\n",
    "plt.ylabel(\"Unique Words\")\n",
    "ax = sns.barplot(x= name_text, y= comedian_unique_list_2)\n",
    "\n",
    "for i in ax.containers:\n",
    "    ax.bar_label(i, )\n"
   ]
  },
  {
   "cell_type": "markdown",
   "metadata": {},
   "source": [
    "**<h1 style=\"color:cyan\" align=\"left\">3. How many bad words (fucking, fuck , shit) have been said for each comedian?</h1>**"
   ]
  },
  {
   "cell_type": "code",
   "execution_count": 31,
   "metadata": {},
   "outputs": [
    {
     "name": "stdout",
     "output_type": "stream",
     "text": [
      "Number of bad words in text louis are:  152\n",
      "Number of bad words in text dave are:  256\n",
      "Number of bad words in text ricky are:  166\n",
      "Number of bad words in text bo are:  141\n",
      "Number of bad words in text bill are:  281\n",
      "Number of bad words in text jim are:  260\n",
      "Number of bad words in text john are:  78\n",
      "Number of bad words in text hasan are:  74\n",
      "Number of bad words in text ali are:  106\n",
      "Number of bad words in text anthony are:  60\n",
      "Number of bad words in text mike are:  34\n",
      "Number of bad words in text joe are:  292\n"
     ]
    }
   ],
   "source": [
    "bad_word_data = pd.read_csv(\"bad_data.csv\")\n",
    "#print(bad_word_data)\n",
    "\n",
    "bad_words = bad_word_data['is_offensive'].tolist()\n",
    "\n",
    "#print(type(bad_words))\n",
    "\n",
    "name_text=[\"louis\", \"dave\", \"ricky\", \"bo\", \"bill\", \"jim\", \"john\", \"hasan\", \"ali\", \"anthony\", \"mike\", \"joe\"] \n",
    "f1_word_list = []\n",
    "\n",
    "\n",
    "for i in range(12):\n",
    "    count = 0\n",
    "    for j in dataset[\"lemmatized\"][i]:\n",
    "        if j in bad_words:\n",
    "            count += 1\n",
    "            \n",
    "    f1_word_list.append(count)\n",
    "        #print(i)\n",
    "    print(f\"Number of bad words in text {name_text[i]} are: \", count)"
   ]
  },
  {
   "cell_type": "markdown",
   "metadata": {},
   "source": [
    "**<h3 style=\"color:yellow\" align=\"left\">Plotting the number of Bad Words each Comedian uses</h3>**\n"
   ]
  },
  {
   "cell_type": "code",
   "execution_count": 32,
   "metadata": {},
   "outputs": [
    {
     "data": {
      "image/png": "[encoded data removed]",
      "text/plain": [
       "<Figure size 1440x720 with 1 Axes>"
      ]
     },
     "metadata": {
      "needs_background": "light"
     },
     "output_type": "display_data"
    }
   ],
   "source": [
    "import seaborn as sns\n",
    "import matplotlib.pyplot as plt\n",
    "\n",
    "plt.figure(figsize=(20,10))\n",
    "plt.xlabel(\"Comedians\")\n",
    "plt.ylabel(\"Number of Bad Words\")\n",
    "bx = sns.barplot(x= name_text, y= f1_word_list)\n",
    "\n",
    "for i in bx.containers:\n",
    "    bx.bar_label(i, )"
   ]
  },
  {
   "cell_type": "markdown",
   "metadata": {},
   "source": [
    "**<h3 style=\"color:yellow\" align=\"left\">Ratio of Bad Words to total number of words for each comedian</h3>**"
   ]
  },
  {
   "cell_type": "code",
   "execution_count": 33,
   "metadata": {},
   "outputs": [],
   "source": [
    "word_sum_list =[]\n",
    "for com_idex in range(12):\n",
    "    dummy_text = str(dataset['text_nostopw'][com_idex])\n",
    "    #dummy_text = dataset['text'][com_idex]\n",
    "    blob = TextBlob(dummy_text)\n",
    "    blob_word_counts = blob.word_counts.values()\n",
    "    word_sum = 0\n",
    "    for i in blob_word_counts:    \n",
    "        word_sum = word_sum +i\n",
    "    #print(word_sum)\n",
    "\n",
    "    word_sum_list.append(word_sum)"
   ]
  },
  {
   "cell_type": "code",
   "execution_count": 34,
   "metadata": {},
   "outputs": [],
   "source": [
    "f_word_ratio_list =[]\n",
    "for i in range(12):\n",
    "  #speed_min = comedian_unique_list_2[i]/run_time[i]\n",
    "  f_ratio = f1_word_list[i]/word_sum_list[i]\n",
    "  f_word_ratio_list.append(f_ratio)"
   ]
  },
  {
   "cell_type": "code",
   "execution_count": 35,
   "metadata": {},
   "outputs": [
    {
     "data": {
      "image/png": "[encoded data removed]",
      "text/plain": [
       "<Figure size 1440x720 with 1 Axes>"
      ]
     },
     "metadata": {
      "needs_background": "light"
     },
     "output_type": "display_data"
    }
   ],
   "source": [
    "plt.figure(figsize=(20,10))\n",
    "plt.xlabel(\"Comedians\")\n",
    "plt.ylabel(\"Ratio of Bad Words to Total Number of Words\")\n",
    "fx = sns.barplot(x= name_text, y= f_word_ratio_list)\n",
    "\n",
    "for i in fx.containers:\n",
    "    fx.bar_label(i, )"
   ]
  },
  {
   "cell_type": "markdown",
   "metadata": {},
   "source": [
    "**<h1 style=\"color:cyan\" align=\"left\">4. Sentiment Analysis? Objectivity, subjectivity and polarity?</h1>**"
   ]
  },
  {
   "cell_type": "markdown",
   "metadata": {},
   "source": [
    "The key aspect of sentiment analysis is to analyze a body of text for understanding the opinion expressed by it.\n",
    "\n",
    "\n",
    "Typically, we quantify this sentiment with a positive or negative value, called polarity. \n",
    "\n",
    "\n",
    "The overall sentiment is often inferred as positive, neutral or negative from the sign of the polarity score."
   ]
  },
  {
   "cell_type": "markdown",
   "metadata": {},
   "source": [
    "Polarity is float which lies in the range of [-1,1] where 1 means positive statement and -1 means a negative statement.\n",
    "\n",
    "\n",
    "Subjective sentences generally refer to personal opinion, emotion or judgment whereas objective refers to factual information.\n"
   ]
  },
  {
   "cell_type": "markdown",
   "metadata": {},
   "source": [
    "**<h3 style=\"color:yellow\" align=\"left\">Sentiment Analysis</h3>**"
   ]
  },
  {
   "cell_type": "code",
   "execution_count": 36,
   "metadata": {},
   "outputs": [],
   "source": [
    "name_text=[louis_text, dave_text ,ricky_text ,bo_text ,bill_text ,jim_text ,john_text ,hasan_text ,ali_text , anthony_text, mike_text, joe_text] \n",
    "\n",
    "pol_list =[]\n",
    "sub_list =[]\n",
    "for txt in name_text:\n",
    "    blob1 = TextBlob(txt)\n",
    "    pol, sub =blob1.sentiment\n",
    "    pol_list.append(pol)\n",
    "    sub_list.append(sub)"
   ]
  },
  {
   "cell_type": "code",
   "execution_count": 37,
   "metadata": {},
   "outputs": [],
   "source": [
    "import matplotlib.pyplot as plt\n",
    "comedians_list= ['louis', 'dave', 'ricky', 'bo', 'bill', 'jim', 'john', 'hasan', 'ali', 'anthony', 'mike', 'joe'] "
   ]
  },
  {
   "cell_type": "markdown",
   "metadata": {},
   "source": [
    "What is objective and subjective in sentiment analysis?\n",
    "\n",
    "\n",
    "\n",
    "Facts are objective expressions about entities, events and their properties.\n",
    "\n",
    "\n",
    "\n",
    "Opinions are usually subjective expressions that describe people's sentiments, appraisals or feelings toward entities, events and their properties.\n"
   ]
  },
  {
   "cell_type": "markdown",
   "metadata": {},
   "source": [
    "**<h3 style=\"color:yellow\" align=\"left\">Plotting the Polarity in Sentiment Analysis</h3>**\n",
    "\n",
    "Polarity is float which lies in the range of [-1,1] where 1 means positive statement and -1 means a negative statement.\n",
    "\n",
    "\n",
    "In the plot below the polarity of Joe's text is close to zero, therefore the bar is not visible."
   ]
  },
  {
   "cell_type": "code",
   "execution_count": 38,
   "metadata": {},
   "outputs": [
    {
     "data": {
      "image/png": "[encoded data removed]",
      "text/plain": [
       "<Figure size 1440x720 with 1 Axes>"
      ]
     },
     "metadata": {
      "needs_background": "light"
     },
     "output_type": "display_data"
    }
   ],
   "source": [
    "plt.figure(figsize=(20,10))\n",
    "plt.xlabel(\"Comedians\")\n",
    "plt.ylabel(\"Polarity\")\n",
    "cx = sns.barplot(x= comedians_list, y= pol_list)\n",
    "\n",
    "for i in cx.containers:\n",
    "    cx.bar_label(i, )"
   ]
  },
  {
   "cell_type": "markdown",
   "metadata": {},
   "source": [
    "**<h3 style=\"color:yellow\" align=\"left\">Plotting the Objectivity in Sentiment Analysis</h3>**\n",
    "\n",
    "\n",
    "Objectivity lies between [0.0,1.0].\n",
    "\n",
    "\n",
    "0.0 is very objective and 1.0 is very subjective.\n",
    "\n",
    "\n",
    "If objectivity > 0.5, the sentence is more objective than subjective and vice versa."
   ]
  },
  {
   "cell_type": "code",
   "execution_count": 39,
   "metadata": {},
   "outputs": [],
   "source": [
    "object_list = []\n",
    "for i in sub_list:\n",
    "    obj = 1-i\n",
    "    object_list.append(obj)"
   ]
  },
  {
   "cell_type": "code",
   "execution_count": 40,
   "metadata": {},
   "outputs": [
    {
     "data": {
      "image/png": "[encoded data removed]",
      "text/plain": [
       "<Figure size 1440x720 with 1 Axes>"
      ]
     },
     "metadata": {
      "needs_background": "light"
     },
     "output_type": "display_data"
    }
   ],
   "source": [
    "plt.figure(figsize=(20,10))\n",
    "plt.xlabel(\"Comedians\")\n",
    "plt.ylabel(\"Objectivity\")\n",
    "dx = sns.barplot(x= comedians_list, y= object_list)\n",
    "\n",
    "for i in dx.containers:\n",
    "    dx.bar_label(i, )"
   ]
  },
  {
   "cell_type": "markdown",
   "metadata": {},
   "source": [
    "\n",
    "**<h3 style=\"color:yellow\" align=\"left\">Plotting the Subjectivity in Sentiment Analysis</h3>**\n",
    "\n",
    "\n",
    "Subjective sentences generally refer to personal opinion, emotion or judgment whereas objective refers to factual information. Subjectivity is also a float which lies in the range of [0,1]\n"
   ]
  },
  {
   "cell_type": "code",
   "execution_count": 41,
   "metadata": {},
   "outputs": [
    {
     "data": {
      "image/png": "[encoded data removed]",
      "text/plain": [
       "<Figure size 1440x720 with 1 Axes>"
      ]
     },
     "metadata": {
      "needs_background": "light"
     },
     "output_type": "display_data"
    }
   ],
   "source": [
    "plt.figure(figsize=(20,10))\n",
    "plt.xlabel(\"Comedians\")\n",
    "plt.ylabel(\"Subjectivity\")\n",
    "dx = sns.barplot(x= comedians_list, y= sub_list)\n",
    "\n",
    "for i in dx.containers:\n",
    "    dx.bar_label(i, )"
   ]
  },
  {
   "cell_type": "markdown",
   "metadata": {},
   "source": [
    "**<h3 style=\"color:yellow\" align=\"left\">Sentiment Analysis using Naive Bayes Analyzer</h3>**\n",
    "\n",
    "This algorithm is more accurate but it is more time consuming, however it provides the results in the form of Positivity and Negativity."
   ]
  },
  {
   "cell_type": "code",
   "execution_count": 42,
   "metadata": {},
   "outputs": [],
   "source": [
    "classifi_list =[]\n",
    "pos_list =[]\n",
    "neg_list =[]\n",
    "\n",
    "for txt in name_text:\n",
    "    #blob1 = TextBlob(txt)\n",
    "    blob = TextBlob(txt, analyzer=NaiveBayesAnalyzer())\n",
    "\n",
    "    classification, p_pos, p_neg =blob.sentiment\n",
    "    classifi_list.append(classification)\n",
    "    pos_list.append(p_pos)\n",
    "    neg_list.append(p_neg)"
   ]
  },
  {
   "cell_type": "markdown",
   "metadata": {},
   "source": [
    "**<h3 style=\"color:yellow\" align=\"left\">Positive Sentiments</h3>**"
   ]
  },
  {
   "cell_type": "code",
   "execution_count": 43,
   "metadata": {},
   "outputs": [
    {
     "data": {
      "image/png": "[encoded data removed]",
      "text/plain": [
       "<Figure size 1440x720 with 1 Axes>"
      ]
     },
     "metadata": {
      "needs_background": "light"
     },
     "output_type": "display_data"
    }
   ],
   "source": [
    "plt.figure(figsize=(20,10))\n",
    "plt.xlabel(\"Comedians\")\n",
    "plt.ylabel(\"Positive Sentiments\")\n",
    "ex = sns.barplot(x= comedians_list, y= pos_list)\n",
    "\n",
    "for i in ex.containers:\n",
    "    ex.bar_label(i, )"
   ]
  },
  {
   "cell_type": "markdown",
   "metadata": {},
   "source": [
    "**<h3 style=\"color:yellow\" align=\"left\">Negative Sentiments</h3>**"
   ]
  },
  {
   "cell_type": "code",
   "execution_count": 44,
   "metadata": {},
   "outputs": [
    {
     "data": {
      "image/png": "[encoded data removed]",
      "text/plain": [
       "<Figure size 1440x720 with 1 Axes>"
      ]
     },
     "metadata": {
      "needs_background": "light"
     },
     "output_type": "display_data"
    }
   ],
   "source": [
    "plt.figure(figsize=(20,10))\n",
    "plt.xlabel(\"Comedians\")\n",
    "plt.ylabel(\"Negativite Sentiments\")\n",
    "fx = sns.barplot(x= comedians_list, y= neg_list)\n",
    "\n",
    "for i in fx.containers:\n",
    "    fx.bar_label(i, )"
   ]
  },
  {
   "cell_type": "markdown",
   "metadata": {},
   "source": [
    "**<h1 style=\"color:cyan\" align=\"left\">5. What is the Speed of Speak of each Comedian?</h1>**"
   ]
  },
  {
   "cell_type": "code",
   "execution_count": 45,
   "metadata": {},
   "outputs": [],
   "source": [
    "# Run time for the performance of each comedian\n",
    "run_time= [58, 67, 79, 60, 80, 77, 62, 73, 60, 59, 76, 63] \n",
    "word_speed_min_list =[]\n",
    "for i in range(12):\n",
    "  speed_min = word_sum_list[i]/run_time[i]\n",
    "  word_speed_min_list.append(speed_min)"
   ]
  },
  {
   "cell_type": "code",
   "execution_count": 46,
   "metadata": {},
   "outputs": [
    {
     "data": {
      "image/png": "[encoded data removed]",
      "text/plain": [
       "<Figure size 1440x720 with 1 Axes>"
      ]
     },
     "metadata": {
      "needs_background": "light"
     },
     "output_type": "display_data"
    }
   ],
   "source": [
    "name_text=[\"louis\", \"dave\", \"ricky\", \"bo\", \"bill\", \"jim\", \"john\", \"hasan\", \"ali\", \"anthony\", \"mike\", \"joe\"]\n",
    "\n",
    "plt.figure(figsize=(20,10))\n",
    "plt.xlabel(\"Comedians\")\n",
    "plt.ylabel(\"Words per minute\")\n",
    "fx = sns.barplot(x= name_text, y= word_speed_min_list)\n",
    "\n",
    "for i in fx.containers:\n",
    "    fx.bar_label(i, )"
   ]
  },
  {
   "cell_type": "markdown",
   "metadata": {},
   "source": [
    "**<h1 style=\"color:cyan\" align=\"left\">6. Why is Ali Wong famous?</h1>**\n",
    "\n",
    "Among the top 15 most common words used by the chosen comedians is a swearing word (e.g. \"fucking\"). \n",
    "It shows that in general comedians are swearing a lot throughout their performances. Ali is not any different, because her 4th most repeated word is “shit” and it is proving she is also, using swear words just as much. Ali’s lexicon is average in comparison to the rest of the comedians. She uses well-known words, and that way she is aiming to reach **a larger audience**. Ali does not use that many bad words in comparison to the rest of the comedians. In fact, she is in fifth position in talking with less bad words. This could be one of the reasons, why she is well accepted among various audiences.\n",
    "\n",
    "\n",
    "Wong’s polarity clearly revealed that she is not reaching the end of the spectrum of positivity and negativity, and she remains **rather neutral**. That way she is aiming in the middle between pessimist and optimist and targeting a **various audience**.  Her comedy is **well-balanced** between objectivity and subjectivity. She is neither too factual nor too opinionated.\n",
    "Ali expresses herself rather positively, in fact, that’s normal among the comedians. **Being positive** is beneficial for her since the audience is there to laugh and enjoy their time.\n",
    "\n",
    " \n",
    "Wong’s **speed of speaking** is rather slow in comparison to the rest of the comedians. That provides the audience **more time to enjoy** her jokes. In addition, if there is a bit of distraction in the audience, there is still time for them to get her point. \n",
    "\n",
    "After scanning her transcript, it was striking how **provocative, scandalous, and vulgar** she is. All that is a well-known publicity stunt to gain the attention of the masses.\n",
    "\n",
    " \n",
    "In addition, she is the **only woman** among the chosen comedians, and that's why she stands out.\n",
    "\n",
    "When we sum up all the conclusions, it becomes obvious why **Ali Wang is famous**. \n",
    "\n",
    "\n",
    "\n",
    "\n",
    "\n",
    "\n",
    "\n",
    "\n",
    "\n"
   ]
  }
 ],
 "metadata": {
  "interpreter": {
   "hash": "a4d899908bfb14b37e3b4de7522c463ed190a0fb2c4787027e26992d27c31972"
  },
  "kernelspec": {
   "display_name": "Python 3.9.8 64-bit",
   "language": "python",
   "name": "python3"
  },
  "language_info": {
   "codemirror_mode": {
    "name": "ipython",
    "version": 3
   },
   "file_extension": ".py",
   "mimetype": "text/x-python",
   "name": "python",
   "nbconvert_exporter": "python",
   "pygments_lexer": "ipython3",
   "version": "3.9.7"
  },
  "orig_nbformat": 4
 },
 "nbformat": 4,
 "nbformat_minor": 2
}
