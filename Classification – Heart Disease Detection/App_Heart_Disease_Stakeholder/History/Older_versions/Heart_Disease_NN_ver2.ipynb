{
 "cells": [
  {
   "cell_type": "markdown",
   "metadata": {},
   "source": [
    "\n",
    "**<h1 style=\"color:yellow\" align=\"center\">Heart Disease</h1>**\n",
    "\n",
    "Heart disease covers a range of different conditions that could affect your heart. \n",
    "\n",
    "\n",
    "It is one of the most complex diseases to predict given the number of potential factors in the body that can lead to it.\n",
    "\n",
    "\n",
    "**Download**\n",
    "\n",
    "\n",
    "the dataset from here: https://archive.ics.uci.edu/ml/datasets/Heart+Disease\n",
    "\n",
    "\n",
    "There are 303 records in the dataset and it contains 14 continuous attributes.\n",
    "\n",
    "\n",
    "**Goal**\n",
    "\n",
    "\n",
    "The goal is to predict the presence of heart disease in the patient.\n",
    "\n",
    "\n",
    "The dataset contained an original set of 76 attributes which has been narrowed down to total of 14 as follows: \n",
    "\n",
    "\n",
    "\n",
    "• age: The person’s age in years\n",
    "• sex: The person’s sex (1 = male, 0 = female)\n",
    "• cp: The chest pain experienced (value 1: typical angina, value 2: atypical angina, value 3: non-anginal\n",
    "• pain, value 4: asymptomatic)\n",
    "• trestbps: The person’s resting blood pressure\n",
    "• chol: The person’s cholesterol measurement in mg/dl\n",
    "• fbs: The person’s fasting blood sugar (> 120 mg/dl, 1 = true; 0 = false)\n",
    "• restecg: Resting electrocardiographic measurement (0 = normal, 1 = having ST-T wave abnormality, 2= showing probable or definite left ventricular hypertrophy by Estes’ criteria)\n",
    "• thalach: The person’s maximum heart rate achieved\n",
    "• exang: Exercise induced angina (1 = yes; 0 = no)\n",
    "• oldpeak: ST depression induced by exercise relative to rest (‘ST’ relates to positions on the ECG plot)\n",
    "• slope: The slope of the peak exercise ST segment (value 1: upsloping, value 2: flat, value 3:\n",
    "• downsloping)\n",
    "• ca: The number of major vessels (0 – 3)\n",
    "• thal: A blood disorder called thalassemia (3 = normal; 6 = fixed defect; 7 = reversable defect)\n",
    "• target: Heart disease (0 = no, 1 = yes)\n"
   ]
  },
  {
   "cell_type": "code",
   "execution_count": 117,
   "metadata": {},
   "outputs": [],
   "source": [
    "import pandas as pd\n",
    "import seaborn as sns\n",
    "\n",
    "from keras import models\n",
    "from keras import layers\n",
    "\n",
    "from sklearn.model_selection import train_test_split\n",
    "\n",
    "# from keras.utils import to_categorical  ---> Sometime makes ERRORS\n",
    "import tensorflow as tf\n",
    "from tensorflow.keras.models import load_model     # loading the model\n",
    "from tensorflow.keras.models import model_from_json  # loading the model architecture\n",
    "\n",
    "import matplotlib.pyplot as plt\n",
    "import numpy as np\n",
    "\n",
    "# for confusion matrix (old way)\n",
    "import itertools\n",
    "from sklearn.metrics import confusion_matrix\n",
    "\n",
    "# for confusin matrix (new way)\n",
    "from sklearn.metrics import plot_confusion_matrix"
   ]
  },
  {
   "cell_type": "code",
   "execution_count": 74,
   "metadata": {},
   "outputs": [
    {
     "data": {
      "text/html": [
       "<div>\n",
       "<style scoped>\n",
       "    .dataframe tbody tr th:only-of-type {\n",
       "        vertical-align: middle;\n",
       "    }\n",
       "\n",
       "    .dataframe tbody tr th {\n",
       "        vertical-align: top;\n",
       "    }\n",
       "\n",
       "    .dataframe thead th {\n",
       "        text-align: right;\n",
       "    }\n",
       "</style>\n",
       "<table border=\"1\" class=\"dataframe\">\n",
       "  <thead>\n",
       "    <tr style=\"text-align: right;\">\n",
       "      <th></th>\n",
       "      <th>age</th>\n",
       "      <th>sex</th>\n",
       "      <th>cp</th>\n",
       "      <th>trestbps</th>\n",
       "      <th>chol</th>\n",
       "      <th>fbs</th>\n",
       "      <th>restecg</th>\n",
       "      <th>thalach</th>\n",
       "      <th>exang</th>\n",
       "      <th>oldpeak</th>\n",
       "      <th>slope</th>\n",
       "      <th>ca</th>\n",
       "      <th>thal</th>\n",
       "      <th>target</th>\n",
       "    </tr>\n",
       "  </thead>\n",
       "  <tbody>\n",
       "    <tr>\n",
       "      <th>0</th>\n",
       "      <td>63</td>\n",
       "      <td>1</td>\n",
       "      <td>3</td>\n",
       "      <td>145</td>\n",
       "      <td>233</td>\n",
       "      <td>1</td>\n",
       "      <td>0</td>\n",
       "      <td>150</td>\n",
       "      <td>0</td>\n",
       "      <td>2.3</td>\n",
       "      <td>0</td>\n",
       "      <td>0</td>\n",
       "      <td>1</td>\n",
       "      <td>1</td>\n",
       "    </tr>\n",
       "    <tr>\n",
       "      <th>1</th>\n",
       "      <td>37</td>\n",
       "      <td>1</td>\n",
       "      <td>2</td>\n",
       "      <td>130</td>\n",
       "      <td>250</td>\n",
       "      <td>0</td>\n",
       "      <td>1</td>\n",
       "      <td>187</td>\n",
       "      <td>0</td>\n",
       "      <td>3.5</td>\n",
       "      <td>0</td>\n",
       "      <td>0</td>\n",
       "      <td>2</td>\n",
       "      <td>1</td>\n",
       "    </tr>\n",
       "    <tr>\n",
       "      <th>2</th>\n",
       "      <td>41</td>\n",
       "      <td>0</td>\n",
       "      <td>1</td>\n",
       "      <td>130</td>\n",
       "      <td>204</td>\n",
       "      <td>0</td>\n",
       "      <td>0</td>\n",
       "      <td>172</td>\n",
       "      <td>0</td>\n",
       "      <td>1.4</td>\n",
       "      <td>2</td>\n",
       "      <td>0</td>\n",
       "      <td>2</td>\n",
       "      <td>1</td>\n",
       "    </tr>\n",
       "    <tr>\n",
       "      <th>3</th>\n",
       "      <td>56</td>\n",
       "      <td>1</td>\n",
       "      <td>1</td>\n",
       "      <td>120</td>\n",
       "      <td>236</td>\n",
       "      <td>0</td>\n",
       "      <td>1</td>\n",
       "      <td>178</td>\n",
       "      <td>0</td>\n",
       "      <td>0.8</td>\n",
       "      <td>2</td>\n",
       "      <td>0</td>\n",
       "      <td>2</td>\n",
       "      <td>1</td>\n",
       "    </tr>\n",
       "    <tr>\n",
       "      <th>4</th>\n",
       "      <td>57</td>\n",
       "      <td>0</td>\n",
       "      <td>0</td>\n",
       "      <td>120</td>\n",
       "      <td>354</td>\n",
       "      <td>0</td>\n",
       "      <td>1</td>\n",
       "      <td>163</td>\n",
       "      <td>1</td>\n",
       "      <td>0.6</td>\n",
       "      <td>2</td>\n",
       "      <td>0</td>\n",
       "      <td>2</td>\n",
       "      <td>1</td>\n",
       "    </tr>\n",
       "    <tr>\n",
       "      <th>5</th>\n",
       "      <td>57</td>\n",
       "      <td>1</td>\n",
       "      <td>0</td>\n",
       "      <td>140</td>\n",
       "      <td>192</td>\n",
       "      <td>0</td>\n",
       "      <td>1</td>\n",
       "      <td>148</td>\n",
       "      <td>0</td>\n",
       "      <td>0.4</td>\n",
       "      <td>1</td>\n",
       "      <td>0</td>\n",
       "      <td>1</td>\n",
       "      <td>1</td>\n",
       "    </tr>\n",
       "    <tr>\n",
       "      <th>6</th>\n",
       "      <td>56</td>\n",
       "      <td>0</td>\n",
       "      <td>1</td>\n",
       "      <td>140</td>\n",
       "      <td>294</td>\n",
       "      <td>0</td>\n",
       "      <td>0</td>\n",
       "      <td>153</td>\n",
       "      <td>0</td>\n",
       "      <td>1.3</td>\n",
       "      <td>1</td>\n",
       "      <td>0</td>\n",
       "      <td>2</td>\n",
       "      <td>1</td>\n",
       "    </tr>\n",
       "    <tr>\n",
       "      <th>7</th>\n",
       "      <td>44</td>\n",
       "      <td>1</td>\n",
       "      <td>1</td>\n",
       "      <td>120</td>\n",
       "      <td>263</td>\n",
       "      <td>0</td>\n",
       "      <td>1</td>\n",
       "      <td>173</td>\n",
       "      <td>0</td>\n",
       "      <td>0.0</td>\n",
       "      <td>2</td>\n",
       "      <td>0</td>\n",
       "      <td>3</td>\n",
       "      <td>1</td>\n",
       "    </tr>\n",
       "    <tr>\n",
       "      <th>8</th>\n",
       "      <td>52</td>\n",
       "      <td>1</td>\n",
       "      <td>2</td>\n",
       "      <td>172</td>\n",
       "      <td>199</td>\n",
       "      <td>1</td>\n",
       "      <td>1</td>\n",
       "      <td>162</td>\n",
       "      <td>0</td>\n",
       "      <td>0.5</td>\n",
       "      <td>2</td>\n",
       "      <td>0</td>\n",
       "      <td>3</td>\n",
       "      <td>1</td>\n",
       "    </tr>\n",
       "    <tr>\n",
       "      <th>9</th>\n",
       "      <td>57</td>\n",
       "      <td>1</td>\n",
       "      <td>2</td>\n",
       "      <td>150</td>\n",
       "      <td>168</td>\n",
       "      <td>0</td>\n",
       "      <td>1</td>\n",
       "      <td>174</td>\n",
       "      <td>0</td>\n",
       "      <td>1.6</td>\n",
       "      <td>2</td>\n",
       "      <td>0</td>\n",
       "      <td>2</td>\n",
       "      <td>1</td>\n",
       "    </tr>\n",
       "    <tr>\n",
       "      <th>10</th>\n",
       "      <td>54</td>\n",
       "      <td>1</td>\n",
       "      <td>0</td>\n",
       "      <td>140</td>\n",
       "      <td>239</td>\n",
       "      <td>0</td>\n",
       "      <td>1</td>\n",
       "      <td>160</td>\n",
       "      <td>0</td>\n",
       "      <td>1.2</td>\n",
       "      <td>2</td>\n",
       "      <td>0</td>\n",
       "      <td>2</td>\n",
       "      <td>1</td>\n",
       "    </tr>\n",
       "    <tr>\n",
       "      <th>11</th>\n",
       "      <td>48</td>\n",
       "      <td>0</td>\n",
       "      <td>2</td>\n",
       "      <td>130</td>\n",
       "      <td>275</td>\n",
       "      <td>0</td>\n",
       "      <td>1</td>\n",
       "      <td>139</td>\n",
       "      <td>0</td>\n",
       "      <td>0.2</td>\n",
       "      <td>2</td>\n",
       "      <td>0</td>\n",
       "      <td>2</td>\n",
       "      <td>1</td>\n",
       "    </tr>\n",
       "    <tr>\n",
       "      <th>12</th>\n",
       "      <td>49</td>\n",
       "      <td>1</td>\n",
       "      <td>1</td>\n",
       "      <td>130</td>\n",
       "      <td>266</td>\n",
       "      <td>0</td>\n",
       "      <td>1</td>\n",
       "      <td>171</td>\n",
       "      <td>0</td>\n",
       "      <td>0.6</td>\n",
       "      <td>2</td>\n",
       "      <td>0</td>\n",
       "      <td>2</td>\n",
       "      <td>1</td>\n",
       "    </tr>\n",
       "    <tr>\n",
       "      <th>13</th>\n",
       "      <td>64</td>\n",
       "      <td>1</td>\n",
       "      <td>3</td>\n",
       "      <td>110</td>\n",
       "      <td>211</td>\n",
       "      <td>0</td>\n",
       "      <td>0</td>\n",
       "      <td>144</td>\n",
       "      <td>1</td>\n",
       "      <td>1.8</td>\n",
       "      <td>1</td>\n",
       "      <td>0</td>\n",
       "      <td>2</td>\n",
       "      <td>1</td>\n",
       "    </tr>\n",
       "    <tr>\n",
       "      <th>14</th>\n",
       "      <td>58</td>\n",
       "      <td>0</td>\n",
       "      <td>3</td>\n",
       "      <td>150</td>\n",
       "      <td>283</td>\n",
       "      <td>1</td>\n",
       "      <td>0</td>\n",
       "      <td>162</td>\n",
       "      <td>0</td>\n",
       "      <td>1.0</td>\n",
       "      <td>2</td>\n",
       "      <td>0</td>\n",
       "      <td>2</td>\n",
       "      <td>1</td>\n",
       "    </tr>\n",
       "    <tr>\n",
       "      <th>15</th>\n",
       "      <td>50</td>\n",
       "      <td>0</td>\n",
       "      <td>2</td>\n",
       "      <td>120</td>\n",
       "      <td>219</td>\n",
       "      <td>0</td>\n",
       "      <td>1</td>\n",
       "      <td>158</td>\n",
       "      <td>0</td>\n",
       "      <td>1.6</td>\n",
       "      <td>1</td>\n",
       "      <td>0</td>\n",
       "      <td>2</td>\n",
       "      <td>1</td>\n",
       "    </tr>\n",
       "    <tr>\n",
       "      <th>16</th>\n",
       "      <td>58</td>\n",
       "      <td>0</td>\n",
       "      <td>2</td>\n",
       "      <td>120</td>\n",
       "      <td>340</td>\n",
       "      <td>0</td>\n",
       "      <td>1</td>\n",
       "      <td>172</td>\n",
       "      <td>0</td>\n",
       "      <td>0.0</td>\n",
       "      <td>2</td>\n",
       "      <td>0</td>\n",
       "      <td>2</td>\n",
       "      <td>1</td>\n",
       "    </tr>\n",
       "    <tr>\n",
       "      <th>17</th>\n",
       "      <td>66</td>\n",
       "      <td>0</td>\n",
       "      <td>3</td>\n",
       "      <td>150</td>\n",
       "      <td>226</td>\n",
       "      <td>0</td>\n",
       "      <td>1</td>\n",
       "      <td>114</td>\n",
       "      <td>0</td>\n",
       "      <td>2.6</td>\n",
       "      <td>0</td>\n",
       "      <td>0</td>\n",
       "      <td>2</td>\n",
       "      <td>1</td>\n",
       "    </tr>\n",
       "    <tr>\n",
       "      <th>18</th>\n",
       "      <td>43</td>\n",
       "      <td>1</td>\n",
       "      <td>0</td>\n",
       "      <td>150</td>\n",
       "      <td>247</td>\n",
       "      <td>0</td>\n",
       "      <td>1</td>\n",
       "      <td>171</td>\n",
       "      <td>0</td>\n",
       "      <td>1.5</td>\n",
       "      <td>2</td>\n",
       "      <td>0</td>\n",
       "      <td>2</td>\n",
       "      <td>1</td>\n",
       "    </tr>\n",
       "    <tr>\n",
       "      <th>19</th>\n",
       "      <td>69</td>\n",
       "      <td>0</td>\n",
       "      <td>3</td>\n",
       "      <td>140</td>\n",
       "      <td>239</td>\n",
       "      <td>0</td>\n",
       "      <td>1</td>\n",
       "      <td>151</td>\n",
       "      <td>0</td>\n",
       "      <td>1.8</td>\n",
       "      <td>2</td>\n",
       "      <td>2</td>\n",
       "      <td>2</td>\n",
       "      <td>1</td>\n",
       "    </tr>\n",
       "  </tbody>\n",
       "</table>\n",
       "</div>"
      ],
      "text/plain": [
       "    age  sex  cp  trestbps  chol  fbs  restecg  thalach  exang  oldpeak  \\\n",
       "0    63    1   3       145   233    1        0      150      0      2.3   \n",
       "1    37    1   2       130   250    0        1      187      0      3.5   \n",
       "2    41    0   1       130   204    0        0      172      0      1.4   \n",
       "3    56    1   1       120   236    0        1      178      0      0.8   \n",
       "4    57    0   0       120   354    0        1      163      1      0.6   \n",
       "5    57    1   0       140   192    0        1      148      0      0.4   \n",
       "6    56    0   1       140   294    0        0      153      0      1.3   \n",
       "7    44    1   1       120   263    0        1      173      0      0.0   \n",
       "8    52    1   2       172   199    1        1      162      0      0.5   \n",
       "9    57    1   2       150   168    0        1      174      0      1.6   \n",
       "10   54    1   0       140   239    0        1      160      0      1.2   \n",
       "11   48    0   2       130   275    0        1      139      0      0.2   \n",
       "12   49    1   1       130   266    0        1      171      0      0.6   \n",
       "13   64    1   3       110   211    0        0      144      1      1.8   \n",
       "14   58    0   3       150   283    1        0      162      0      1.0   \n",
       "15   50    0   2       120   219    0        1      158      0      1.6   \n",
       "16   58    0   2       120   340    0        1      172      0      0.0   \n",
       "17   66    0   3       150   226    0        1      114      0      2.6   \n",
       "18   43    1   0       150   247    0        1      171      0      1.5   \n",
       "19   69    0   3       140   239    0        1      151      0      1.8   \n",
       "\n",
       "    slope  ca  thal  target  \n",
       "0       0   0     1       1  \n",
       "1       0   0     2       1  \n",
       "2       2   0     2       1  \n",
       "3       2   0     2       1  \n",
       "4       2   0     2       1  \n",
       "5       1   0     1       1  \n",
       "6       1   0     2       1  \n",
       "7       2   0     3       1  \n",
       "8       2   0     3       1  \n",
       "9       2   0     2       1  \n",
       "10      2   0     2       1  \n",
       "11      2   0     2       1  \n",
       "12      2   0     2       1  \n",
       "13      1   0     2       1  \n",
       "14      2   0     2       1  \n",
       "15      1   0     2       1  \n",
       "16      2   0     2       1  \n",
       "17      0   0     2       1  \n",
       "18      2   0     2       1  \n",
       "19      2   2     2       1  "
      ]
     },
     "execution_count": 74,
     "metadata": {},
     "output_type": "execute_result"
    }
   ],
   "source": [
    "df = pd.read_csv(\"heart.csv\")\n",
    "df.head(20)"
   ]
  },
  {
   "cell_type": "markdown",
   "metadata": {},
   "source": [
    "**<h2 style=\"color:cyan\">Data Visualization</h2>**\n",
    "\n",
    "Plot the distribution between heart disease and the absence of it, indicated by the target\n",
    "attribute\n"
   ]
  },
  {
   "cell_type": "code",
   "execution_count": 75,
   "metadata": {},
   "outputs": [
    {
     "data": {
      "text/plain": [
       "Text(0.5, 0, '')"
      ]
     },
     "execution_count": 75,
     "metadata": {},
     "output_type": "execute_result"
    },
    {
     "data": {
      "image/png": "[encoded data removed]",
      "text/plain": [
       "<Figure size 864x360 with 1 Axes>"
      ]
     },
     "metadata": {
      "needs_background": "light"
     },
     "output_type": "display_data"
    }
   ],
   "source": [
    "plt.figure(figsize=(12,5))\n",
    "f = sns.countplot(x='target', data=df)\n",
    "f.set_title(\"Heart disease distribution\")\n",
    "f.set_xticklabels(['No Heart disease', 'Heart Disease'])\n",
    "plt.xlabel(\"\")"
   ]
  },
  {
   "cell_type": "markdown",
   "metadata": {},
   "source": [
    "Plot the distribution for male and female gender (skew). The distribution of “no heart disease” between males and females is skewed.\n"
   ]
  },
  {
   "cell_type": "code",
   "execution_count": 76,
   "metadata": {},
   "outputs": [
    {
     "data": {
      "text/plain": [
       "Text(0.5, 0, '')"
      ]
     },
     "execution_count": 76,
     "metadata": {},
     "output_type": "execute_result"
    },
    {
     "data": {
      "image/png": "[encoded data removed]",
      "text/plain": [
       "<Figure size 864x360 with 1 Axes>"
      ]
     },
     "metadata": {
      "needs_background": "light"
     },
     "output_type": "display_data"
    }
   ],
   "source": [
    "plt.figure(figsize=(12,5))\n",
    "f = sns.countplot(x='target', data=df, hue='sex')\n",
    "plt.legend(['Female', 'Male'])\n",
    "f.set_title(\"Heart disease by gender\")\n",
    "f.set_xticklabels(['No Heart disease', 'Heart Disease'])\n",
    "plt.xlabel(\"\")"
   ]
  },
  {
   "cell_type": "markdown",
   "metadata": {},
   "source": [
    "Plot a correlation map.\n",
    "There is no strong correlation between any of the 14 attributes."
   ]
  },
  {
   "cell_type": "code",
   "execution_count": 77,
   "metadata": {},
   "outputs": [
    {
     "data": {
      "image/png": "[encoded data removed]",
      "text/plain": [
       "<Figure size 864x576 with 2 Axes>"
      ]
     },
     "metadata": {
      "needs_background": "light"
     },
     "output_type": "display_data"
    }
   ],
   "source": [
    "plt.figure(figsize=(12,8))\n",
    "heat_map = sns.heatmap(df.corr(method='pearson'), annot=True,\n",
    "fmt='.2f', linewidths=2)\n",
    "heat_map.set_xticklabels(heat_map.get_xticklabels(), rotation=45);\n",
    "plt.rcParams[\"figure.figsize\"] = (50,50)"
   ]
  },
  {
   "cell_type": "markdown",
   "metadata": {},
   "source": [
    "**<h2 style=\"color:cyan\">Defining X (input) and y (target)</h2>**"
   ]
  },
  {
   "cell_type": "code",
   "execution_count": 78,
   "metadata": {},
   "outputs": [],
   "source": [
    "df[\"age\"] = df[\"age\"]/df[\"age\"].max()\n",
    "\n",
    "df[\"cp\"] = df[\"cp\"]/df[\"cp\"].max()\n",
    "\n",
    "df[\"trestbps\"] = df[\"trestbps\"]/df[\"trestbps\"].max()\n",
    "\n",
    "df[\"chol\"] = df[\"chol\"]/df[\"chol\"].max()\n",
    "\n",
    "df[\"thalach\"] = df[\"thalach\"]/df[\"thalach\"].max()\n",
    "\n",
    "df[\"oldpeak\"] = df[\"oldpeak\"]/df[\"oldpeak\"].max()\n",
    "\n",
    "df[\"slope\"] = df[\"slope\"]/df[\"slope\"].max()\n",
    "\n",
    "df[\"ca\"] = df[\"ca\"]/df[\"ca\"].max()\n",
    "\n",
    "df[\"thal\"] = df[\"thal\"]/df[\"thal\"].max()"
   ]
  },
  {
   "cell_type": "code",
   "execution_count": 79,
   "metadata": {},
   "outputs": [
    {
     "data": {
      "text/html": [
       "<div>\n",
       "<style scoped>\n",
       "    .dataframe tbody tr th:only-of-type {\n",
       "        vertical-align: middle;\n",
       "    }\n",
       "\n",
       "    .dataframe tbody tr th {\n",
       "        vertical-align: top;\n",
       "    }\n",
       "\n",
       "    .dataframe thead th {\n",
       "        text-align: right;\n",
       "    }\n",
       "</style>\n",
       "<table border=\"1\" class=\"dataframe\">\n",
       "  <thead>\n",
       "    <tr style=\"text-align: right;\">\n",
       "      <th></th>\n",
       "      <th>age</th>\n",
       "      <th>sex</th>\n",
       "      <th>cp</th>\n",
       "      <th>trestbps</th>\n",
       "      <th>chol</th>\n",
       "      <th>fbs</th>\n",
       "      <th>restecg</th>\n",
       "      <th>thalach</th>\n",
       "      <th>exang</th>\n",
       "      <th>oldpeak</th>\n",
       "      <th>slope</th>\n",
       "      <th>ca</th>\n",
       "      <th>thal</th>\n",
       "    </tr>\n",
       "  </thead>\n",
       "  <tbody>\n",
       "    <tr>\n",
       "      <th>0</th>\n",
       "      <td>0.818182</td>\n",
       "      <td>1</td>\n",
       "      <td>1.000000</td>\n",
       "      <td>0.725</td>\n",
       "      <td>0.413121</td>\n",
       "      <td>1</td>\n",
       "      <td>0</td>\n",
       "      <td>0.742574</td>\n",
       "      <td>0</td>\n",
       "      <td>0.370968</td>\n",
       "      <td>0.0</td>\n",
       "      <td>0.0</td>\n",
       "      <td>0.333333</td>\n",
       "    </tr>\n",
       "    <tr>\n",
       "      <th>1</th>\n",
       "      <td>0.480519</td>\n",
       "      <td>1</td>\n",
       "      <td>0.666667</td>\n",
       "      <td>0.650</td>\n",
       "      <td>0.443262</td>\n",
       "      <td>0</td>\n",
       "      <td>1</td>\n",
       "      <td>0.925743</td>\n",
       "      <td>0</td>\n",
       "      <td>0.564516</td>\n",
       "      <td>0.0</td>\n",
       "      <td>0.0</td>\n",
       "      <td>0.666667</td>\n",
       "    </tr>\n",
       "    <tr>\n",
       "      <th>2</th>\n",
       "      <td>0.532468</td>\n",
       "      <td>0</td>\n",
       "      <td>0.333333</td>\n",
       "      <td>0.650</td>\n",
       "      <td>0.361702</td>\n",
       "      <td>0</td>\n",
       "      <td>0</td>\n",
       "      <td>0.851485</td>\n",
       "      <td>0</td>\n",
       "      <td>0.225806</td>\n",
       "      <td>1.0</td>\n",
       "      <td>0.0</td>\n",
       "      <td>0.666667</td>\n",
       "    </tr>\n",
       "    <tr>\n",
       "      <th>3</th>\n",
       "      <td>0.727273</td>\n",
       "      <td>1</td>\n",
       "      <td>0.333333</td>\n",
       "      <td>0.600</td>\n",
       "      <td>0.418440</td>\n",
       "      <td>0</td>\n",
       "      <td>1</td>\n",
       "      <td>0.881188</td>\n",
       "      <td>0</td>\n",
       "      <td>0.129032</td>\n",
       "      <td>1.0</td>\n",
       "      <td>0.0</td>\n",
       "      <td>0.666667</td>\n",
       "    </tr>\n",
       "    <tr>\n",
       "      <th>4</th>\n",
       "      <td>0.740260</td>\n",
       "      <td>0</td>\n",
       "      <td>0.000000</td>\n",
       "      <td>0.600</td>\n",
       "      <td>0.627660</td>\n",
       "      <td>0</td>\n",
       "      <td>1</td>\n",
       "      <td>0.806931</td>\n",
       "      <td>1</td>\n",
       "      <td>0.096774</td>\n",
       "      <td>1.0</td>\n",
       "      <td>0.0</td>\n",
       "      <td>0.666667</td>\n",
       "    </tr>\n",
       "  </tbody>\n",
       "</table>\n",
       "</div>"
      ],
      "text/plain": [
       "        age  sex        cp  trestbps      chol  fbs  restecg   thalach  exang  \\\n",
       "0  0.818182    1  1.000000     0.725  0.413121    1        0  0.742574      0   \n",
       "1  0.480519    1  0.666667     0.650  0.443262    0        1  0.925743      0   \n",
       "2  0.532468    0  0.333333     0.650  0.361702    0        0  0.851485      0   \n",
       "3  0.727273    1  0.333333     0.600  0.418440    0        1  0.881188      0   \n",
       "4  0.740260    0  0.000000     0.600  0.627660    0        1  0.806931      1   \n",
       "\n",
       "    oldpeak  slope   ca      thal  \n",
       "0  0.370968    0.0  0.0  0.333333  \n",
       "1  0.564516    0.0  0.0  0.666667  \n",
       "2  0.225806    1.0  0.0  0.666667  \n",
       "3  0.129032    1.0  0.0  0.666667  \n",
       "4  0.096774    1.0  0.0  0.666667  "
      ]
     },
     "execution_count": 79,
     "metadata": {},
     "output_type": "execute_result"
    }
   ],
   "source": [
    "X = df.drop(['target'], axis=1)\n",
    "X.head()"
   ]
  },
  {
   "cell_type": "code",
   "execution_count": 80,
   "metadata": {},
   "outputs": [
    {
     "data": {
      "text/plain": [
       "0    1\n",
       "1    1\n",
       "2    1\n",
       "3    1\n",
       "4    1\n",
       "Name: target, dtype: int64"
      ]
     },
     "execution_count": 80,
     "metadata": {},
     "output_type": "execute_result"
    }
   ],
   "source": [
    "y = df['target']\n",
    "y.head()"
   ]
  },
  {
   "cell_type": "code",
   "execution_count": 81,
   "metadata": {},
   "outputs": [
    {
     "data": {
      "text/plain": [
       "(303,)"
      ]
     },
     "execution_count": 81,
     "metadata": {},
     "output_type": "execute_result"
    }
   ],
   "source": [
    "y.shape"
   ]
  },
  {
   "cell_type": "code",
   "execution_count": 82,
   "metadata": {},
   "outputs": [],
   "source": [
    "X = X.to_numpy()"
   ]
  },
  {
   "cell_type": "code",
   "execution_count": 83,
   "metadata": {},
   "outputs": [],
   "source": [
    "y = y.to_numpy()"
   ]
  },
  {
   "cell_type": "markdown",
   "metadata": {},
   "source": [
    "Converion to a NumPy array (better for NN)"
   ]
  },
  {
   "cell_type": "code",
   "execution_count": 84,
   "metadata": {},
   "outputs": [
    {
     "data": {
      "text/plain": [
       "array([[0.81818182, 1.        , 1.        , ..., 0.        , 0.        ,\n",
       "        0.33333333],\n",
       "       [0.48051948, 1.        , 0.66666667, ..., 0.        , 0.        ,\n",
       "        0.66666667],\n",
       "       [0.53246753, 0.        , 0.33333333, ..., 1.        , 0.        ,\n",
       "        0.66666667],\n",
       "       ...,\n",
       "       [0.88311688, 1.        , 0.        , ..., 0.5       , 0.5       ,\n",
       "        1.        ],\n",
       "       [0.74025974, 1.        , 0.        , ..., 0.5       , 0.25      ,\n",
       "        1.        ],\n",
       "       [0.74025974, 0.        , 0.33333333, ..., 0.5       , 0.25      ,\n",
       "        0.66666667]])"
      ]
     },
     "execution_count": 84,
     "metadata": {},
     "output_type": "execute_result"
    }
   ],
   "source": [
    "X"
   ]
  },
  {
   "cell_type": "code",
   "execution_count": 85,
   "metadata": {},
   "outputs": [
    {
     "data": {
      "text/plain": [
       "array([1, 1, 1, 1, 1, 1, 1, 1, 1, 1, 1, 1, 1, 1, 1, 1, 1, 1, 1, 1, 1, 1,\n",
       "       1, 1, 1, 1, 1, 1, 1, 1, 1, 1, 1, 1, 1, 1, 1, 1, 1, 1, 1, 1, 1, 1,\n",
       "       1, 1, 1, 1, 1, 1, 1, 1, 1, 1, 1, 1, 1, 1, 1, 1, 1, 1, 1, 1, 1, 1,\n",
       "       1, 1, 1, 1, 1, 1, 1, 1, 1, 1, 1, 1, 1, 1, 1, 1, 1, 1, 1, 1, 1, 1,\n",
       "       1, 1, 1, 1, 1, 1, 1, 1, 1, 1, 1, 1, 1, 1, 1, 1, 1, 1, 1, 1, 1, 1,\n",
       "       1, 1, 1, 1, 1, 1, 1, 1, 1, 1, 1, 1, 1, 1, 1, 1, 1, 1, 1, 1, 1, 1,\n",
       "       1, 1, 1, 1, 1, 1, 1, 1, 1, 1, 1, 1, 1, 1, 1, 1, 1, 1, 1, 1, 1, 1,\n",
       "       1, 1, 1, 1, 1, 1, 1, 1, 1, 1, 1, 0, 0, 0, 0, 0, 0, 0, 0, 0, 0, 0,\n",
       "       0, 0, 0, 0, 0, 0, 0, 0, 0, 0, 0, 0, 0, 0, 0, 0, 0, 0, 0, 0, 0, 0,\n",
       "       0, 0, 0, 0, 0, 0, 0, 0, 0, 0, 0, 0, 0, 0, 0, 0, 0, 0, 0, 0, 0, 0,\n",
       "       0, 0, 0, 0, 0, 0, 0, 0, 0, 0, 0, 0, 0, 0, 0, 0, 0, 0, 0, 0, 0, 0,\n",
       "       0, 0, 0, 0, 0, 0, 0, 0, 0, 0, 0, 0, 0, 0, 0, 0, 0, 0, 0, 0, 0, 0,\n",
       "       0, 0, 0, 0, 0, 0, 0, 0, 0, 0, 0, 0, 0, 0, 0, 0, 0, 0, 0, 0, 0, 0,\n",
       "       0, 0, 0, 0, 0, 0, 0, 0, 0, 0, 0, 0, 0, 0, 0, 0, 0], dtype=int64)"
      ]
     },
     "execution_count": 85,
     "metadata": {},
     "output_type": "execute_result"
    }
   ],
   "source": [
    "y"
   ]
  },
  {
   "cell_type": "markdown",
   "metadata": {},
   "source": [
    "**<h2 style=\"color:cyan\">Splitting the data</h2>**"
   ]
  },
  {
   "cell_type": "code",
   "execution_count": 86,
   "metadata": {},
   "outputs": [],
   "source": [
    "X_train, X_test, y_train, y_test = train_test_split(X, y, test_size=0.20)"
   ]
  },
  {
   "cell_type": "code",
   "execution_count": 87,
   "metadata": {},
   "outputs": [
    {
     "data": {
      "text/plain": [
       "array([1, 0, 1, 1, 1, 0, 0, 1, 0, 0, 0, 0, 0, 1, 1, 0, 1, 1, 0, 1, 1, 1,\n",
       "       0, 1, 1, 1, 1, 0, 0, 0, 0, 0, 1, 1, 1, 1, 1, 1, 0, 0, 1, 0, 1, 0,\n",
       "       1, 1, 0, 1, 1, 0, 1, 1, 1, 0, 1, 1, 1, 1, 0, 0, 1], dtype=int64)"
      ]
     },
     "execution_count": 87,
     "metadata": {},
     "output_type": "execute_result"
    }
   ],
   "source": [
    "y_test"
   ]
  },
  {
   "cell_type": "code",
   "execution_count": 88,
   "metadata": {},
   "outputs": [
    {
     "data": {
      "text/plain": [
       "(61,)"
      ]
     },
     "execution_count": 88,
     "metadata": {},
     "output_type": "execute_result"
    }
   ],
   "source": [
    "y_test.shape"
   ]
  },
  {
   "cell_type": "code",
   "execution_count": 89,
   "metadata": {},
   "outputs": [
    {
     "name": "stdout",
     "output_type": "stream",
     "text": [
      "Xtrain shape:  (242, 13)\n",
      "ytrain shape:  (242,)\n",
      "Xtest shape:  (61, 13)\n",
      "ytest shape:  (61,)\n"
     ]
    }
   ],
   "source": [
    "print(\"Xtrain shape: \", X_train.shape)\n",
    "print(\"ytrain shape: \", y_train.shape)\n",
    "print(\"Xtest shape: \", X_test.shape)\n",
    "print(\"ytest shape: \", y_test.shape)"
   ]
  },
  {
   "cell_type": "markdown",
   "metadata": {},
   "source": [
    "**<h2 style=\"color:cyan\">Parameters</h2>**\n"
   ]
  },
  {
   "cell_type": "code",
   "execution_count": 90,
   "metadata": {},
   "outputs": [],
   "source": [
    "epoch = 100\n",
    "activ = [\"sigmoid\", \"relu\", \"softmax\"]\n",
    "\n",
    "# Hidden layers\n",
    "layer_1 = 13 # Number of Neurons\n",
    "layer_2 = 9"
   ]
  },
  {
   "cell_type": "markdown",
   "metadata": {},
   "source": [
    "**<h2 style=\"color:cyan\">Build the Network</h2>**\n"
   ]
  },
  {
   "cell_type": "code",
   "execution_count": 91,
   "metadata": {},
   "outputs": [],
   "source": [
    "network = models.Sequential()  # linear stack of layers\n",
    "\n",
    "network.add(layers.Dense(layer_1, activation=activ[1], input_shape = (13,))) # (13,) vector \n",
    "network.add(layers.Dense(layer_2, activation=activ[1])) # the info about input_shape is taken from the layer above\n",
    "\n",
    "# Output Layer\n",
    "network.add(layers.Dense(1, activation=activ[0]))"
   ]
  },
  {
   "cell_type": "code",
   "execution_count": 92,
   "metadata": {},
   "outputs": [
    {
     "name": "stdout",
     "output_type": "stream",
     "text": [
      "Model: \"sequential_2\"\n",
      "_________________________________________________________________\n",
      " Layer (type)                Output Shape              Param #   \n",
      "=================================================================\n",
      " dense_6 (Dense)             (None, 13)                182       \n",
      "                                                                 \n",
      " dense_7 (Dense)             (None, 9)                 126       \n",
      "                                                                 \n",
      " dense_8 (Dense)             (None, 1)                 10        \n",
      "                                                                 \n",
      "=================================================================\n",
      "Total params: 318\n",
      "Trainable params: 318\n",
      "Non-trainable params: 0\n",
      "_________________________________________________________________\n"
     ]
    }
   ],
   "source": [
    "network.summary()  # Parameters: weight + bias"
   ]
  },
  {
   "cell_type": "markdown",
   "metadata": {},
   "source": [
    "**<h2 style=\"color:cyan\" align=\"left\">Complie / Configure the network</h2>**\n",
    "\n",
    "- Optimizer: Mechasim to update the weights and biases\n",
    "- Loss: (like error) How my model performs > MSE, MAE, etc.\n",
    "- Metrics: Performance of my model > accuracy \n",
    "\n",
    "Accuracy --> between bad 0 and good 1. Pay attention to the numbers."
   ]
  },
  {
   "cell_type": "code",
   "execution_count": 93,
   "metadata": {},
   "outputs": [],
   "source": [
    "network.compile(loss='binary_crossentropy', optimizer='adam', metrics=['accuracy'])"
   ]
  },
  {
   "cell_type": "code",
   "execution_count": 94,
   "metadata": {},
   "outputs": [
    {
     "data": {
      "text/plain": [
       "\"\\nmy_callback_list = [\\n                   EarlyStopping(min_delta= 0.001, patience = 5)  # early stopping if no improvement for 5 epochs more than 0.0001\\n                   # MyCustomCallback(), # uses my custome call back class #<--------------------------\\n                   # CSVLogger('./training.log'),  # logs the result for each epoch in a csv file\\n                   # ModelCheckpoint(filepath='./models/model.{epoch:02d}-{val_loss:.2f}.h5'),\\n                   # save the model under the name xyz\\n                    ]\\n\""
      ]
     },
     "execution_count": 94,
     "metadata": {},
     "output_type": "execute_result"
    }
   ],
   "source": [
    "from keras.callbacks import EarlyStopping, CSVLogger, ModelCheckpoint\n",
    "\n",
    "from class_MyCustomCallback import MyCustomCallback\n",
    "\n",
    "# Advanced: list of callback instances\n",
    "\"\"\"\n",
    "my_callback_list = [\n",
    "                   EarlyStopping(min_delta= 0.001, patience = 5)  # early stopping if no improvement for 5 epochs more than 0.0001\n",
    "                   # MyCustomCallback(), # uses my custome call back class #<--------------------------\n",
    "                   # CSVLogger('./training.log'),  # logs the result for each epoch in a csv file\n",
    "                   # ModelCheckpoint(filepath='./models/model.{epoch:02d}-{val_loss:.2f}.h5'),\n",
    "                   # save the model under the name xyz\n",
    "                    ]\n",
    "\"\"\""
   ]
  },
  {
   "cell_type": "markdown",
   "metadata": {},
   "source": [
    "**<h2 style=\"color:cyan\" align=\"left\">Fit the network</h2>**"
   ]
  },
  {
   "cell_type": "code",
   "execution_count": 95,
   "metadata": {},
   "outputs": [
    {
     "name": "stdout",
     "output_type": "stream",
     "text": [
      "Epoch 1/100\n",
      "44/44 [==============================] - 3s 28ms/step - loss: 0.6915 - accuracy: 0.4747 - val_loss: 0.6919 - val_accuracy: 0.4400\n",
      "Epoch 2/100\n",
      "44/44 [==============================] - 0s 6ms/step - loss: 0.6865 - accuracy: 0.4885 - val_loss: 0.6856 - val_accuracy: 0.5600\n",
      "Epoch 3/100\n",
      "44/44 [==============================] - 0s 8ms/step - loss: 0.6815 - accuracy: 0.5945 - val_loss: 0.6770 - val_accuracy: 0.5600\n",
      "Epoch 4/100\n",
      "44/44 [==============================] - 0s 8ms/step - loss: 0.6737 - accuracy: 0.5576 - val_loss: 0.6637 - val_accuracy: 0.5600\n",
      "Epoch 5/100\n",
      "44/44 [==============================] - 0s 5ms/step - loss: 0.6616 - accuracy: 0.6359 - val_loss: 0.6495 - val_accuracy: 0.5600\n",
      "Epoch 6/100\n",
      "44/44 [==============================] - 0s 8ms/step - loss: 0.6474 - accuracy: 0.6359 - val_loss: 0.6307 - val_accuracy: 0.6000\n",
      "Epoch 7/100\n",
      "44/44 [==============================] - 0s 5ms/step - loss: 0.6278 - accuracy: 0.6636 - val_loss: 0.5849 - val_accuracy: 0.6400\n",
      "Epoch 8/100\n",
      "44/44 [==============================] - 0s 7ms/step - loss: 0.5582 - accuracy: 0.7742 - val_loss: 0.4493 - val_accuracy: 0.8800\n",
      "Epoch 9/100\n",
      "44/44 [==============================] - 0s 5ms/step - loss: 0.4953 - accuracy: 0.8018 - val_loss: 0.3644 - val_accuracy: 0.9200\n",
      "Epoch 10/100\n",
      "44/44 [==============================] - 0s 7ms/step - loss: 0.4529 - accuracy: 0.8157 - val_loss: 0.3305 - val_accuracy: 0.9200\n",
      "Epoch 11/100\n",
      "44/44 [==============================] - 0s 5ms/step - loss: 0.4308 - accuracy: 0.8249 - val_loss: 0.3079 - val_accuracy: 0.9200\n",
      "Epoch 12/100\n",
      "44/44 [==============================] - 0s 8ms/step - loss: 0.4265 - accuracy: 0.8203 - val_loss: 0.2965 - val_accuracy: 0.9200\n",
      "Epoch 13/100\n",
      "44/44 [==============================] - 0s 7ms/step - loss: 0.4135 - accuracy: 0.8387 - val_loss: 0.2890 - val_accuracy: 0.9200\n",
      "Epoch 14/100\n",
      "44/44 [==============================] - 0s 5ms/step - loss: 0.4111 - accuracy: 0.8295 - val_loss: 0.2862 - val_accuracy: 0.9200\n",
      "Epoch 15/100\n",
      "44/44 [==============================] - 0s 5ms/step - loss: 0.4036 - accuracy: 0.8249 - val_loss: 0.2818 - val_accuracy: 0.9200\n",
      "Epoch 16/100\n",
      "44/44 [==============================] - 0s 6ms/step - loss: 0.3987 - accuracy: 0.8295 - val_loss: 0.2783 - val_accuracy: 0.9200\n",
      "Epoch 17/100\n",
      "44/44 [==============================] - 0s 7ms/step - loss: 0.4020 - accuracy: 0.8203 - val_loss: 0.2743 - val_accuracy: 0.9200\n",
      "Epoch 18/100\n",
      "44/44 [==============================] - 0s 5ms/step - loss: 0.3981 - accuracy: 0.8295 - val_loss: 0.2728 - val_accuracy: 0.9200\n",
      "Epoch 19/100\n",
      "44/44 [==============================] - 0s 4ms/step - loss: 0.3902 - accuracy: 0.8157 - val_loss: 0.2776 - val_accuracy: 0.9200\n",
      "Epoch 20/100\n",
      "44/44 [==============================] - 0s 5ms/step - loss: 0.3970 - accuracy: 0.8341 - val_loss: 0.2734 - val_accuracy: 0.9200\n",
      "Epoch 21/100\n",
      "44/44 [==============================] - 0s 5ms/step - loss: 0.3906 - accuracy: 0.8387 - val_loss: 0.2756 - val_accuracy: 0.9200\n",
      "Epoch 22/100\n",
      "44/44 [==============================] - 0s 3ms/step - loss: 0.3887 - accuracy: 0.8387 - val_loss: 0.2719 - val_accuracy: 0.9200\n",
      "Epoch 23/100\n",
      "44/44 [==============================] - 0s 5ms/step - loss: 0.3846 - accuracy: 0.8295 - val_loss: 0.2716 - val_accuracy: 0.9200\n",
      "Epoch 24/100\n",
      "44/44 [==============================] - 0s 6ms/step - loss: 0.3846 - accuracy: 0.8479 - val_loss: 0.2738 - val_accuracy: 0.9200\n",
      "Epoch 25/100\n",
      "44/44 [==============================] - 0s 5ms/step - loss: 0.3819 - accuracy: 0.8433 - val_loss: 0.2724 - val_accuracy: 0.9200\n",
      "Epoch 26/100\n",
      "44/44 [==============================] - 0s 6ms/step - loss: 0.3815 - accuracy: 0.8295 - val_loss: 0.2727 - val_accuracy: 0.9200\n",
      "Epoch 27/100\n",
      "44/44 [==============================] - 0s 6ms/step - loss: 0.3800 - accuracy: 0.8479 - val_loss: 0.2724 - val_accuracy: 0.9200\n",
      "Epoch 28/100\n",
      "44/44 [==============================] - 0s 5ms/step - loss: 0.3807 - accuracy: 0.8433 - val_loss: 0.2743 - val_accuracy: 0.9200\n",
      "Epoch 29/100\n",
      "44/44 [==============================] - 0s 5ms/step - loss: 0.3782 - accuracy: 0.8387 - val_loss: 0.2743 - val_accuracy: 0.9200\n",
      "Epoch 30/100\n",
      "44/44 [==============================] - 0s 6ms/step - loss: 0.3755 - accuracy: 0.8433 - val_loss: 0.2746 - val_accuracy: 0.9200\n",
      "Epoch 31/100\n",
      "44/44 [==============================] - 1s 14ms/step - loss: 0.3771 - accuracy: 0.8295 - val_loss: 0.2754 - val_accuracy: 0.9200\n",
      "Epoch 32/100\n",
      "44/44 [==============================] - 1s 30ms/step - loss: 0.3758 - accuracy: 0.8433 - val_loss: 0.2783 - val_accuracy: 0.9200\n",
      "Epoch 33/100\n",
      "44/44 [==============================] - 2s 43ms/step - loss: 0.3744 - accuracy: 0.8295 - val_loss: 0.2780 - val_accuracy: 0.9200\n",
      "Epoch 34/100\n",
      "44/44 [==============================] - 2s 42ms/step - loss: 0.3737 - accuracy: 0.8479 - val_loss: 0.2775 - val_accuracy: 0.9200\n",
      "Epoch 35/100\n",
      "44/44 [==============================] - 1s 21ms/step - loss: 0.3720 - accuracy: 0.8387 - val_loss: 0.2789 - val_accuracy: 0.9200\n",
      "Epoch 36/100\n",
      "44/44 [==============================] - 1s 15ms/step - loss: 0.3720 - accuracy: 0.8341 - val_loss: 0.2788 - val_accuracy: 0.9200\n",
      "Epoch 37/100\n",
      "44/44 [==============================] - 1s 18ms/step - loss: 0.3724 - accuracy: 0.8433 - val_loss: 0.2811 - val_accuracy: 0.9200\n",
      "Epoch 38/100\n",
      "44/44 [==============================] - 0s 4ms/step - loss: 0.3772 - accuracy: 0.8433 - val_loss: 0.2829 - val_accuracy: 0.9200\n",
      "Epoch 39/100\n",
      "44/44 [==============================] - 1s 19ms/step - loss: 0.3713 - accuracy: 0.8387 - val_loss: 0.2820 - val_accuracy: 0.9200\n",
      "Epoch 40/100\n",
      "44/44 [==============================] - 1s 23ms/step - loss: 0.3713 - accuracy: 0.8433 - val_loss: 0.2861 - val_accuracy: 0.9200\n",
      "Epoch 41/100\n",
      "44/44 [==============================] - 1s 19ms/step - loss: 0.3689 - accuracy: 0.8433 - val_loss: 0.2868 - val_accuracy: 0.9200\n",
      "Epoch 42/100\n",
      "44/44 [==============================] - 1s 17ms/step - loss: 0.3686 - accuracy: 0.8341 - val_loss: 0.2888 - val_accuracy: 0.9200\n",
      "Epoch 43/100\n",
      "44/44 [==============================] - 1s 17ms/step - loss: 0.3655 - accuracy: 0.8433 - val_loss: 0.2899 - val_accuracy: 0.8800\n",
      "Epoch 44/100\n",
      "44/44 [==============================] - 1s 30ms/step - loss: 0.3655 - accuracy: 0.8387 - val_loss: 0.2886 - val_accuracy: 0.9200\n",
      "Epoch 45/100\n",
      "44/44 [==============================] - 2s 34ms/step - loss: 0.3659 - accuracy: 0.8387 - val_loss: 0.2913 - val_accuracy: 0.8800\n",
      "Epoch 46/100\n",
      "44/44 [==============================] - 1s 19ms/step - loss: 0.3662 - accuracy: 0.8249 - val_loss: 0.2904 - val_accuracy: 0.9200\n",
      "Epoch 47/100\n",
      "44/44 [==============================] - 1s 19ms/step - loss: 0.3665 - accuracy: 0.8433 - val_loss: 0.2930 - val_accuracy: 0.9200\n",
      "Epoch 48/100\n",
      "44/44 [==============================] - 1s 21ms/step - loss: 0.3667 - accuracy: 0.8341 - val_loss: 0.2935 - val_accuracy: 0.8800\n",
      "Epoch 49/100\n",
      "44/44 [==============================] - 0s 6ms/step - loss: 0.3636 - accuracy: 0.8479 - val_loss: 0.2939 - val_accuracy: 0.8800\n",
      "Epoch 50/100\n",
      "44/44 [==============================] - 1s 27ms/step - loss: 0.3618 - accuracy: 0.8295 - val_loss: 0.2941 - val_accuracy: 0.8800\n",
      "Epoch 51/100\n",
      "44/44 [==============================] - 1s 13ms/step - loss: 0.3623 - accuracy: 0.8433 - val_loss: 0.2971 - val_accuracy: 0.8800\n",
      "Epoch 52/100\n",
      "44/44 [==============================] - 1s 14ms/step - loss: 0.3620 - accuracy: 0.8341 - val_loss: 0.2972 - val_accuracy: 0.8800\n",
      "Epoch 53/100\n",
      "44/44 [==============================] - 1s 22ms/step - loss: 0.3620 - accuracy: 0.8341 - val_loss: 0.2979 - val_accuracy: 0.8800\n",
      "Epoch 54/100\n",
      "44/44 [==============================] - 1s 20ms/step - loss: 0.3581 - accuracy: 0.8433 - val_loss: 0.2994 - val_accuracy: 0.8800\n",
      "Epoch 55/100\n",
      "44/44 [==============================] - 1s 14ms/step - loss: 0.3603 - accuracy: 0.8479 - val_loss: 0.2996 - val_accuracy: 0.8800\n",
      "Epoch 56/100\n",
      "44/44 [==============================] - 1s 19ms/step - loss: 0.3600 - accuracy: 0.8525 - val_loss: 0.3015 - val_accuracy: 0.8800\n",
      "Epoch 57/100\n",
      "44/44 [==============================] - 1s 14ms/step - loss: 0.3606 - accuracy: 0.8387 - val_loss: 0.3008 - val_accuracy: 0.8800\n",
      "Epoch 58/100\n",
      "44/44 [==============================] - 1s 20ms/step - loss: 0.3606 - accuracy: 0.8433 - val_loss: 0.3050 - val_accuracy: 0.8800\n",
      "Epoch 59/100\n",
      "44/44 [==============================] - 1s 13ms/step - loss: 0.3597 - accuracy: 0.8433 - val_loss: 0.3040 - val_accuracy: 0.8800\n",
      "Epoch 60/100\n",
      "44/44 [==============================] - 1s 17ms/step - loss: 0.3620 - accuracy: 0.8433 - val_loss: 0.3029 - val_accuracy: 0.8800\n",
      "Epoch 61/100\n",
      "44/44 [==============================] - 1s 22ms/step - loss: 0.3546 - accuracy: 0.8479 - val_loss: 0.3039 - val_accuracy: 0.8800\n",
      "Epoch 62/100\n",
      "44/44 [==============================] - 1s 16ms/step - loss: 0.3542 - accuracy: 0.8433 - val_loss: 0.3034 - val_accuracy: 0.8800\n",
      "Epoch 63/100\n",
      "44/44 [==============================] - 1s 15ms/step - loss: 0.3539 - accuracy: 0.8433 - val_loss: 0.3029 - val_accuracy: 0.8800\n",
      "Epoch 64/100\n",
      "44/44 [==============================] - 1s 13ms/step - loss: 0.3527 - accuracy: 0.8387 - val_loss: 0.3041 - val_accuracy: 0.8800\n",
      "Epoch 65/100\n",
      "44/44 [==============================] - 1s 13ms/step - loss: 0.3515 - accuracy: 0.8433 - val_loss: 0.3065 - val_accuracy: 0.8800\n",
      "Epoch 66/100\n",
      "44/44 [==============================] - 1s 25ms/step - loss: 0.3513 - accuracy: 0.8479 - val_loss: 0.3061 - val_accuracy: 0.8800\n",
      "Epoch 67/100\n",
      "44/44 [==============================] - 1s 22ms/step - loss: 0.3479 - accuracy: 0.8479 - val_loss: 0.3075 - val_accuracy: 0.8800\n",
      "Epoch 68/100\n",
      "44/44 [==============================] - 1s 17ms/step - loss: 0.3471 - accuracy: 0.8479 - val_loss: 0.3106 - val_accuracy: 0.8800\n",
      "Epoch 69/100\n",
      "44/44 [==============================] - 1s 21ms/step - loss: 0.3487 - accuracy: 0.8387 - val_loss: 0.3077 - val_accuracy: 0.8800\n",
      "Epoch 70/100\n",
      "44/44 [==============================] - 1s 23ms/step - loss: 0.3451 - accuracy: 0.8525 - val_loss: 0.3121 - val_accuracy: 0.8800\n",
      "Epoch 71/100\n",
      "44/44 [==============================] - 1s 22ms/step - loss: 0.3428 - accuracy: 0.8387 - val_loss: 0.3120 - val_accuracy: 0.8800\n",
      "Epoch 72/100\n",
      "44/44 [==============================] - 1s 23ms/step - loss: 0.3413 - accuracy: 0.8525 - val_loss: 0.3145 - val_accuracy: 0.8800\n",
      "Epoch 73/100\n",
      "44/44 [==============================] - 1s 15ms/step - loss: 0.3433 - accuracy: 0.8433 - val_loss: 0.3152 - val_accuracy: 0.8800\n",
      "Epoch 74/100\n",
      "44/44 [==============================] - 0s 9ms/step - loss: 0.3409 - accuracy: 0.8387 - val_loss: 0.3171 - val_accuracy: 0.8800\n",
      "Epoch 75/100\n",
      "44/44 [==============================] - 2s 38ms/step - loss: 0.3392 - accuracy: 0.8479 - val_loss: 0.3175 - val_accuracy: 0.8800\n",
      "Epoch 76/100\n",
      "44/44 [==============================] - 1s 16ms/step - loss: 0.3412 - accuracy: 0.8433 - val_loss: 0.3184 - val_accuracy: 0.8800\n",
      "Epoch 77/100\n",
      "44/44 [==============================] - 1s 14ms/step - loss: 0.3400 - accuracy: 0.8433 - val_loss: 0.3228 - val_accuracy: 0.8800\n",
      "Epoch 78/100\n",
      "44/44 [==============================] - 1s 21ms/step - loss: 0.3389 - accuracy: 0.8479 - val_loss: 0.3205 - val_accuracy: 0.8800\n",
      "Epoch 79/100\n",
      "44/44 [==============================] - 1s 12ms/step - loss: 0.3353 - accuracy: 0.8433 - val_loss: 0.3226 - val_accuracy: 0.8800\n",
      "Epoch 80/100\n",
      "44/44 [==============================] - 1s 23ms/step - loss: 0.3339 - accuracy: 0.8479 - val_loss: 0.3243 - val_accuracy: 0.8800\n",
      "Epoch 81/100\n",
      "44/44 [==============================] - 1s 19ms/step - loss: 0.3329 - accuracy: 0.8571 - val_loss: 0.3235 - val_accuracy: 0.8800\n",
      "Epoch 82/100\n",
      "44/44 [==============================] - 1s 18ms/step - loss: 0.3398 - accuracy: 0.8571 - val_loss: 0.3246 - val_accuracy: 0.8800\n",
      "Epoch 83/100\n",
      "44/44 [==============================] - 1s 22ms/step - loss: 0.3307 - accuracy: 0.8571 - val_loss: 0.3273 - val_accuracy: 0.8800\n",
      "Epoch 84/100\n",
      "44/44 [==============================] - 1s 17ms/step - loss: 0.3304 - accuracy: 0.8618 - val_loss: 0.3301 - val_accuracy: 0.8800\n",
      "Epoch 85/100\n",
      "44/44 [==============================] - 1s 21ms/step - loss: 0.3300 - accuracy: 0.8433 - val_loss: 0.3292 - val_accuracy: 0.8800\n",
      "Epoch 86/100\n",
      "44/44 [==============================] - 0s 8ms/step - loss: 0.3280 - accuracy: 0.8618 - val_loss: 0.3298 - val_accuracy: 0.8800\n",
      "Epoch 87/100\n",
      "44/44 [==============================] - 1s 22ms/step - loss: 0.3281 - accuracy: 0.8618 - val_loss: 0.3313 - val_accuracy: 0.8800\n",
      "Epoch 88/100\n",
      "44/44 [==============================] - 1s 19ms/step - loss: 0.3305 - accuracy: 0.8433 - val_loss: 0.3321 - val_accuracy: 0.8800\n",
      "Epoch 89/100\n",
      "44/44 [==============================] - 1s 20ms/step - loss: 0.3262 - accuracy: 0.8525 - val_loss: 0.3325 - val_accuracy: 0.8800\n",
      "Epoch 90/100\n",
      "44/44 [==============================] - 1s 20ms/step - loss: 0.3253 - accuracy: 0.8525 - val_loss: 0.3332 - val_accuracy: 0.8800\n",
      "Epoch 91/100\n",
      "44/44 [==============================] - 1s 19ms/step - loss: 0.3278 - accuracy: 0.8525 - val_loss: 0.3384 - val_accuracy: 0.8800\n",
      "Epoch 92/100\n",
      "44/44 [==============================] - 1s 22ms/step - loss: 0.3326 - accuracy: 0.8479 - val_loss: 0.3361 - val_accuracy: 0.8800\n",
      "Epoch 93/100\n",
      "44/44 [==============================] - 1s 17ms/step - loss: 0.3241 - accuracy: 0.8618 - val_loss: 0.3355 - val_accuracy: 0.8800\n",
      "Epoch 94/100\n",
      "44/44 [==============================] - 1s 21ms/step - loss: 0.3238 - accuracy: 0.8618 - val_loss: 0.3421 - val_accuracy: 0.8800\n",
      "Epoch 95/100\n",
      "44/44 [==============================] - 1s 18ms/step - loss: 0.3219 - accuracy: 0.8618 - val_loss: 0.3371 - val_accuracy: 0.8800\n",
      "Epoch 96/100\n",
      "44/44 [==============================] - 1s 21ms/step - loss: 0.3202 - accuracy: 0.8664 - val_loss: 0.3421 - val_accuracy: 0.8800\n",
      "Epoch 97/100\n",
      "44/44 [==============================] - 1s 13ms/step - loss: 0.3232 - accuracy: 0.8710 - val_loss: 0.3371 - val_accuracy: 0.8800\n",
      "Epoch 98/100\n",
      "44/44 [==============================] - 1s 14ms/step - loss: 0.3149 - accuracy: 0.8664 - val_loss: 0.3440 - val_accuracy: 0.8800\n",
      "Epoch 99/100\n",
      "44/44 [==============================] - 1s 20ms/step - loss: 0.3171 - accuracy: 0.8618 - val_loss: 0.3424 - val_accuracy: 0.8800\n",
      "Epoch 100/100\n",
      "44/44 [==============================] - 1s 21ms/step - loss: 0.3185 - accuracy: 0.8664 - val_loss: 0.3411 - val_accuracy: 0.8800\n"
     ]
    }
   ],
   "source": [
    "history = network.fit(X_train, y_train, epochs=epoch, shuffle=True, verbose=1, validation_split= 0.1, batch_size=5)"
   ]
  },
  {
   "cell_type": "code",
   "execution_count": 96,
   "metadata": {},
   "outputs": [],
   "source": [
    "# history = network.fit(X_train, y_train, epochs=epoch, shuffle=True, verbose=1, validation_split= 0.1)"
   ]
  },
  {
   "cell_type": "code",
   "execution_count": 97,
   "metadata": {},
   "outputs": [
    {
     "data": {
      "image/png": "[encoded data removed]",
      "text/plain": [
       "<Figure size 864x576 with 1 Axes>"
      ]
     },
     "metadata": {
      "needs_background": "light"
     },
     "output_type": "display_data"
    }
   ],
   "source": [
    "plt.figure(figsize=(12,8))\n",
    "plt.plot(history.history['accuracy'])\n",
    "plt.plot(history.history['val_accuracy'])\n",
    "plt.xlabel(\"Epochs\")\n",
    "plt.ylabel(\"Accuracy\")\n",
    "plt.legend([\"Training_acc\", \"Validation_acc\"])\n",
    "plt.show()"
   ]
  },
  {
   "cell_type": "code",
   "execution_count": 98,
   "metadata": {},
   "outputs": [
    {
     "name": "stdout",
     "output_type": "stream",
     "text": [
      "2/2 [==============================] - 1s 12ms/step - loss: 0.3602 - accuracy: 0.8361\n",
      "Test Loss: 0.3602401316165924\n",
      "Test Accuracy:  0.8360655903816223\n"
     ]
    }
   ],
   "source": [
    "# Test score for test data using evaluation\n",
    "test1_score, test2_score = network.evaluate(X_test, y_test)\n",
    "\n",
    "print('Test Loss:', test1_score)\n",
    "print('Test Accuracy: ', test2_score)"
   ]
  },
  {
   "cell_type": "code",
   "execution_count": 99,
   "metadata": {},
   "outputs": [],
   "source": [
    "prediction = network.predict(x = X_test)\n"
   ]
  },
  {
   "cell_type": "code",
   "execution_count": 100,
   "metadata": {},
   "outputs": [
    {
     "name": "stdout",
     "output_type": "stream",
     "text": [
      "prediction for y_test [0.9671639]\n",
      "prediction for y_test [0.01308763]\n",
      "prediction for y_test [0.86265624]\n",
      "prediction for y_test [0.8719621]\n",
      "prediction for y_test [0.32772464]\n",
      "prediction for y_test [0.01506391]\n",
      "prediction for y_test [0.00813967]\n",
      "prediction for y_test [0.8545219]\n",
      "prediction for y_test [0.95200455]\n",
      "prediction for y_test [0.78591335]\n",
      "prediction for y_test [0.0022949]\n",
      "prediction for y_test [0.07698208]\n",
      "prediction for y_test [0.00075829]\n",
      "prediction for y_test [0.56104]\n",
      "prediction for y_test [0.65578234]\n",
      "prediction for y_test [0.22598046]\n",
      "prediction for y_test [0.97363085]\n",
      "prediction for y_test [0.89502096]\n",
      "prediction for y_test [0.36162895]\n",
      "prediction for y_test [0.80170965]\n",
      "prediction for y_test [0.9764156]\n",
      "prediction for y_test [0.7245752]\n",
      "prediction for y_test [0.04324958]\n",
      "prediction for y_test [0.8806511]\n",
      "prediction for y_test [0.965634]\n",
      "prediction for y_test [0.88106763]\n",
      "prediction for y_test [0.9541404]\n",
      "prediction for y_test [0.05587605]\n",
      "prediction for y_test [0.15621755]\n",
      "prediction for y_test [0.6203015]\n",
      "prediction for y_test [0.14821923]\n",
      "prediction for y_test [0.02096751]\n",
      "prediction for y_test [0.8737459]\n",
      "prediction for y_test [0.88238704]\n",
      "prediction for y_test [0.23238695]\n",
      "prediction for y_test [0.9061899]\n",
      "prediction for y_test [0.91589093]\n",
      "prediction for y_test [0.9929272]\n",
      "prediction for y_test [0.6087973]\n",
      "prediction for y_test [0.8560451]\n",
      "prediction for y_test [0.60733974]\n",
      "prediction for y_test [0.06813061]\n",
      "prediction for y_test [0.9890496]\n",
      "prediction for y_test [0.00716344]\n",
      "prediction for y_test [0.96604115]\n",
      "prediction for y_test [0.8701558]\n",
      "prediction for y_test [0.03918883]\n",
      "prediction for y_test [0.34650776]\n",
      "prediction for y_test [0.53647137]\n",
      "prediction for y_test [0.0657337]\n",
      "prediction for y_test [0.7293452]\n",
      "prediction for y_test [0.81606233]\n",
      "prediction for y_test [0.589795]\n",
      "prediction for y_test [0.7861023]\n",
      "prediction for y_test [0.8994628]\n",
      "prediction for y_test [0.4086468]\n",
      "prediction for y_test [0.8815626]\n",
      "prediction for y_test [0.97450256]\n",
      "prediction for y_test [0.00905785]\n",
      "prediction for y_test [0.07205933]\n",
      "prediction for y_test [0.70314515]\n"
     ]
    }
   ],
   "source": [
    "# Just an overview of the predicted y data for y_test (20%)\n",
    "for i in prediction:\n",
    "    print(\"prediction for y_test\", i)"
   ]
  },
  {
   "cell_type": "code",
   "execution_count": 101,
   "metadata": {},
   "outputs": [],
   "source": [
    "rounded_prediction = np.round(prediction)"
   ]
  },
  {
   "cell_type": "code",
   "execution_count": 102,
   "metadata": {},
   "outputs": [
    {
     "data": {
      "text/plain": [
       "array([[1.],\n",
       "       [0.],\n",
       "       [1.],\n",
       "       [1.],\n",
       "       [0.],\n",
       "       [0.],\n",
       "       [0.],\n",
       "       [1.],\n",
       "       [1.],\n",
       "       [1.],\n",
       "       [0.],\n",
       "       [0.],\n",
       "       [0.],\n",
       "       [1.],\n",
       "       [1.],\n",
       "       [0.],\n",
       "       [1.],\n",
       "       [1.],\n",
       "       [0.],\n",
       "       [1.],\n",
       "       [1.],\n",
       "       [1.],\n",
       "       [0.],\n",
       "       [1.],\n",
       "       [1.],\n",
       "       [1.],\n",
       "       [1.],\n",
       "       [0.],\n",
       "       [0.],\n",
       "       [1.],\n",
       "       [0.],\n",
       "       [0.],\n",
       "       [1.],\n",
       "       [1.],\n",
       "       [0.],\n",
       "       [1.],\n",
       "       [1.],\n",
       "       [1.],\n",
       "       [1.],\n",
       "       [1.],\n",
       "       [1.],\n",
       "       [0.],\n",
       "       [1.],\n",
       "       [0.],\n",
       "       [1.],\n",
       "       [1.],\n",
       "       [0.],\n",
       "       [0.],\n",
       "       [1.],\n",
       "       [0.],\n",
       "       [1.],\n",
       "       [1.],\n",
       "       [1.],\n",
       "       [1.],\n",
       "       [1.],\n",
       "       [0.],\n",
       "       [1.],\n",
       "       [1.],\n",
       "       [0.],\n",
       "       [0.],\n",
       "       [1.]], dtype=float32)"
      ]
     },
     "execution_count": 102,
     "metadata": {},
     "output_type": "execute_result"
    }
   ],
   "source": [
    "rounded_prediction"
   ]
  },
  {
   "cell_type": "code",
   "execution_count": 103,
   "metadata": {},
   "outputs": [
    {
     "name": "stdout",
     "output_type": "stream",
     "text": [
      " real y_test: [1.]---> Predicted: 1 \n",
      " real y_test: [0.]---> Predicted: 0 \n",
      " real y_test: [1.]---> Predicted: 1 \n",
      " real y_test: [1.]---> Predicted: 1 \n",
      " real y_test: [0.]---> Predicted: 1 \n",
      " real y_test: [0.]---> Predicted: 0 \n",
      " real y_test: [0.]---> Predicted: 0 \n",
      " real y_test: [1.]---> Predicted: 1 \n",
      " real y_test: [1.]---> Predicted: 0 \n",
      " real y_test: [1.]---> Predicted: 0 \n"
     ]
    }
   ],
   "source": [
    "# Displays the prediction: [0.] --> actual label, target, outut ; 0  --> prediction\n",
    "for i in range(10):\n",
    "    print(f\" real y_test: {rounded_prediction[i]}---> Predicted: {y_test[i]} \")"
   ]
  },
  {
   "cell_type": "code",
   "execution_count": 104,
   "metadata": {},
   "outputs": [
    {
     "data": {
      "text/plain": [
       "(61, 1)"
      ]
     },
     "execution_count": 104,
     "metadata": {},
     "output_type": "execute_result"
    }
   ],
   "source": [
    "rounded_prediction.shape"
   ]
  },
  {
   "cell_type": "code",
   "execution_count": 105,
   "metadata": {},
   "outputs": [
    {
     "data": {
      "text/plain": [
       "array([1, 0, 1, 1, 1, 0, 0, 1, 0, 0, 0, 0, 0, 1, 1, 0, 1, 1, 0, 1, 1, 1,\n",
       "       0, 1, 1, 1, 1, 0, 0, 0, 0, 0, 1, 1, 1, 1, 1, 1, 0, 0, 1, 0, 1, 0,\n",
       "       1, 1, 0, 1, 1, 0, 1, 1, 1, 0, 1, 1, 1, 1, 0, 0, 1], dtype=int64)"
      ]
     },
     "execution_count": 105,
     "metadata": {},
     "output_type": "execute_result"
    }
   ],
   "source": [
    "y_test"
   ]
  },
  {
   "cell_type": "code",
   "execution_count": 106,
   "metadata": {},
   "outputs": [
    {
     "data": {
      "text/plain": [
       "(61,)"
      ]
     },
     "execution_count": 106,
     "metadata": {},
     "output_type": "execute_result"
    }
   ],
   "source": [
    "y_test.shape"
   ]
  },
  {
   "cell_type": "markdown",
   "metadata": {},
   "source": [
    "**<h2 style=\"color:cyan\">Confusion Matrix</h2>**\n"
   ]
  },
  {
   "cell_type": "code",
   "execution_count": 107,
   "metadata": {},
   "outputs": [],
   "source": [
    "# 1. Variant\n",
    "# Code is copied from Scikit website\n",
    "\n",
    "def plot_confusion_matrix(cm, classes,\n",
    "                          normalize=False,\n",
    "                          title='Confusion matrix',\n",
    "                          cmap=plt.cm.Blues):\n",
    "    \"\"\"\n",
    "    This function prints and plots the confusion matrix.\n",
    "    Normalization can be applied by setting `normalize=True`.\n",
    "    \"\"\"\n",
    "    plt.imshow(cm, interpolation='nearest', cmap=cmap)\n",
    "    plt.title(title)\n",
    "    plt.colorbar()\n",
    "    tick_marks = np.arange(len(classes))\n",
    "    plt.xticks(tick_marks, classes, rotation=45)\n",
    "    plt.yticks(tick_marks, classes)\n",
    "\n",
    "    if normalize:\n",
    "        cm = cm.astype('float') / cm.sum(axis=1)[:, np.newaxis]\n",
    "        print(\"Normalized confusion matrix\")\n",
    "    else:\n",
    "        print('Confusion matrix, without normalization')\n",
    "\n",
    "    print(cm)\n",
    "\n",
    "    thresh = cm.max() / 2.\n",
    "    for i, j in itertools.product(range(cm.shape[0]), range(cm.shape[1])):\n",
    "        plt.text(j, i, cm[i, j],\n",
    "                 horizontalalignment=\"center\",\n",
    "                 color=\"white\" if cm[i, j] > thresh else \"black\")\n",
    "\n",
    "    plt.tight_layout()\n",
    "    plt.ylabel('True label')\n",
    "    plt.xlabel('Predicted label')"
   ]
  },
  {
   "cell_type": "code",
   "execution_count": 108,
   "metadata": {},
   "outputs": [
    {
     "name": "stdout",
     "output_type": "stream",
     "text": [
      "Confusion matrix, without normalization\n",
      "[[19  6]\n",
      " [ 4 32]]\n"
     ]
    },
    {
     "data": {
      "image/png": "[encoded data removed]",
      "text/plain": [
       "<Figure size 864x360 with 2 Axes>"
      ]
     },
     "metadata": {
      "needs_background": "light"
     },
     "output_type": "display_data"
    }
   ],
   "source": [
    "plt.figure(figsize=(12,5))\n",
    "cm = confusion_matrix(y_true=y_test, y_pred=rounded_prediction)\n",
    "\n",
    "# Create labels for my plot --> Classes\n",
    "cm_plot_labels = [\"0\", \"1\"]\n",
    "\n",
    "plot_confusion_matrix(cm= cm, classes= cm_plot_labels, title= \"Confusion matrix\")"
   ]
  },
  {
   "cell_type": "markdown",
   "metadata": {},
   "source": [
    "**<h2 style=\"color:green\" align=\"left\">Save the Model</h2>**\n",
    "\n",
    "1. Save the whole model (network): architecture, weights and biases, configuration"
   ]
  },
  {
   "cell_type": "code",
   "execution_count": 109,
   "metadata": {},
   "outputs": [],
   "source": [
    "network.save(\"./models/heart_disease.h5\")"
   ]
  },
  {
   "cell_type": "markdown",
   "metadata": {},
   "source": [
    "2. save only the weights"
   ]
  },
  {
   "cell_type": "code",
   "execution_count": 110,
   "metadata": {},
   "outputs": [],
   "source": [
    "network.save_weights(\"./models/heart_disease_weights.h5\")"
   ]
  },
  {
   "cell_type": "markdown",
   "metadata": {},
   "source": [
    "3. save only the architecture"
   ]
  },
  {
   "cell_type": "code",
   "execution_count": 111,
   "metadata": {},
   "outputs": [
    {
     "name": "stdout",
     "output_type": "stream",
     "text": [
      "{\"class_name\": \"Sequential\", \"config\": {\"name\": \"sequential_2\", \"layers\": [{\"class_name\": \"InputLayer\", \"config\": {\"batch_input_shape\": [null, 13], \"dtype\": \"float32\", \"sparse\": false, \"ragged\": false, \"name\": \"dense_6_input\"}}, {\"class_name\": \"Dense\", \"config\": {\"name\": \"dense_6\", \"trainable\": true, \"batch_input_shape\": [null, 13], \"dtype\": \"float32\", \"units\": 13, \"activation\": \"relu\", \"use_bias\": true, \"kernel_initializer\": {\"class_name\": \"GlorotUniform\", \"config\": {\"seed\": null}}, \"bias_initializer\": {\"class_name\": \"Zeros\", \"config\": {}}, \"kernel_regularizer\": null, \"bias_regularizer\": null, \"activity_regularizer\": null, \"kernel_constraint\": null, \"bias_constraint\": null}}, {\"class_name\": \"Dense\", \"config\": {\"name\": \"dense_7\", \"trainable\": true, \"dtype\": \"float32\", \"units\": 9, \"activation\": \"relu\", \"use_bias\": true, \"kernel_initializer\": {\"class_name\": \"GlorotUniform\", \"config\": {\"seed\": null}}, \"bias_initializer\": {\"class_name\": \"Zeros\", \"config\": {}}, \"kernel_regularizer\": null, \"bias_regularizer\": null, \"activity_regularizer\": null, \"kernel_constraint\": null, \"bias_constraint\": null}}, {\"class_name\": \"Dense\", \"config\": {\"name\": \"dense_8\", \"trainable\": true, \"dtype\": \"float32\", \"units\": 1, \"activation\": \"sigmoid\", \"use_bias\": true, \"kernel_initializer\": {\"class_name\": \"GlorotUniform\", \"config\": {\"seed\": null}}, \"bias_initializer\": {\"class_name\": \"Zeros\", \"config\": {}}, \"kernel_regularizer\": null, \"bias_regularizer\": null, \"activity_regularizer\": null, \"kernel_constraint\": null, \"bias_constraint\": null}}]}, \"keras_version\": \"2.7.0\", \"backend\": \"tensorflow\"}\n"
     ]
    }
   ],
   "source": [
    "# Save the architecture to json string\n",
    "json_string = network.to_json()\n",
    "\n",
    "# Save the architecture to YAML string  --> Removed due to security risks\n",
    "#yaml_string = network.to_yaml()\n",
    "\n",
    "print(json_string)"
   ]
  },
  {
   "cell_type": "markdown",
   "metadata": {},
   "source": [
    "**<h2 style=\"color:cyan\">Load the Model</h2>**"
   ]
  },
  {
   "cell_type": "code",
   "execution_count": 112,
   "metadata": {},
   "outputs": [
    {
     "name": "stdout",
     "output_type": "stream",
     "text": [
      "Model: \"sequential_2\"\n",
      "_________________________________________________________________\n",
      " Layer (type)                Output Shape              Param #   \n",
      "=================================================================\n",
      " dense_6 (Dense)             (None, 13)                182       \n",
      "                                                                 \n",
      " dense_7 (Dense)             (None, 9)                 126       \n",
      "                                                                 \n",
      " dense_8 (Dense)             (None, 1)                 10        \n",
      "                                                                 \n",
      "=================================================================\n",
      "Total params: 318\n",
      "Trainable params: 318\n",
      "Non-trainable params: 0\n",
      "_________________________________________________________________\n",
      "My Optimizer is:  <keras.optimizer_v2.adam.Adam object at 0x0000021E39F591C0>\n"
     ]
    },
    {
     "data": {
      "text/plain": [
       "[array([[ 0.2641374 , -0.06073811, -0.2340757 ,  0.14776462, -0.38420585,\n",
       "          0.3759943 ,  0.108469  ,  0.53401154,  0.02427879, -0.19126242,\n",
       "         -0.14019412,  0.37801912, -0.01432238],\n",
       "        [-0.15296954,  0.46788412, -0.0977627 , -0.19172624, -0.37690714,\n",
       "          0.62862104,  0.12156279,  0.3935374 , -0.5263321 ,  0.00219358,\n",
       "         -0.02231934,  0.49919897, -0.02983822],\n",
       "        [ 0.13026989,  0.1070546 ,  0.34280705, -0.04154431, -0.05104226,\n",
       "          0.00863147, -0.58117574, -0.28757825,  0.12970245, -0.7966921 ,\n",
       "         -0.42025223,  0.5885067 ,  0.42455527],\n",
       "        [ 0.39869   ,  0.07006958,  0.05104362, -0.14992613, -0.08700857,\n",
       "          0.55059844, -0.24220464,  0.17350297,  0.46618062,  0.5052294 ,\n",
       "         -0.33848095,  0.32420382,  0.43328854],\n",
       "        [ 0.26745492, -0.15712519, -0.21092479,  0.40219432, -0.09536156,\n",
       "          0.26227748,  0.3048    , -0.1597788 ,  0.20025612, -0.2807532 ,\n",
       "          0.27873868, -0.12302782, -0.17927192],\n",
       "        [-0.12727742, -0.01218925,  0.318406  ,  0.7613986 , -0.08962873,\n",
       "         -0.27399155, -0.06720289, -0.31009245,  0.07439148,  0.3416776 ,\n",
       "         -0.36087373, -0.06434743,  0.4097087 ],\n",
       "        [ 0.11998359,  0.38575387,  0.177417  , -0.54691285,  0.01355013,\n",
       "         -0.2767836 ,  0.2839186 ,  0.08201066,  0.10633326, -0.1554849 ,\n",
       "          0.1404321 , -0.3700227 , -0.40079635],\n",
       "        [ 0.09479509, -0.53517514,  0.71043026, -0.39455736, -0.06875655,\n",
       "         -0.15468672, -0.4091813 , -0.00453108,  0.591559  , -0.016223  ,\n",
       "          0.29533458, -0.4130927 , -0.10898068],\n",
       "        [ 0.17554466,  0.19557767,  0.03947601,  0.32015875,  0.04964221,\n",
       "          0.3408698 ,  0.0972646 , -0.07234075,  0.40552655,  0.46559244,\n",
       "          0.31118274, -0.9356008 , -0.65532607],\n",
       "        [-0.6922844 ,  0.63494235, -0.19901423,  0.5908149 ,  0.11984861,\n",
       "          0.06914584,  0.42509526,  0.05924183, -0.20231591,  0.94984126,\n",
       "          0.9444195 , -0.73993164,  0.25947395],\n",
       "        [-0.0064249 ,  0.27287897,  0.5350371 ,  0.19772583, -0.05280948,\n",
       "         -0.35506028,  0.09577461, -0.24336001,  0.09330973,  0.02345091,\n",
       "         -0.35157436, -0.07805087, -0.61450565],\n",
       "        [-0.04868575,  0.10609367, -0.3429001 ,  1.0869515 , -0.11623442,\n",
       "          0.12293446,  0.35462007,  0.26714954,  0.48001972,  0.2532462 ,\n",
       "          0.14567162, -0.13265625, -0.846431  ],\n",
       "        [ 0.01163445,  0.5522437 , -0.25962207, -0.4054568 ,  0.32706666,\n",
       "         -0.1171012 ,  0.6362742 ,  0.43848535,  0.20100772,  0.44550526,\n",
       "          0.46918115,  0.1990395 , -0.0678743 ]], dtype=float32),\n",
       " array([ 0.08459962, -0.12267239,  0.1923216 , -0.00038614,  0.        ,\n",
       "         0.11276954, -0.09194927, -0.02228025,  0.30762884, -0.06075394,\n",
       "        -0.06396504,  0.0485277 ,  0.09987929], dtype=float32),\n",
       " array([[-0.5269659 ,  0.32199526,  0.28465575, -0.08041523, -0.38522658,\n",
       "         -0.03989549, -0.04539369,  0.19435942,  0.23535174],\n",
       "        [-0.2292916 ,  0.38888836, -0.3650653 , -0.366559  , -0.00446988,\n",
       "          0.24648921, -0.4062339 , -0.47316742, -0.07928041],\n",
       "        [ 0.09591007, -0.80831593, -0.5590783 ,  0.29051483, -0.56729466,\n",
       "         -0.55293405,  0.3704111 , -0.31183988,  0.70603424],\n",
       "        [-0.20602141,  0.14639385,  1.0612733 , -0.5902723 ,  0.85441065,\n",
       "          0.7227009 , -0.19985186, -0.02377558, -0.42623892],\n",
       "        [ 0.06230372, -0.4144679 , -0.20786554,  0.3860277 , -0.06289449,\n",
       "         -0.3167783 , -0.3359186 ,  0.48239213, -0.37975648],\n",
       "        [ 0.0629057 , -0.18083212,  0.49673134,  0.3292203 , -0.01073242,\n",
       "          0.76600623, -0.16092226, -0.29081324, -0.36124465],\n",
       "        [-0.15319437,  0.503334  , -0.16256815, -0.6330374 ,  0.27194354,\n",
       "          0.24099445, -0.01903373,  0.25466746, -0.15017106],\n",
       "        [-0.08400436,  0.69112146, -0.15528466,  0.02833968, -0.07017975,\n",
       "          0.7374755 ,  0.18306467, -0.40174085, -0.03664665],\n",
       "        [ 0.3026599 , -0.29879558,  0.09589493,  0.52202857,  0.46074182,\n",
       "          0.09614926, -0.36210406, -0.13275272,  0.51156694],\n",
       "        [-0.42819285,  0.7081336 , -0.16763152, -0.41208223,  0.8822671 ,\n",
       "          0.4244281 , -0.03351338, -0.28377694, -0.30109274],\n",
       "        [ 0.41065246,  0.5263849 ,  0.20277816,  0.463149  ,  0.49812305,\n",
       "          0.49617577, -0.1283473 , -0.37775373, -0.5452476 ],\n",
       "        [-0.46487802,  0.10336521, -0.6838124 , -0.57982266, -0.03566838,\n",
       "         -0.07524503,  0.00802369, -0.44948348, -0.49658504],\n",
       "        [-0.4640011 , -0.6443766 ,  0.14472347,  1.158758  , -0.23665535,\n",
       "         -0.60521597,  0.30346116,  0.37067086,  0.08254695]],\n",
       "       dtype=float32),\n",
       " array([-0.13016756, -0.01593056, -0.12851347,  0.24867691,  0.09681194,\n",
       "        -0.02271945, -0.02448039,  0.        ,  0.30114672], dtype=float32),\n",
       " array([[-0.45506296],\n",
       "        [-0.3036813 ],\n",
       "        [-1.3558995 ],\n",
       "        [ 1.2951348 ],\n",
       "        [-0.80725515],\n",
       "        [-0.5253672 ],\n",
       "        [-0.35708693],\n",
       "        [-0.08694506],\n",
       "        [ 1.2400259 ]], dtype=float32),\n",
       " array([0.19517684], dtype=float32)]"
      ]
     },
     "execution_count": 112,
     "metadata": {},
     "output_type": "execute_result"
    }
   ],
   "source": [
    "# Loading the whole Model:\n",
    "\n",
    "new_model = load_model(\"./models/heart_disease.h5\")\n",
    "\n",
    "# Gets the summary of the loaded mode\n",
    "new_model.summary()\n",
    "\n",
    "# Gets the optimizer name\n",
    "print(\"My Optimizer is: \" , new_model.optimizer)\n",
    "\n",
    "\n",
    "# Get the weights\n",
    "new_model.get_weights()"
   ]
  },
  {
   "cell_type": "code",
   "execution_count": 113,
   "metadata": {},
   "outputs": [],
   "source": [
    "network = models.Sequential()  # linear stack of layers\n",
    "\n",
    "network.add(layers.Dense(layer_1, activation=activ[1], input_shape = (13,))) # (13,) vector \n",
    "network.add(layers.Dense(layer_2, activation=activ[1])) # the info about input_shape is taken from the layer above\n",
    "\n",
    "# Output Layer\n",
    "network.add(layers.Dense(1, activation=activ[0]))"
   ]
  },
  {
   "cell_type": "code",
   "execution_count": 114,
   "metadata": {},
   "outputs": [],
   "source": [
    "# Load the weight\n",
    "\n",
    "# Create a new model\n",
    "model_2 = models.Sequential(\n",
    "    [\n",
    "        layers.Dense(layer_1, activation=activ[1], input_shape=(13,)),\n",
    "        layers.Dense(layer_2, activation=activ[1]),\n",
    "        layers.Dense(1, activation=activ[0])\n",
    "    ]\n",
    ")\n",
    "\n",
    "# Model2 Compile (Config)\n",
    "\n",
    "\n",
    "# Load Weights\n",
    "model_2.load_weights(\"./models/heart_disease_weights.h5\")"
   ]
  },
  {
   "cell_type": "code",
   "execution_count": 118,
   "metadata": {},
   "outputs": [
    {
     "name": "stdout",
     "output_type": "stream",
     "text": [
      "Model: \"sequential_2\"\n",
      "_________________________________________________________________\n",
      " Layer (type)                Output Shape              Param #   \n",
      "=================================================================\n",
      " dense_6 (Dense)             (None, 13)                182       \n",
      "                                                                 \n",
      " dense_7 (Dense)             (None, 9)                 126       \n",
      "                                                                 \n",
      " dense_8 (Dense)             (None, 1)                 10        \n",
      "                                                                 \n",
      "=================================================================\n",
      "Total params: 318\n",
      "Trainable params: 318\n",
      "Non-trainable params: 0\n",
      "_________________________________________________________________\n"
     ]
    }
   ],
   "source": [
    "# Loading the architecture\n",
    "\n",
    "model_architecture = model_from_json(json_string)\n",
    "\n",
    "model_architecture.summary()"
   ]
  },
  {
   "cell_type": "code",
   "execution_count": 120,
   "metadata": {},
   "outputs": [],
   "source": [
    "model_2.compile(loss='binary_crossentropy', optimizer='adam', metrics=['accuracy'])"
   ]
  },
  {
   "cell_type": "code",
   "execution_count": 121,
   "metadata": {},
   "outputs": [
    {
     "name": "stdout",
     "output_type": "stream",
     "text": [
      "Epoch 1/100\n",
      "44/44 [==============================] - 6s 33ms/step - loss: 0.3190 - accuracy: 0.8618 - val_loss: 0.3450 - val_accuracy: 0.8800\n",
      "Epoch 2/100\n",
      "44/44 [==============================] - 1s 21ms/step - loss: 0.3138 - accuracy: 0.8664 - val_loss: 0.3441 - val_accuracy: 0.8800\n",
      "Epoch 3/100\n",
      "44/44 [==============================] - 1s 17ms/step - loss: 0.3138 - accuracy: 0.8664 - val_loss: 0.3471 - val_accuracy: 0.8800\n",
      "Epoch 4/100\n",
      "44/44 [==============================] - 1s 17ms/step - loss: 0.3130 - accuracy: 0.8756 - val_loss: 0.3448 - val_accuracy: 0.8800\n",
      "Epoch 5/100\n",
      "44/44 [==============================] - 1s 14ms/step - loss: 0.3102 - accuracy: 0.8618 - val_loss: 0.3460 - val_accuracy: 0.8800\n",
      "Epoch 6/100\n",
      "44/44 [==============================] - 1s 14ms/step - loss: 0.3098 - accuracy: 0.8710 - val_loss: 0.3472 - val_accuracy: 0.8800\n",
      "Epoch 7/100\n",
      "44/44 [==============================] - 1s 14ms/step - loss: 0.3145 - accuracy: 0.8618 - val_loss: 0.3449 - val_accuracy: 0.8800\n",
      "Epoch 8/100\n",
      "44/44 [==============================] - 1s 17ms/step - loss: 0.3079 - accuracy: 0.8710 - val_loss: 0.3487 - val_accuracy: 0.8800\n",
      "Epoch 9/100\n",
      "44/44 [==============================] - 1s 17ms/step - loss: 0.3067 - accuracy: 0.8710 - val_loss: 0.3492 - val_accuracy: 0.8800\n",
      "Epoch 10/100\n",
      "44/44 [==============================] - 1s 14ms/step - loss: 0.3064 - accuracy: 0.8710 - val_loss: 0.3480 - val_accuracy: 0.8800\n",
      "Epoch 11/100\n",
      "44/44 [==============================] - 1s 15ms/step - loss: 0.3045 - accuracy: 0.8710 - val_loss: 0.3514 - val_accuracy: 0.8800\n",
      "Epoch 12/100\n",
      "44/44 [==============================] - 1s 14ms/step - loss: 0.3120 - accuracy: 0.8710 - val_loss: 0.3519 - val_accuracy: 0.8800\n",
      "Epoch 13/100\n",
      "44/44 [==============================] - 1s 19ms/step - loss: 0.3037 - accuracy: 0.8664 - val_loss: 0.3513 - val_accuracy: 0.8800\n",
      "Epoch 14/100\n",
      "44/44 [==============================] - 0s 9ms/step - loss: 0.3075 - accuracy: 0.8664 - val_loss: 0.3530 - val_accuracy: 0.8800\n",
      "Epoch 15/100\n",
      "44/44 [==============================] - 1s 18ms/step - loss: 0.3072 - accuracy: 0.8710 - val_loss: 0.3546 - val_accuracy: 0.8800\n",
      "Epoch 16/100\n",
      "44/44 [==============================] - 2s 35ms/step - loss: 0.3009 - accuracy: 0.8710 - val_loss: 0.3533 - val_accuracy: 0.8800\n",
      "Epoch 17/100\n",
      "44/44 [==============================] - 1s 26ms/step - loss: 0.3003 - accuracy: 0.8664 - val_loss: 0.3544 - val_accuracy: 0.8800\n",
      "Epoch 18/100\n",
      "44/44 [==============================] - 2s 33ms/step - loss: 0.3006 - accuracy: 0.8664 - val_loss: 0.3516 - val_accuracy: 0.8800\n",
      "Epoch 19/100\n",
      "44/44 [==============================] - 1s 33ms/step - loss: 0.2987 - accuracy: 0.8756 - val_loss: 0.3550 - val_accuracy: 0.8800\n",
      "Epoch 20/100\n",
      "44/44 [==============================] - 2s 58ms/step - loss: 0.2988 - accuracy: 0.8756 - val_loss: 0.3588 - val_accuracy: 0.8800\n",
      "Epoch 21/100\n",
      "44/44 [==============================] - 1s 16ms/step - loss: 0.2981 - accuracy: 0.8664 - val_loss: 0.3564 - val_accuracy: 0.8800\n",
      "Epoch 22/100\n",
      "44/44 [==============================] - 1s 16ms/step - loss: 0.3001 - accuracy: 0.8756 - val_loss: 0.3603 - val_accuracy: 0.8800\n",
      "Epoch 23/100\n",
      "44/44 [==============================] - 1s 13ms/step - loss: 0.2954 - accuracy: 0.8710 - val_loss: 0.3617 - val_accuracy: 0.8800\n",
      "Epoch 24/100\n",
      "44/44 [==============================] - 2s 42ms/step - loss: 0.2930 - accuracy: 0.8618 - val_loss: 0.3653 - val_accuracy: 0.8800\n",
      "Epoch 25/100\n",
      "44/44 [==============================] - 2s 48ms/step - loss: 0.2921 - accuracy: 0.8664 - val_loss: 0.3644 - val_accuracy: 0.8800\n",
      "Epoch 26/100\n",
      "44/44 [==============================] - 3s 72ms/step - loss: 0.2968 - accuracy: 0.8618 - val_loss: 0.3658 - val_accuracy: 0.8800\n",
      "Epoch 27/100\n",
      "44/44 [==============================] - 4s 85ms/step - loss: 0.2961 - accuracy: 0.8664 - val_loss: 0.3653 - val_accuracy: 0.8800\n",
      "Epoch 28/100\n",
      "44/44 [==============================] - 3s 61ms/step - loss: 0.2921 - accuracy: 0.8848 - val_loss: 0.3652 - val_accuracy: 0.8800\n",
      "Epoch 29/100\n",
      "44/44 [==============================] - 4s 94ms/step - loss: 0.2909 - accuracy: 0.8710 - val_loss: 0.3665 - val_accuracy: 0.8800\n",
      "Epoch 30/100\n",
      "44/44 [==============================] - 4s 89ms/step - loss: 0.2956 - accuracy: 0.8664 - val_loss: 0.3706 - val_accuracy: 0.8800\n",
      "Epoch 31/100\n",
      "44/44 [==============================] - 5s 127ms/step - loss: 0.2904 - accuracy: 0.8802 - val_loss: 0.3685 - val_accuracy: 0.8800\n",
      "Epoch 32/100\n",
      "44/44 [==============================] - 3s 74ms/step - loss: 0.2906 - accuracy: 0.8664 - val_loss: 0.3688 - val_accuracy: 0.8800\n",
      "Epoch 33/100\n",
      "44/44 [==============================] - 2s 37ms/step - loss: 0.2947 - accuracy: 0.8710 - val_loss: 0.3745 - val_accuracy: 0.8400\n",
      "Epoch 34/100\n",
      "44/44 [==============================] - 1s 32ms/step - loss: 0.2922 - accuracy: 0.8710 - val_loss: 0.3718 - val_accuracy: 0.8800\n",
      "Epoch 35/100\n",
      "44/44 [==============================] - 0s 11ms/step - loss: 0.2861 - accuracy: 0.8710 - val_loss: 0.3735 - val_accuracy: 0.8800\n",
      "Epoch 36/100\n",
      "44/44 [==============================] - 1s 14ms/step - loss: 0.2915 - accuracy: 0.8618 - val_loss: 0.3743 - val_accuracy: 0.8400\n",
      "Epoch 37/100\n",
      "44/44 [==============================] - 1s 11ms/step - loss: 0.2874 - accuracy: 0.8664 - val_loss: 0.3710 - val_accuracy: 0.8800\n",
      "Epoch 38/100\n",
      "44/44 [==============================] - 1s 21ms/step - loss: 0.2866 - accuracy: 0.8756 - val_loss: 0.3730 - val_accuracy: 0.8800\n",
      "Epoch 39/100\n",
      "44/44 [==============================] - 1s 12ms/step - loss: 0.2824 - accuracy: 0.8756 - val_loss: 0.3754 - val_accuracy: 0.8400\n",
      "Epoch 40/100\n",
      "44/44 [==============================] - 1s 12ms/step - loss: 0.2840 - accuracy: 0.8756 - val_loss: 0.3749 - val_accuracy: 0.8800\n",
      "Epoch 41/100\n",
      "44/44 [==============================] - 0s 8ms/step - loss: 0.2856 - accuracy: 0.8664 - val_loss: 0.3789 - val_accuracy: 0.8800\n",
      "Epoch 42/100\n",
      "44/44 [==============================] - 1s 13ms/step - loss: 0.2818 - accuracy: 0.8710 - val_loss: 0.3764 - val_accuracy: 0.8800\n",
      "Epoch 43/100\n",
      "44/44 [==============================] - 0s 11ms/step - loss: 0.2835 - accuracy: 0.8710 - val_loss: 0.3819 - val_accuracy: 0.8800\n",
      "Epoch 44/100\n",
      "44/44 [==============================] - 1s 16ms/step - loss: 0.2770 - accuracy: 0.8756 - val_loss: 0.3754 - val_accuracy: 0.8400\n",
      "Epoch 45/100\n",
      "44/44 [==============================] - 1s 13ms/step - loss: 0.2846 - accuracy: 0.8894 - val_loss: 0.3829 - val_accuracy: 0.8800\n",
      "Epoch 46/100\n",
      "44/44 [==============================] - 2s 41ms/step - loss: 0.2811 - accuracy: 0.8756 - val_loss: 0.3818 - val_accuracy: 0.8800\n",
      "Epoch 47/100\n",
      "44/44 [==============================] - 0s 8ms/step - loss: 0.2776 - accuracy: 0.8664 - val_loss: 0.3807 - val_accuracy: 0.8400\n",
      "Epoch 48/100\n",
      "44/44 [==============================] - 1s 13ms/step - loss: 0.2829 - accuracy: 0.8802 - val_loss: 0.3862 - val_accuracy: 0.8400\n",
      "Epoch 49/100\n",
      "44/44 [==============================] - 1s 23ms/step - loss: 0.2777 - accuracy: 0.8756 - val_loss: 0.3834 - val_accuracy: 0.8800\n",
      "Epoch 50/100\n",
      "44/44 [==============================] - 1s 20ms/step - loss: 0.2779 - accuracy: 0.8710 - val_loss: 0.3900 - val_accuracy: 0.8400\n",
      "Epoch 51/100\n",
      "44/44 [==============================] - 1s 13ms/step - loss: 0.2780 - accuracy: 0.8756 - val_loss: 0.3888 - val_accuracy: 0.8800\n",
      "Epoch 52/100\n",
      "44/44 [==============================] - 1s 12ms/step - loss: 0.2767 - accuracy: 0.8710 - val_loss: 0.3881 - val_accuracy: 0.8800\n",
      "Epoch 53/100\n",
      "44/44 [==============================] - 1s 17ms/step - loss: 0.2767 - accuracy: 0.8802 - val_loss: 0.3877 - val_accuracy: 0.8400\n",
      "Epoch 54/100\n",
      "44/44 [==============================] - 1s 17ms/step - loss: 0.2760 - accuracy: 0.8802 - val_loss: 0.3862 - val_accuracy: 0.8800\n",
      "Epoch 55/100\n",
      "44/44 [==============================] - 1s 16ms/step - loss: 0.2759 - accuracy: 0.8710 - val_loss: 0.3855 - val_accuracy: 0.8800\n",
      "Epoch 56/100\n",
      "44/44 [==============================] - 1s 25ms/step - loss: 0.2764 - accuracy: 0.8894 - val_loss: 0.3876 - val_accuracy: 0.8800\n",
      "Epoch 57/100\n",
      "44/44 [==============================] - 1s 15ms/step - loss: 0.2709 - accuracy: 0.8710 - val_loss: 0.3851 - val_accuracy: 0.8800\n",
      "Epoch 58/100\n",
      "44/44 [==============================] - 1s 15ms/step - loss: 0.2743 - accuracy: 0.8756 - val_loss: 0.3887 - val_accuracy: 0.8400\n",
      "Epoch 59/100\n",
      "44/44 [==============================] - 1s 29ms/step - loss: 0.2704 - accuracy: 0.8802 - val_loss: 0.3910 - val_accuracy: 0.8800\n",
      "Epoch 60/100\n",
      "44/44 [==============================] - 1s 15ms/step - loss: 0.2740 - accuracy: 0.8848 - val_loss: 0.3868 - val_accuracy: 0.8800\n",
      "Epoch 61/100\n",
      "44/44 [==============================] - 1s 22ms/step - loss: 0.2789 - accuracy: 0.8756 - val_loss: 0.3933 - val_accuracy: 0.8800\n",
      "Epoch 62/100\n",
      "44/44 [==============================] - 1s 31ms/step - loss: 0.2678 - accuracy: 0.8848 - val_loss: 0.3894 - val_accuracy: 0.8400\n",
      "Epoch 63/100\n",
      "44/44 [==============================] - 1s 33ms/step - loss: 0.2705 - accuracy: 0.8710 - val_loss: 0.3962 - val_accuracy: 0.8400\n",
      "Epoch 64/100\n",
      "44/44 [==============================] - 2s 41ms/step - loss: 0.2712 - accuracy: 0.8802 - val_loss: 0.3995 - val_accuracy: 0.8000\n",
      "Epoch 65/100\n",
      "44/44 [==============================] - 2s 52ms/step - loss: 0.2686 - accuracy: 0.8802 - val_loss: 0.3911 - val_accuracy: 0.8800\n",
      "Epoch 66/100\n",
      "44/44 [==============================] - 2s 50ms/step - loss: 0.2679 - accuracy: 0.8848 - val_loss: 0.3976 - val_accuracy: 0.8400\n",
      "Epoch 67/100\n",
      "44/44 [==============================] - 2s 55ms/step - loss: 0.2675 - accuracy: 0.8802 - val_loss: 0.4005 - val_accuracy: 0.8800\n",
      "Epoch 68/100\n",
      "44/44 [==============================] - 2s 57ms/step - loss: 0.2672 - accuracy: 0.8802 - val_loss: 0.3995 - val_accuracy: 0.8400\n",
      "Epoch 69/100\n",
      "44/44 [==============================] - 2s 52ms/step - loss: 0.2672 - accuracy: 0.8710 - val_loss: 0.3931 - val_accuracy: 0.8400\n",
      "Epoch 70/100\n",
      "44/44 [==============================] - 2s 38ms/step - loss: 0.2723 - accuracy: 0.8756 - val_loss: 0.3967 - val_accuracy: 0.8400\n",
      "Epoch 71/100\n",
      "44/44 [==============================] - 2s 44ms/step - loss: 0.2653 - accuracy: 0.8848 - val_loss: 0.3991 - val_accuracy: 0.8800\n",
      "Epoch 72/100\n",
      "44/44 [==============================] - 2s 43ms/step - loss: 0.2661 - accuracy: 0.8802 - val_loss: 0.4014 - val_accuracy: 0.8800\n",
      "Epoch 73/100\n",
      "44/44 [==============================] - 2s 55ms/step - loss: 0.2765 - accuracy: 0.8756 - val_loss: 0.4031 - val_accuracy: 0.8000\n",
      "Epoch 74/100\n",
      "44/44 [==============================] - 1s 33ms/step - loss: 0.2680 - accuracy: 0.8802 - val_loss: 0.3995 - val_accuracy: 0.8400\n",
      "Epoch 75/100\n",
      "44/44 [==============================] - 1s 26ms/step - loss: 0.2631 - accuracy: 0.8802 - val_loss: 0.3968 - val_accuracy: 0.8800\n",
      "Epoch 76/100\n",
      "44/44 [==============================] - 1s 20ms/step - loss: 0.2632 - accuracy: 0.8894 - val_loss: 0.4009 - val_accuracy: 0.8400\n",
      "Epoch 77/100\n",
      "44/44 [==============================] - 1s 19ms/step - loss: 0.2616 - accuracy: 0.8756 - val_loss: 0.4026 - val_accuracy: 0.8800\n",
      "Epoch 78/100\n",
      "44/44 [==============================] - 1s 34ms/step - loss: 0.2668 - accuracy: 0.8756 - val_loss: 0.4009 - val_accuracy: 0.8800\n",
      "Epoch 79/100\n",
      "44/44 [==============================] - 2s 52ms/step - loss: 0.2621 - accuracy: 0.8894 - val_loss: 0.3991 - val_accuracy: 0.8400\n",
      "Epoch 80/100\n",
      "44/44 [==============================] - 2s 40ms/step - loss: 0.2611 - accuracy: 0.8940 - val_loss: 0.3989 - val_accuracy: 0.8400\n",
      "Epoch 81/100\n",
      "44/44 [==============================] - 2s 46ms/step - loss: 0.2641 - accuracy: 0.8848 - val_loss: 0.3987 - val_accuracy: 0.8800\n",
      "Epoch 82/100\n",
      "44/44 [==============================] - 2s 40ms/step - loss: 0.2593 - accuracy: 0.8710 - val_loss: 0.4071 - val_accuracy: 0.8000\n",
      "Epoch 83/100\n",
      "44/44 [==============================] - 2s 47ms/step - loss: 0.2656 - accuracy: 0.8710 - val_loss: 0.4005 - val_accuracy: 0.8000\n",
      "Epoch 84/100\n",
      "44/44 [==============================] - 2s 44ms/step - loss: 0.2658 - accuracy: 0.8710 - val_loss: 0.4025 - val_accuracy: 0.8400\n",
      "Epoch 85/100\n",
      "44/44 [==============================] - 1s 22ms/step - loss: 0.2607 - accuracy: 0.8894 - val_loss: 0.4013 - val_accuracy: 0.8400\n",
      "Epoch 86/100\n",
      "44/44 [==============================] - 1s 15ms/step - loss: 0.2593 - accuracy: 0.8848 - val_loss: 0.3963 - val_accuracy: 0.8400\n",
      "Epoch 87/100\n",
      "44/44 [==============================] - 2s 45ms/step - loss: 0.2577 - accuracy: 0.8802 - val_loss: 0.4006 - val_accuracy: 0.8400\n",
      "Epoch 88/100\n",
      "44/44 [==============================] - 2s 57ms/step - loss: 0.2578 - accuracy: 0.8848 - val_loss: 0.3997 - val_accuracy: 0.8400\n",
      "Epoch 89/100\n",
      "44/44 [==============================] - 2s 46ms/step - loss: 0.2610 - accuracy: 0.8848 - val_loss: 0.4042 - val_accuracy: 0.8400\n",
      "Epoch 90/100\n",
      "44/44 [==============================] - 2s 36ms/step - loss: 0.2584 - accuracy: 0.8802 - val_loss: 0.3998 - val_accuracy: 0.8400\n",
      "Epoch 91/100\n",
      "44/44 [==============================] - 1s 28ms/step - loss: 0.2544 - accuracy: 0.8894 - val_loss: 0.4011 - val_accuracy: 0.8400\n",
      "Epoch 92/100\n",
      "44/44 [==============================] - 1s 22ms/step - loss: 0.2555 - accuracy: 0.8756 - val_loss: 0.4023 - val_accuracy: 0.8400\n",
      "Epoch 93/100\n",
      "44/44 [==============================] - 1s 29ms/step - loss: 0.2565 - accuracy: 0.8940 - val_loss: 0.4025 - val_accuracy: 0.8800\n",
      "Epoch 94/100\n",
      "44/44 [==============================] - 2s 46ms/step - loss: 0.2636 - accuracy: 0.8802 - val_loss: 0.4134 - val_accuracy: 0.8800\n",
      "Epoch 95/100\n",
      "44/44 [==============================] - 2s 47ms/step - loss: 0.2595 - accuracy: 0.8848 - val_loss: 0.4034 - val_accuracy: 0.8400\n",
      "Epoch 96/100\n",
      "44/44 [==============================] - 2s 47ms/step - loss: 0.2589 - accuracy: 0.8802 - val_loss: 0.4038 - val_accuracy: 0.8400\n",
      "Epoch 97/100\n",
      "44/44 [==============================] - 3s 60ms/step - loss: 0.2540 - accuracy: 0.8894 - val_loss: 0.4045 - val_accuracy: 0.8400\n",
      "Epoch 98/100\n",
      "44/44 [==============================] - 1s 25ms/step - loss: 0.2533 - accuracy: 0.8894 - val_loss: 0.4001 - val_accuracy: 0.8400\n",
      "Epoch 99/100\n",
      "44/44 [==============================] - 1s 22ms/step - loss: 0.2534 - accuracy: 0.8894 - val_loss: 0.4040 - val_accuracy: 0.8400\n",
      "Epoch 100/100\n",
      "44/44 [==============================] - 1s 17ms/step - loss: 0.2527 - accuracy: 0.8802 - val_loss: 0.4059 - val_accuracy: 0.8400\n"
     ]
    }
   ],
   "source": [
    "history_2 = model_2.fit(X_train, y_train, epochs=epoch, shuffle=True, verbose=1, validation_split= 0.1, batch_size=5)"
   ]
  },
  {
   "cell_type": "code",
   "execution_count": 131,
   "metadata": {},
   "outputs": [
    {
     "name": "stdout",
     "output_type": "stream",
     "text": [
      "2/2 [==============================] - 1s 26ms/step - loss: 0.4318 - accuracy: 0.8197\n",
      "Test Loss: 0.43183672428131104\n",
      "Test Accuracy:  0.8196721076965332\n"
     ]
    }
   ],
   "source": [
    "# Test score for test data using evaluation\n",
    "test1_score, test2_score = model_2.evaluate(X_test, y_test)\n",
    "\n",
    "print('Test Loss:', test1_score)\n",
    "print('Test Accuracy: ', test2_score)"
   ]
  },
  {
   "cell_type": "code",
   "execution_count": 132,
   "metadata": {},
   "outputs": [],
   "source": [
    "prediction = model_2.predict(x = X_test)"
   ]
  },
  {
   "cell_type": "code",
   "execution_count": 133,
   "metadata": {},
   "outputs": [
    {
     "name": "stdout",
     "output_type": "stream",
     "text": [
      "prediction for y_test [0.9900242]\n",
      "prediction for y_test [0.01138461]\n",
      "prediction for y_test [0.86719435]\n",
      "prediction for y_test [0.95457804]\n",
      "prediction for y_test [0.253789]\n",
      "prediction for y_test [0.01756218]\n",
      "prediction for y_test [0.00090858]\n",
      "prediction for y_test [0.84918535]\n",
      "prediction for y_test [0.98555815]\n",
      "prediction for y_test [0.7938625]\n",
      "prediction for y_test [0.00011188]\n",
      "prediction for y_test [0.12022707]\n",
      "prediction for y_test [9.2831215e-06]\n",
      "prediction for y_test [0.31753153]\n",
      "prediction for y_test [0.6437183]\n",
      "prediction for y_test [0.14839622]\n",
      "prediction for y_test [0.9927386]\n",
      "prediction for y_test [0.9404883]\n",
      "prediction for y_test [0.27928618]\n",
      "prediction for y_test [0.7382263]\n",
      "prediction for y_test [0.99364173]\n",
      "prediction for y_test [0.83968115]\n",
      "prediction for y_test [0.02507943]\n",
      "prediction for y_test [0.90016305]\n",
      "prediction for y_test [0.9901321]\n",
      "prediction for y_test [0.89101446]\n",
      "prediction for y_test [0.98965704]\n",
      "prediction for y_test [0.03486717]\n",
      "prediction for y_test [0.07017988]\n",
      "prediction for y_test [0.49670687]\n",
      "prediction for y_test [0.07639873]\n",
      "prediction for y_test [0.01453179]\n",
      "prediction for y_test [0.87633455]\n",
      "prediction for y_test [0.8495009]\n",
      "prediction for y_test [0.10464722]\n",
      "prediction for y_test [0.94400376]\n",
      "prediction for y_test [0.9135181]\n",
      "prediction for y_test [0.9988744]\n",
      "prediction for y_test [0.73750484]\n",
      "prediction for y_test [0.8431748]\n",
      "prediction for y_test [0.68211687]\n",
      "prediction for y_test [0.04756927]\n",
      "prediction for y_test [0.99777347]\n",
      "prediction for y_test [0.0022569]\n",
      "prediction for y_test [0.99054575]\n",
      "prediction for y_test [0.86862963]\n",
      "prediction for y_test [0.01941693]\n",
      "prediction for y_test [0.14728749]\n",
      "prediction for y_test [0.37839332]\n",
      "prediction for y_test [0.03248054]\n",
      "prediction for y_test [0.79758835]\n",
      "prediction for y_test [0.9611298]\n",
      "prediction for y_test [0.54284185]\n",
      "prediction for y_test [0.74193674]\n",
      "prediction for y_test [0.8831311]\n",
      "prediction for y_test [0.08207378]\n",
      "prediction for y_test [0.8373046]\n",
      "prediction for y_test [0.993556]\n",
      "prediction for y_test [0.00065577]\n",
      "prediction for y_test [0.04691318]\n",
      "prediction for y_test [0.7097451]\n"
     ]
    }
   ],
   "source": [
    "# Just an overview of the predicted y data for y_test (20%)\n",
    "for i in prediction:\n",
    "    print(\"prediction for y_test\", i)"
   ]
  },
  {
   "cell_type": "code",
   "execution_count": 134,
   "metadata": {},
   "outputs": [],
   "source": [
    "rounded_prediction = np.round(prediction)\n"
   ]
  },
  {
   "cell_type": "code",
   "execution_count": 135,
   "metadata": {},
   "outputs": [
    {
     "data": {
      "text/plain": [
       "array([[1.],\n",
       "       [0.],\n",
       "       [1.],\n",
       "       [1.],\n",
       "       [0.],\n",
       "       [0.],\n",
       "       [0.],\n",
       "       [1.],\n",
       "       [1.],\n",
       "       [1.],\n",
       "       [0.],\n",
       "       [0.],\n",
       "       [0.],\n",
       "       [0.],\n",
       "       [1.],\n",
       "       [0.],\n",
       "       [1.],\n",
       "       [1.],\n",
       "       [0.],\n",
       "       [1.],\n",
       "       [1.],\n",
       "       [1.],\n",
       "       [0.],\n",
       "       [1.],\n",
       "       [1.],\n",
       "       [1.],\n",
       "       [1.],\n",
       "       [0.],\n",
       "       [0.],\n",
       "       [0.],\n",
       "       [0.],\n",
       "       [0.],\n",
       "       [1.],\n",
       "       [1.],\n",
       "       [0.],\n",
       "       [1.],\n",
       "       [1.],\n",
       "       [1.],\n",
       "       [1.],\n",
       "       [1.],\n",
       "       [1.],\n",
       "       [0.],\n",
       "       [1.],\n",
       "       [0.],\n",
       "       [1.],\n",
       "       [1.],\n",
       "       [0.],\n",
       "       [0.],\n",
       "       [0.],\n",
       "       [0.],\n",
       "       [1.],\n",
       "       [1.],\n",
       "       [1.],\n",
       "       [1.],\n",
       "       [1.],\n",
       "       [0.],\n",
       "       [1.],\n",
       "       [1.],\n",
       "       [0.],\n",
       "       [0.],\n",
       "       [1.]], dtype=float32)"
      ]
     },
     "execution_count": 135,
     "metadata": {},
     "output_type": "execute_result"
    }
   ],
   "source": [
    "rounded_prediction"
   ]
  },
  {
   "cell_type": "code",
   "execution_count": 136,
   "metadata": {},
   "outputs": [],
   "source": [
    "# 1. Variant\n",
    "# Code is copied from Scikit website\n",
    "\n",
    "def plot_confusion_matrix(cm, classes,\n",
    "                          normalize=False,\n",
    "                          title='Confusion matrix',\n",
    "                          cmap=plt.cm.Blues):\n",
    "    \"\"\"\n",
    "    This function prints and plots the confusion matrix.\n",
    "    Normalization can be applied by setting `normalize=True`.\n",
    "    \"\"\"\n",
    "    plt.imshow(cm, interpolation='nearest', cmap=cmap)\n",
    "    plt.title(title)\n",
    "    plt.colorbar()\n",
    "    tick_marks = np.arange(len(classes))\n",
    "    plt.xticks(tick_marks, classes, rotation=45)\n",
    "    plt.yticks(tick_marks, classes)\n",
    "\n",
    "    if normalize:\n",
    "        cm = cm.astype('float') / cm.sum(axis=1)[:, np.newaxis]\n",
    "        print(\"Normalized confusion matrix\")\n",
    "    else:\n",
    "        print('Confusion matrix, without normalization')\n",
    "\n",
    "    print(cm)\n",
    "\n",
    "    thresh = cm.max() / 2.\n",
    "    for i, j in itertools.product(range(cm.shape[0]), range(cm.shape[1])):\n",
    "        plt.text(j, i, cm[i, j],\n",
    "                 horizontalalignment=\"center\",\n",
    "                 color=\"white\" if cm[i, j] > thresh else \"black\")\n",
    "\n",
    "    plt.tight_layout()\n",
    "    plt.ylabel('True label')\n",
    "    plt.xlabel('Predicted label')"
   ]
  },
  {
   "cell_type": "code",
   "execution_count": 137,
   "metadata": {},
   "outputs": [
    {
     "name": "stdout",
     "output_type": "stream",
     "text": [
      "Confusion matrix, without normalization\n",
      "[[20  5]\n",
      " [ 6 30]]\n"
     ]
    },
    {
     "data": {
      "image/png": "[encoded data removed]",
      "text/plain": [
       "<Figure size 864x360 with 2 Axes>"
      ]
     },
     "metadata": {
      "needs_background": "light"
     },
     "output_type": "display_data"
    }
   ],
   "source": [
    "plt.figure(figsize=(12,5))\n",
    "cm = confusion_matrix(y_true=y_test, y_pred=rounded_prediction)\n",
    "\n",
    "# Create labels for my plot --> Classes\n",
    "cm_plot_labels = [\"0\", \"1\"]\n",
    "\n",
    "plot_confusion_matrix(cm= cm, classes= cm_plot_labels, title= \"Confusion matrix\")"
   ]
  }
 ],
 "metadata": {
  "interpreter": {
   "hash": "7241d452e4e494699ef50a37887ed5c1dce1b126e013039f65d546903dedebae"
  },
  "kernelspec": {
   "display_name": "Python 3.9.7 64-bit",
   "language": "python",
   "name": "python3"
  },
  "language_info": {
   "codemirror_mode": {
    "name": "ipython",
    "version": 3
   },
   "file_extension": ".py",
   "mimetype": "text/x-python",
   "name": "python",
   "nbconvert_exporter": "python",
   "pygments_lexer": "ipython3",
   "version": "3.9.7"
  },
  "orig_nbformat": 4
 },
 "nbformat": 4,
 "nbformat_minor": 2
}
