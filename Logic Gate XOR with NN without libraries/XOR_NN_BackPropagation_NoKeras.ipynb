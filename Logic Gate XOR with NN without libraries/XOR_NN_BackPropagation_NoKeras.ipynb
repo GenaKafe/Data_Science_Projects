{
 "cells": [
  {
   "cell_type": "markdown",
   "metadata": {},
   "source": [
    "# Logic Gate XOR with NN without libraries"
   ]
  },
  {
   "cell_type": "markdown",
   "metadata": {},
   "source": [
    "## Epoch 1"
   ]
  },
  {
   "cell_type": "code",
   "execution_count": 140,
   "metadata": {},
   "outputs": [],
   "source": [
    "import numpy as np"
   ]
  },
  {
   "cell_type": "code",
   "execution_count": 141,
   "metadata": {},
   "outputs": [],
   "source": [
    "x1 = np.array ([0, 0, 1, 1])\n",
    "x2 = np.array([0, 1, 0, 1])\n",
    "yd = np.array([0, 1, 1, 0])"
   ]
  },
  {
   "cell_type": "code",
   "execution_count": 142,
   "metadata": {},
   "outputs": [],
   "source": [
    "w13 = np.random.uniform(0, 1)\n",
    "\n",
    "w35 = np.random.uniform(0, 1)\n",
    "\n",
    "w45 = np.random.uniform(0, 1)\n",
    "\n",
    "w24 = np.random.uniform(0, 1)\n",
    "\n",
    "w23 = np.random.uniform(0, 1)\n",
    "\n",
    "w14 = np.random.uniform(0, 1)\n"
   ]
  },
  {
   "cell_type": "code",
   "execution_count": 143,
   "metadata": {},
   "outputs": [],
   "source": [
    "theta3 = np.random.uniform(0, 1)\n",
    "theta4 = np.random.uniform(0, 1)\n",
    "theta5 = np.random.uniform(0, 1)"
   ]
  },
  {
   "cell_type": "code",
   "execution_count": 144,
   "metadata": {},
   "outputs": [
    {
     "data": {
      "text/plain": [
       "0.3800845054014922"
      ]
     },
     "execution_count": 144,
     "metadata": {},
     "output_type": "execute_result"
    }
   ],
   "source": [
    "theta3"
   ]
  },
  {
   "cell_type": "code",
   "execution_count": 145,
   "metadata": {},
   "outputs": [
    {
     "data": {
      "text/plain": [
       "0.5"
      ]
     },
     "execution_count": 145,
     "metadata": {},
     "output_type": "execute_result"
    }
   ],
   "source": [
    "def sigmoid(x):\n",
    "    return 1/(1 + np.exp(-x))\n",
    "\n",
    "sigmoid(0)"
   ]
  },
  {
   "cell_type": "code",
   "execution_count": 146,
   "metadata": {},
   "outputs": [
    {
     "data": {
      "text/plain": [
       "0.000910221180121784"
      ]
     },
     "execution_count": 146,
     "metadata": {},
     "output_type": "execute_result"
    }
   ],
   "source": [
    "def S_diff(x):\n",
    "\n",
    "    a = (sigmoid(x)) * (1-sigmoid(x))\n",
    "\n",
    "    return a\n",
    "\n",
    "S_diff(7)"
   ]
  },
  {
   "cell_type": "markdown",
   "metadata": {},
   "source": [
    "# Forward Propagation"
   ]
  },
  {
   "cell_type": "code",
   "execution_count": 147,
   "metadata": {},
   "outputs": [
    {
     "data": {
      "text/plain": [
       "array([0.40610652, 0.58194192, 0.51293401, 0.68191413])"
      ]
     },
     "execution_count": 147,
     "metadata": {},
     "output_type": "execute_result"
    }
   ],
   "source": [
    "y3 = sigmoid((x1*w13 + x2*w23) - theta3)\n",
    "y3"
   ]
  },
  {
   "cell_type": "code",
   "execution_count": 148,
   "metadata": {},
   "outputs": [
    {
     "data": {
      "text/plain": [
       "array([0.29961468, 0.41963617, 0.39426746, 0.52384621])"
      ]
     },
     "execution_count": 148,
     "metadata": {},
     "output_type": "execute_result"
    }
   ],
   "source": [
    "y4 = sigmoid((x1*w14 + x2*w24) - theta4)\n",
    "y4"
   ]
  },
  {
   "cell_type": "code",
   "execution_count": 149,
   "metadata": {},
   "outputs": [
    {
     "data": {
      "text/plain": [
       "array([0.51452017, 0.57158714, 0.55187357, 0.60735973])"
      ]
     },
     "execution_count": 149,
     "metadata": {},
     "output_type": "execute_result"
    }
   ],
   "source": [
    "y5 = sigmoid((y3*w35 + y4*w45) - theta5)\n",
    "y5"
   ]
  },
  {
   "cell_type": "markdown",
   "metadata": {},
   "source": [
    "# Error Calculation"
   ]
  },
  {
   "cell_type": "code",
   "execution_count": 150,
   "metadata": {},
   "outputs": [
    {
     "data": {
      "text/plain": [
       "array([-0.51452017,  0.42841286,  0.44812643, -0.60735973])"
      ]
     },
     "execution_count": 150,
     "metadata": {},
     "output_type": "execute_result"
    }
   ],
   "source": [
    "error = yd - y5\n",
    "error"
   ]
  },
  {
   "cell_type": "markdown",
   "metadata": {},
   "source": [
    "# Backpropagation"
   ]
  },
  {
   "cell_type": "code",
   "execution_count": 151,
   "metadata": {},
   "outputs": [
    {
     "data": {
      "text/plain": [
       "array([-0.12047895,  0.09881044,  0.10391643, -0.13865502])"
      ]
     },
     "execution_count": 151,
     "metadata": {},
     "output_type": "execute_result"
    }
   ],
   "source": [
    "delta5 = S_diff(y5) * error\n",
    "delta5"
   ]
  },
  {
   "cell_type": "code",
   "execution_count": 152,
   "metadata": {},
   "outputs": [
    {
     "data": {
      "text/plain": [
       "array([-0.01391805,  0.01117377,  0.01181116, -0.01530571])"
      ]
     },
     "execution_count": 152,
     "metadata": {},
     "output_type": "execute_result"
    }
   ],
   "source": [
    "delta4 = w45 * delta5 * S_diff(y4)\n",
    "delta4"
   ]
  },
  {
   "cell_type": "code",
   "execution_count": 153,
   "metadata": {},
   "outputs": [
    {
     "data": {
      "text/plain": [
       "array([-0.02853017,  0.02242429,  0.0240217 , -0.03051931])"
      ]
     },
     "execution_count": 153,
     "metadata": {},
     "output_type": "execute_result"
    }
   ],
   "source": [
    "delta3 = w35 * delta5 * S_diff(y3)\n",
    "delta3"
   ]
  },
  {
   "cell_type": "markdown",
   "metadata": {},
   "source": [
    "# Parameter Updates"
   ]
  },
  {
   "cell_type": "code",
   "execution_count": 154,
   "metadata": {},
   "outputs": [
    {
     "data": {
      "text/plain": [
       "0.556749373622459"
      ]
     },
     "execution_count": 154,
     "metadata": {},
     "output_type": "execute_result"
    }
   ],
   "source": [
    "alpha = np.random.uniform(0, 1)\n",
    "alpha"
   ]
  },
  {
   "cell_type": "code",
   "execution_count": 155,
   "metadata": {},
   "outputs": [],
   "source": [
    "delta_w35 = alpha * y3 * delta5\n",
    "\n",
    "delta_w45 = alpha * y4 * delta5\n",
    "\n",
    "delta_w13 = alpha * x1 * delta3\n",
    "\n",
    "delta_w23 = alpha * x2 * delta3\n",
    "\n",
    "delta_w14 = alpha * x1 * delta4\n",
    "\n",
    "delta_w24 = alpha * x2 * delta4"
   ]
  },
  {
   "cell_type": "code",
   "execution_count": 156,
   "metadata": {},
   "outputs": [
    {
     "data": {
      "text/plain": [
       "array([-0.        ,  0.01248471,  0.        , -0.01699161])"
      ]
     },
     "execution_count": 156,
     "metadata": {},
     "output_type": "execute_result"
    }
   ],
   "source": [
    "delta_w23"
   ]
  },
  {
   "cell_type": "code",
   "execution_count": 157,
   "metadata": {},
   "outputs": [],
   "source": [
    "d_theta5 = alpha * (-1) * delta5\n",
    "d_theta4 = alpha * (-1) * delta4\n",
    "d_theta3 = alpha * (-1) * delta3"
   ]
  },
  {
   "cell_type": "code",
   "execution_count": 158,
   "metadata": {},
   "outputs": [
    {
     "data": {
      "text/plain": [
       "array([ 0.01588415, -0.01248471, -0.01337407,  0.01699161])"
      ]
     },
     "execution_count": 158,
     "metadata": {},
     "output_type": "execute_result"
    }
   ],
   "source": [
    "d_theta3"
   ]
  },
  {
   "cell_type": "markdown",
   "metadata": {},
   "source": [
    "## Epoch 2"
   ]
  },
  {
   "cell_type": "code",
   "execution_count": 160,
   "metadata": {},
   "outputs": [],
   "source": [
    "w35 = delta_w35 + w35\n",
    "\n",
    "w45 = delta_w45 + w45\n",
    "\n",
    "w13 = delta_w13 + w13\n",
    "\n",
    "w23 = delta_w23 + w23\n",
    "\n",
    "w14 = delta_w14 + w14\n",
    "\n",
    "w24 = delta_w24 + w24"
   ]
  },
  {
   "cell_type": "code",
   "execution_count": 161,
   "metadata": {},
   "outputs": [],
   "source": [
    "theta5 = d_theta5 + theta5\n",
    "theta4 = d_theta4 + theta4\n",
    "theta3 = d_theta3 + theta3"
   ]
  },
  {
   "cell_type": "markdown",
   "metadata": {},
   "source": [
    "# Forward Propagation with adjusted parameters"
   ]
  },
  {
   "cell_type": "code",
   "execution_count": 162,
   "metadata": {},
   "outputs": [
    {
     "data": {
      "text/plain": [
       "array([0.4022813 , 0.5880039 , 0.51961386, 0.67075627])"
      ]
     },
     "execution_count": 162,
     "metadata": {},
     "output_type": "execute_result"
    }
   ],
   "source": [
    "y3 = sigmoid((x1*w13 + x2*w23) - theta3)\n",
    "y3"
   ]
  },
  {
   "cell_type": "code",
   "execution_count": 163,
   "metadata": {},
   "outputs": [
    {
     "data": {
      "text/plain": [
       "array([0.29799114, 0.4226693 , 0.39741269, 0.51746612])"
      ]
     },
     "execution_count": 163,
     "metadata": {},
     "output_type": "execute_result"
    }
   ],
   "source": [
    "y4 = sigmoid((x1*w14 + x2*w24) - theta4)\n",
    "y4"
   ]
  },
  {
   "cell_type": "code",
   "execution_count": 164,
   "metadata": {},
   "outputs": [
    {
     "data": {
      "text/plain": [
       "array([0.49238345, 0.59371379, 0.57411546, 0.57169512])"
      ]
     },
     "execution_count": 164,
     "metadata": {},
     "output_type": "execute_result"
    }
   ],
   "source": [
    "y5 = sigmoid((y3*w35 + y4*w45) - theta5)\n",
    "y5"
   ]
  },
  {
   "cell_type": "code",
   "execution_count": 165,
   "metadata": {},
   "outputs": [
    {
     "data": {
      "text/plain": [
       "array([-0.49238345,  0.40628621,  0.42588454, -0.57169512])"
      ]
     },
     "execution_count": 165,
     "metadata": {},
     "output_type": "execute_result"
    }
   ],
   "source": [
    "error2 = yd - y5\n",
    "error2"
   ]
  },
  {
   "cell_type": "code",
   "execution_count": 166,
   "metadata": {},
   "outputs": [
    {
     "data": {
      "text/plain": [
       "array([-0.51452017,  0.42841286,  0.44812643, -0.60735973])"
      ]
     },
     "execution_count": 166,
     "metadata": {},
     "output_type": "execute_result"
    }
   ],
   "source": [
    "error"
   ]
  },
  {
   "cell_type": "markdown",
   "metadata": {},
   "source": [
    "## Epoch 3"
   ]
  },
  {
   "cell_type": "code",
   "execution_count": null,
   "metadata": {},
   "outputs": [],
   "source": [
    "w35 = delta_w35 + w35\n",
    "\n",
    "w45 = delta_w45 + w45\n",
    "\n",
    "w13 = delta_w13 + w13\n",
    "\n",
    "w23 = delta_w23 + w23\n",
    "\n",
    "w14 = delta_w14 + w14\n",
    "\n",
    "w24 = delta_w24 + w24"
   ]
  },
  {
   "cell_type": "code",
   "execution_count": null,
   "metadata": {},
   "outputs": [],
   "source": [
    "theta5 = d_theta5 + theta5\n",
    "theta4 = d_theta4 + theta4\n",
    "theta3 = d_theta3 + theta3"
   ]
  }
 ],
 "metadata": {
  "interpreter": {
   "hash": "7241d452e4e494699ef50a37887ed5c1dce1b126e013039f65d546903dedebae"
  },
  "kernelspec": {
   "display_name": "Python 3.9.7 64-bit",
   "language": "python",
   "name": "python3"
  },
  "language_info": {
   "codemirror_mode": {
    "name": "ipython",
    "version": 3
   },
   "file_extension": ".py",
   "mimetype": "text/x-python",
   "name": "python",
   "nbconvert_exporter": "python",
   "pygments_lexer": "ipython3",
   "version": "3.9.7"
  },
  "orig_nbformat": 4
 },
 "nbformat": 4,
 "nbformat_minor": 2
}
